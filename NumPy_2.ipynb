{
 "cells": [
  {
   "cell_type": "markdown",
   "id": "8e21eddf",
   "metadata": {},
   "source": [
    "# Indexing in NumPy\n",
    "Indexing can be used to find the position of the elements in an array."
   ]
  },
  {
   "cell_type": "code",
   "execution_count": 1,
   "id": "d851d75b",
   "metadata": {},
   "outputs": [
    {
     "name": "stdout",
     "output_type": "stream",
     "text": [
      "[2 4 6 8 3 1 9]\n"
     ]
    }
   ],
   "source": [
    "import numpy as np\n",
    "a=np.array([2,4,6,8,3,1,9])\n",
    "print(a)"
   ]
  },
  {
   "cell_type": "markdown",
   "id": "7efb2d81",
   "metadata": {},
   "source": [
    "# Indexing for 1-D array:"
   ]
  },
  {
   "cell_type": "markdown",
   "id": "7ec41f95",
   "metadata": {},
   "source": [
    "# Positive Indexing:"
   ]
  },
  {
   "cell_type": "code",
   "execution_count": 2,
   "id": "6c476dd2",
   "metadata": {},
   "outputs": [
    {
     "name": "stdout",
     "output_type": "stream",
     "text": [
      "2\n"
     ]
    }
   ],
   "source": [
    "print(a[0])"
   ]
  },
  {
   "cell_type": "code",
   "execution_count": 3,
   "id": "d3e97ae9",
   "metadata": {},
   "outputs": [
    {
     "name": "stdout",
     "output_type": "stream",
     "text": [
      "6\n"
     ]
    }
   ],
   "source": [
    "print(a[2])"
   ]
  },
  {
   "cell_type": "code",
   "execution_count": 4,
   "id": "71b5ee48",
   "metadata": {},
   "outputs": [
    {
     "name": "stdout",
     "output_type": "stream",
     "text": [
      "9\n"
     ]
    }
   ],
   "source": [
    "print(a[6])"
   ]
  },
  {
   "cell_type": "code",
   "execution_count": 5,
   "id": "31d175af",
   "metadata": {},
   "outputs": [
    {
     "name": "stdout",
     "output_type": "stream",
     "text": [
      "4\n"
     ]
    }
   ],
   "source": [
    "print(a[1])"
   ]
  },
  {
   "cell_type": "markdown",
   "id": "aa6b9f5a",
   "metadata": {},
   "source": [
    "# Negative Indexing:"
   ]
  },
  {
   "cell_type": "code",
   "execution_count": 6,
   "id": "0ce5f0f5",
   "metadata": {},
   "outputs": [
    {
     "name": "stdout",
     "output_type": "stream",
     "text": [
      "9\n"
     ]
    }
   ],
   "source": [
    "print(a[-1])"
   ]
  },
  {
   "cell_type": "code",
   "execution_count": 7,
   "id": "86bda9f1",
   "metadata": {},
   "outputs": [
    {
     "name": "stdout",
     "output_type": "stream",
     "text": [
      "8\n"
     ]
    }
   ],
   "source": [
    "print(a[-4])"
   ]
  },
  {
   "cell_type": "code",
   "execution_count": 8,
   "id": "ecdc3154",
   "metadata": {},
   "outputs": [
    {
     "name": "stdout",
     "output_type": "stream",
     "text": [
      "2\n"
     ]
    }
   ],
   "source": [
    "print(a[-7])"
   ]
  },
  {
   "cell_type": "markdown",
   "id": "11281ceb",
   "metadata": {},
   "source": [
    "# Indexing for 2-D array:"
   ]
  },
  {
   "cell_type": "markdown",
   "id": "f955bc9c",
   "metadata": {},
   "source": [
    "# Positive Indexing:"
   ]
  },
  {
   "cell_type": "code",
   "execution_count": 16,
   "id": "50d566e0",
   "metadata": {},
   "outputs": [
    {
     "name": "stdout",
     "output_type": "stream",
     "text": [
      "[[20 40 60]\n",
      " [10 30 50]]\n"
     ]
    }
   ],
   "source": [
    "import numpy as np\n",
    "b = np.array([[20,40,60],[10,30,50]])\n",
    "print(b)"
   ]
  },
  {
   "cell_type": "code",
   "execution_count": 17,
   "id": "538f0690",
   "metadata": {},
   "outputs": [
    {
     "name": "stdout",
     "output_type": "stream",
     "text": [
      "40\n"
     ]
    }
   ],
   "source": [
    "print(b[0,1])"
   ]
  },
  {
   "cell_type": "code",
   "execution_count": 18,
   "id": "4393b79e",
   "metadata": {},
   "outputs": [
    {
     "name": "stdout",
     "output_type": "stream",
     "text": [
      "60\n"
     ]
    }
   ],
   "source": [
    "print(b[0,2])"
   ]
  },
  {
   "cell_type": "code",
   "execution_count": 19,
   "id": "289e9f97",
   "metadata": {},
   "outputs": [
    {
     "name": "stdout",
     "output_type": "stream",
     "text": [
      "30\n"
     ]
    }
   ],
   "source": [
    "print(b[1,1])"
   ]
  },
  {
   "cell_type": "code",
   "execution_count": 20,
   "id": "cdd5e640",
   "metadata": {},
   "outputs": [
    {
     "name": "stdout",
     "output_type": "stream",
     "text": [
      "10\n"
     ]
    }
   ],
   "source": [
    "print(b[1,0])"
   ]
  },
  {
   "cell_type": "code",
   "execution_count": 21,
   "id": "82db5330",
   "metadata": {},
   "outputs": [
    {
     "name": "stdout",
     "output_type": "stream",
     "text": [
      "50\n"
     ]
    }
   ],
   "source": [
    "print(b[1,2])"
   ]
  },
  {
   "cell_type": "markdown",
   "id": "1a453852",
   "metadata": {},
   "source": [
    "# Indexing for 3-D array:"
   ]
  },
  {
   "cell_type": "markdown",
   "id": "b254b54c",
   "metadata": {},
   "source": [
    "# Positive Indexing:"
   ]
  },
  {
   "cell_type": "code",
   "execution_count": 22,
   "id": "79056c5b",
   "metadata": {},
   "outputs": [
    {
     "name": "stdout",
     "output_type": "stream",
     "text": [
      "[[[10 40 80]\n",
      "  [20 60 70]]\n",
      "\n",
      " [[30 50 90]\n",
      "  [25 63 79]]]\n"
     ]
    }
   ],
   "source": [
    "import numpy as np\n",
    "c = np.array([[[10,40,80],[20,60,70]],[[30,50,90],[25,63,79]]])\n",
    "print(c)"
   ]
  },
  {
   "cell_type": "code",
   "execution_count": 23,
   "id": "77e64e98",
   "metadata": {},
   "outputs": [
    {
     "name": "stdout",
     "output_type": "stream",
     "text": [
      "80\n"
     ]
    }
   ],
   "source": [
    "print(c[0,0,2])"
   ]
  },
  {
   "cell_type": "code",
   "execution_count": 24,
   "id": "f5c56e28",
   "metadata": {},
   "outputs": [
    {
     "name": "stdout",
     "output_type": "stream",
     "text": [
      "50\n"
     ]
    }
   ],
   "source": [
    "print(c[1,0,1])"
   ]
  },
  {
   "cell_type": "code",
   "execution_count": 25,
   "id": "ebcf44db",
   "metadata": {},
   "outputs": [
    {
     "name": "stdout",
     "output_type": "stream",
     "text": [
      "20\n"
     ]
    }
   ],
   "source": [
    "print(c[0,1,0])"
   ]
  },
  {
   "cell_type": "code",
   "execution_count": 26,
   "id": "047bd9ff",
   "metadata": {},
   "outputs": [
    {
     "name": "stdout",
     "output_type": "stream",
     "text": [
      "79\n"
     ]
    }
   ],
   "source": [
    "print(c[1,1,2])"
   ]
  },
  {
   "cell_type": "code",
   "execution_count": 27,
   "id": "c27aefcf",
   "metadata": {},
   "outputs": [
    {
     "name": "stdout",
     "output_type": "stream",
     "text": [
      "63\n"
     ]
    }
   ],
   "source": [
    "print(c[1,1,1])"
   ]
  },
  {
   "cell_type": "code",
   "execution_count": 28,
   "id": "476e3dd9",
   "metadata": {},
   "outputs": [
    {
     "name": "stdout",
     "output_type": "stream",
     "text": [
      "40\n"
     ]
    }
   ],
   "source": [
    "print(c[0,0,1])"
   ]
  },
  {
   "cell_type": "code",
   "execution_count": 29,
   "id": "a95e5e7b",
   "metadata": {},
   "outputs": [
    {
     "name": "stdout",
     "output_type": "stream",
     "text": [
      "90\n"
     ]
    }
   ],
   "source": [
    "print(c[1,0,2])"
   ]
  },
  {
   "cell_type": "code",
   "execution_count": 30,
   "id": "ce1b2c20",
   "metadata": {},
   "outputs": [
    {
     "name": "stdout",
     "output_type": "stream",
     "text": [
      "79\n"
     ]
    }
   ],
   "source": [
    "print(c[-1,-1,-1])"
   ]
  },
  {
   "cell_type": "markdown",
   "id": "3f9865f6",
   "metadata": {},
   "source": [
    "# Slicing in NUmPy"
   ]
  },
  {
   "cell_type": "markdown",
   "id": "4dccb032",
   "metadata": {},
   "source": [
    "slicing can be used to extract some portion of elements.\n",
    "\n",
    "[Start Index:Stop Index:Step Size]"
   ]
  },
  {
   "cell_type": "markdown",
   "id": "04d53fe1",
   "metadata": {},
   "source": [
    "start Index - By default - zero(0)\n",
    "\n",
    "stop Index - By DEfault - length of array\n",
    "\n",
    "step size - By Default - one(1)\n",
    "\n",
    "start index includes\n",
    "stop index excludes"
   ]
  },
  {
   "cell_type": "markdown",
   "id": "ff2dd7e3",
   "metadata": {},
   "source": [
    "# Slicing of 1-D array:"
   ]
  },
  {
   "cell_type": "code",
   "execution_count": 2,
   "id": "8437e501",
   "metadata": {},
   "outputs": [
    {
     "name": "stdout",
     "output_type": "stream",
     "text": [
      "[25 35 45 55 65 75]\n"
     ]
    }
   ],
   "source": [
    "import numpy as np\n",
    "d = np.array([25,35,45,55,65,75])\n",
    "print(d)"
   ]
  },
  {
   "cell_type": "code",
   "execution_count": 3,
   "id": "be120c8f",
   "metadata": {},
   "outputs": [
    {
     "name": "stdout",
     "output_type": "stream",
     "text": [
      "25 to 75: [25 35 45 55 65 75]\n"
     ]
    }
   ],
   "source": [
    "print(\"25 to 75:\",d[0:6:1])"
   ]
  },
  {
   "cell_type": "code",
   "execution_count": 4,
   "id": "9f63eac2",
   "metadata": {},
   "outputs": [
    {
     "name": "stdout",
     "output_type": "stream",
     "text": [
      "45 to 65: [45 55 65]\n"
     ]
    }
   ],
   "source": [
    "print(\"45 to 65:\",d[2:5])"
   ]
  },
  {
   "cell_type": "code",
   "execution_count": 40,
   "id": "1c65274f",
   "metadata": {},
   "outputs": [
    {
     "name": "stdout",
     "output_type": "stream",
     "text": [
      "[45 65]\n"
     ]
    }
   ],
   "source": [
    "print(d[2:5:2])"
   ]
  },
  {
   "cell_type": "code",
   "execution_count": 41,
   "id": "d9b74892",
   "metadata": {},
   "outputs": [
    {
     "name": "stdout",
     "output_type": "stream",
     "text": [
      "[35 45 55]\n"
     ]
    }
   ],
   "source": [
    "print(d[1:4])"
   ]
  },
  {
   "cell_type": "code",
   "execution_count": 42,
   "id": "3cf2fcc2",
   "metadata": {},
   "outputs": [
    {
     "name": "stdout",
     "output_type": "stream",
     "text": [
      "[25 45 65]\n"
     ]
    }
   ],
   "source": [
    "print(d[0:6:2])"
   ]
  },
  {
   "cell_type": "code",
   "execution_count": 5,
   "id": "96220da6",
   "metadata": {},
   "outputs": [
    {
     "name": "stdout",
     "output_type": "stream",
     "text": [
      "[25 35 45 55 65 75]\n"
     ]
    }
   ],
   "source": [
    "print(d[:])"
   ]
  },
  {
   "cell_type": "code",
   "execution_count": 7,
   "id": "25836bb2",
   "metadata": {},
   "outputs": [
    {
     "name": "stdout",
     "output_type": "stream",
     "text": [
      "[25 35 45 55 65 75]\n"
     ]
    }
   ],
   "source": [
    "print(d[0:])"
   ]
  },
  {
   "cell_type": "code",
   "execution_count": 8,
   "id": "8b12cd97",
   "metadata": {},
   "outputs": [
    {
     "name": "stdout",
     "output_type": "stream",
     "text": [
      "[45 55 65 75]\n"
     ]
    }
   ],
   "source": [
    "print(d[2:])"
   ]
  },
  {
   "cell_type": "markdown",
   "id": "2f3fc5f4",
   "metadata": {},
   "source": [
    "# Slicing of 2-D array:"
   ]
  },
  {
   "cell_type": "markdown",
   "id": "d2b55ffc",
   "metadata": {},
   "source": [
    "# Slicing:[row-lower:row-upper, col-lower:col-upper]"
   ]
  },
  {
   "cell_type": "code",
   "execution_count": 43,
   "id": "49500f4c",
   "metadata": {},
   "outputs": [
    {
     "name": "stdout",
     "output_type": "stream",
     "text": [
      "[[10 30 50]\n",
      " [60 70 80]]\n"
     ]
    }
   ],
   "source": [
    "import numpy as np\n",
    "e = np.array([[10,30,50],[60,70,80]])\n",
    "print(e)"
   ]
  },
  {
   "cell_type": "code",
   "execution_count": 45,
   "id": "41c77ce5",
   "metadata": {},
   "outputs": [
    {
     "name": "stdout",
     "output_type": "stream",
     "text": [
      "[10 30 50]\n"
     ]
    }
   ],
   "source": [
    "print(e[0,0:3])"
   ]
  },
  {
   "cell_type": "code",
   "execution_count": 46,
   "id": "a56722c1",
   "metadata": {},
   "outputs": [
    {
     "name": "stdout",
     "output_type": "stream",
     "text": [
      "[70 80]\n"
     ]
    }
   ],
   "source": [
    "print(e[1,1:3])"
   ]
  },
  {
   "cell_type": "code",
   "execution_count": 47,
   "id": "7d211872",
   "metadata": {},
   "outputs": [
    {
     "name": "stdout",
     "output_type": "stream",
     "text": [
      "[[10 30]\n",
      " [60 70]]\n"
     ]
    }
   ],
   "source": [
    "print(e[0:2,0:2])"
   ]
  },
  {
   "cell_type": "code",
   "execution_count": 49,
   "id": "1ae32be1",
   "metadata": {},
   "outputs": [
    {
     "name": "stdout",
     "output_type": "stream",
     "text": [
      "[[10 30 50 60]\n",
      " [90 70 80 20]]\n"
     ]
    }
   ],
   "source": [
    "import numpy as np\n",
    "f = np.array([[10,30,50,60],[90,70,80,20]])\n",
    "print(f)"
   ]
  },
  {
   "cell_type": "code",
   "execution_count": 55,
   "id": "c3d9f740",
   "metadata": {},
   "outputs": [
    {
     "name": "stdout",
     "output_type": "stream",
     "text": [
      "[10]\n"
     ]
    }
   ],
   "source": [
    "print(f[0:4:2,0])"
   ]
  },
  {
   "cell_type": "code",
   "execution_count": 56,
   "id": "795da167",
   "metadata": {},
   "outputs": [
    {
     "name": "stdout",
     "output_type": "stream",
     "text": [
      "[70 80 20]\n"
     ]
    }
   ],
   "source": [
    "print(f[1,1:4])"
   ]
  },
  {
   "cell_type": "code",
   "execution_count": 58,
   "id": "8764727f",
   "metadata": {},
   "outputs": [
    {
     "name": "stdout",
     "output_type": "stream",
     "text": [
      "[30 50]\n"
     ]
    }
   ],
   "source": [
    "print(f[0,1:3])"
   ]
  },
  {
   "cell_type": "code",
   "execution_count": 59,
   "id": "180380ae",
   "metadata": {},
   "outputs": [
    {
     "name": "stdout",
     "output_type": "stream",
     "text": [
      "[70]\n"
     ]
    }
   ],
   "source": [
    "print(f[1,1:2])"
   ]
  },
  {
   "cell_type": "code",
   "execution_count": 10,
   "id": "83af3f53",
   "metadata": {},
   "outputs": [
    {
     "name": "stdout",
     "output_type": "stream",
     "text": [
      "[[20 40 60]\n",
      " [10 30 50]\n",
      " [70 80 90]]\n"
     ]
    }
   ],
   "source": [
    "import numpy as np\n",
    "l = [[20,40,60],[10,30,50],[70,80,90]]\n",
    "arr=np.array(l)\n",
    "print(arr)"
   ]
  },
  {
   "cell_type": "code",
   "execution_count": 15,
   "id": "be48bb3b",
   "metadata": {},
   "outputs": [
    {
     "name": "stdout",
     "output_type": "stream",
     "text": [
      "[[20 40 60]\n",
      " [10 30 50]\n",
      " [70 80 90]]\n"
     ]
    }
   ],
   "source": [
    "arr_1 = arr[0:3, 0:3]\n",
    "print(arr_1)"
   ]
  },
  {
   "cell_type": "code",
   "execution_count": 5,
   "id": "cc22c40e",
   "metadata": {},
   "outputs": [
    {
     "name": "stdout",
     "output_type": "stream",
     "text": [
      "[[20 40 60]\n",
      " [10 30 50]]\n"
     ]
    }
   ],
   "source": [
    "arr_2 = arr[0:2, 0:3]\n",
    "print(arr_2)"
   ]
  },
  {
   "cell_type": "code",
   "execution_count": 6,
   "id": "d5054c5d",
   "metadata": {},
   "outputs": [
    {
     "name": "stdout",
     "output_type": "stream",
     "text": [
      "[[20 40]\n",
      " [10 30]\n",
      " [70 80]]\n"
     ]
    }
   ],
   "source": [
    "arr_3 = arr[0:3, 0:2]\n",
    "print(arr_3)"
   ]
  },
  {
   "cell_type": "code",
   "execution_count": 7,
   "id": "fdd2fb8a",
   "metadata": {},
   "outputs": [
    {
     "name": "stdout",
     "output_type": "stream",
     "text": [
      "[[30 50]\n",
      " [80 90]]\n"
     ]
    }
   ],
   "source": [
    "arr_4 = arr[1:3, 1:3]\n",
    "print(arr_4)"
   ]
  },
  {
   "cell_type": "code",
   "execution_count": 9,
   "id": "57d6c5a1",
   "metadata": {},
   "outputs": [
    {
     "name": "stdout",
     "output_type": "stream",
     "text": [
      "[[20 40 60]\n",
      " [10 30 50]\n",
      " [70 80 90]]\n"
     ]
    }
   ],
   "source": [
    "arr_5 = arr[:,:]\n",
    "print(arr_5)"
   ]
  },
  {
   "cell_type": "code",
   "execution_count": 11,
   "id": "df152147",
   "metadata": {},
   "outputs": [
    {
     "name": "stdout",
     "output_type": "stream",
     "text": [
      "[30 50]\n"
     ]
    }
   ],
   "source": [
    "arr_6 = arr[1,1:]\n",
    "print(arr_6)"
   ]
  },
  {
   "cell_type": "code",
   "execution_count": 12,
   "id": "4411730b",
   "metadata": {},
   "outputs": [
    {
     "name": "stdout",
     "output_type": "stream",
     "text": [
      "[80 90]\n"
     ]
    }
   ],
   "source": [
    "arr_7 = arr[2,1:]\n",
    "print(arr_7)"
   ]
  },
  {
   "cell_type": "code",
   "execution_count": 16,
   "id": "70042ec0",
   "metadata": {},
   "outputs": [
    {
     "name": "stdout",
     "output_type": "stream",
     "text": [
      "[[20 60]\n",
      " [70 90]]\n"
     ]
    }
   ],
   "source": [
    "arr_8 = arr[0:3:2, 0:3:2]\n",
    "print(arr_8)"
   ]
  },
  {
   "cell_type": "code",
   "execution_count": 18,
   "id": "72a906b3",
   "metadata": {},
   "outputs": [
    {
     "name": "stdout",
     "output_type": "stream",
     "text": [
      "[[20 60]\n",
      " [10 50]\n",
      " [70 90]]\n"
     ]
    }
   ],
   "source": [
    "arr_9 = arr[0:3:, 0:3:2]\n",
    "print(arr_9)"
   ]
  },
  {
   "cell_type": "code",
   "execution_count": 19,
   "id": "8fc91eb4",
   "metadata": {},
   "outputs": [
    {
     "name": "stdout",
     "output_type": "stream",
     "text": [
      "[[20 40 60]\n",
      " [10 30 50]\n",
      " [70 80 90]]\n"
     ]
    }
   ],
   "source": [
    "arr_10 = arr[0:3:, 0:3:]\n",
    "print(arr_10)"
   ]
  },
  {
   "cell_type": "markdown",
   "id": "85779114",
   "metadata": {},
   "source": [
    "# Slicing of 3-D array:"
   ]
  },
  {
   "cell_type": "code",
   "execution_count": 60,
   "id": "cb0e8d56",
   "metadata": {},
   "outputs": [
    {
     "name": "stdout",
     "output_type": "stream",
     "text": [
      "[[[20 40 60 80]\n",
      "  [43 76 89 74]]\n",
      "\n",
      " [[23 84 29 75]\n",
      "  [19 63 27 92]]]\n"
     ]
    }
   ],
   "source": [
    "import numpy as np\n",
    "g = np.array([[[20,40,60,80],[43,76,89,74]],[[23,84,29,75],[19,63,27,92]]])\n",
    "print(g)"
   ]
  },
  {
   "cell_type": "code",
   "execution_count": 61,
   "id": "4523e57a",
   "metadata": {},
   "outputs": [
    {
     "name": "stdout",
     "output_type": "stream",
     "text": [
      "[20 40 60 80]\n"
     ]
    }
   ],
   "source": [
    "print(g[0,0,0:4])"
   ]
  },
  {
   "cell_type": "code",
   "execution_count": 62,
   "id": "0a8b2a70",
   "metadata": {},
   "outputs": [
    {
     "name": "stdout",
     "output_type": "stream",
     "text": [
      "[76 89 74]\n"
     ]
    }
   ],
   "source": [
    "print(g[0,1,1:4])"
   ]
  },
  {
   "cell_type": "code",
   "execution_count": 63,
   "id": "7115f1ae",
   "metadata": {},
   "outputs": [
    {
     "name": "stdout",
     "output_type": "stream",
     "text": [
      "[40]\n"
     ]
    }
   ],
   "source": [
    "print(g[0,0,1:2])"
   ]
  },
  {
   "cell_type": "code",
   "execution_count": 64,
   "id": "7970429e",
   "metadata": {},
   "outputs": [
    {
     "name": "stdout",
     "output_type": "stream",
     "text": [
      "[76 89]\n"
     ]
    }
   ],
   "source": [
    "print(g[0,1,1:3])"
   ]
  },
  {
   "cell_type": "code",
   "execution_count": 65,
   "id": "3701d17e",
   "metadata": {},
   "outputs": [
    {
     "name": "stdout",
     "output_type": "stream",
     "text": [
      "[43 76 89]\n"
     ]
    }
   ],
   "source": [
    "print(g[0,1,0:3])"
   ]
  },
  {
   "cell_type": "code",
   "execution_count": 66,
   "id": "9b12693d",
   "metadata": {},
   "outputs": [
    {
     "name": "stdout",
     "output_type": "stream",
     "text": [
      "[63 27 92]\n"
     ]
    }
   ],
   "source": [
    "print(g[1,1,1:4])"
   ]
  },
  {
   "cell_type": "code",
   "execution_count": 67,
   "id": "d79b23b9",
   "metadata": {},
   "outputs": [
    {
     "name": "stdout",
     "output_type": "stream",
     "text": [
      "[23 84 29]\n"
     ]
    }
   ],
   "source": [
    "print(g[1,0,0:3])"
   ]
  },
  {
   "cell_type": "code",
   "execution_count": 68,
   "id": "2fa53658",
   "metadata": {},
   "outputs": [
    {
     "name": "stdout",
     "output_type": "stream",
     "text": [
      "63\n"
     ]
    }
   ],
   "source": [
    "print(g[1,1,1])"
   ]
  },
  {
   "cell_type": "code",
   "execution_count": 69,
   "id": "b263dd01",
   "metadata": {},
   "outputs": [
    {
     "name": "stdout",
     "output_type": "stream",
     "text": [
      "40\n"
     ]
    }
   ],
   "source": [
    "print(g[0,0,1])"
   ]
  },
  {
   "cell_type": "code",
   "execution_count": 70,
   "id": "e67f71dd",
   "metadata": {},
   "outputs": [
    {
     "name": "stdout",
     "output_type": "stream",
     "text": [
      "[63]\n"
     ]
    }
   ],
   "source": [
    "print(g[1,1,1:2])"
   ]
  },
  {
   "cell_type": "code",
   "execution_count": 72,
   "id": "98c78eca",
   "metadata": {},
   "outputs": [
    {
     "name": "stdout",
     "output_type": "stream",
     "text": [
      "[20 40 60 80]\n"
     ]
    }
   ],
   "source": [
    "print(g[0,0])"
   ]
  },
  {
   "cell_type": "code",
   "execution_count": 73,
   "id": "c108e7c1",
   "metadata": {},
   "outputs": [
    {
     "name": "stdout",
     "output_type": "stream",
     "text": [
      "[19 63 27 92]\n"
     ]
    }
   ],
   "source": [
    "print(g[1,1])"
   ]
  },
  {
   "cell_type": "code",
   "execution_count": 75,
   "id": "e30c0771",
   "metadata": {},
   "outputs": [
    {
     "name": "stdout",
     "output_type": "stream",
     "text": [
      "[43 76 89 74]\n"
     ]
    }
   ],
   "source": [
    "print(g[0,1])"
   ]
  },
  {
   "cell_type": "code",
   "execution_count": 76,
   "id": "71eb13fd",
   "metadata": {},
   "outputs": [
    {
     "name": "stdout",
     "output_type": "stream",
     "text": [
      "[43 76 89 74]\n"
     ]
    }
   ],
   "source": [
    "print(g[0,1,0:4])"
   ]
  },
  {
   "cell_type": "code",
   "execution_count": 80,
   "id": "54aef9b8",
   "metadata": {},
   "outputs": [
    {
     "name": "stdout",
     "output_type": "stream",
     "text": [
      "[[[20 40]\n",
      "  [43 76]]\n",
      "\n",
      " [[23 84]\n",
      "  [19 63]]]\n"
     ]
    }
   ],
   "source": [
    "print(g[0:2,0:2,0:2])"
   ]
  },
  {
   "cell_type": "code",
   "execution_count": 10,
   "id": "2fdd90b5",
   "metadata": {},
   "outputs": [
    {
     "name": "stdout",
     "output_type": "stream",
     "text": [
      "Elements:\n",
      "20\n",
      "40\n",
      "60\n",
      "80\n",
      "100\n"
     ]
    }
   ],
   "source": [
    "import numpy as np\n",
    "l2 = [20,40,60,80,100]\n",
    "arr_6 = np.array(l2)\n",
    "print(\"Elements:\")\n",
    "for ele in arr_6:\n",
    "    print(ele)"
   ]
  },
  {
   "cell_type": "markdown",
   "id": "e7e8388f",
   "metadata": {},
   "source": [
    "# Iterating NumPy Arrays"
   ]
  },
  {
   "cell_type": "code",
   "execution_count": 13,
   "id": "fe86bf1d",
   "metadata": {},
   "outputs": [
    {
     "name": "stdout",
     "output_type": "stream",
     "text": [
      "Elements:\n",
      "[20 40 60]\n",
      "[ 80 100 120]\n",
      "[140 160 180]\n"
     ]
    }
   ],
   "source": [
    "import numpy as np\n",
    "l3 = [[20,40,60],[80,100,120],[140,160,180]]\n",
    "arr_7 = np.array(l3)\n",
    "print(\"Elements:\")\n",
    "for ele in arr_7:\n",
    "    print(ele)"
   ]
  },
  {
   "cell_type": "code",
   "execution_count": 19,
   "id": "92b73272",
   "metadata": {},
   "outputs": [
    {
     "name": "stdout",
     "output_type": "stream",
     "text": [
      "Elements:\n",
      "20\n",
      "40\n",
      "60\n",
      "80\n",
      "100\n",
      "120\n",
      "140\n",
      "160\n",
      "180\n"
     ]
    }
   ],
   "source": [
    "import numpy as np\n",
    "l4 = [[20,40,60],[80,100,120],[140,160,180]]\n",
    "arr_8 = np.array(l4)\n",
    "print(\"Elements:\")\n",
    "for row in arr_8:\n",
    "    for ele in row:\n",
    "        print(ele)"
   ]
  },
  {
   "cell_type": "code",
   "execution_count": 21,
   "id": "36c408c4",
   "metadata": {},
   "outputs": [
    {
     "name": "stdout",
     "output_type": "stream",
     "text": [
      "Elements:\n",
      "20\n",
      "40\n",
      "60\n",
      "60 80\n",
      "100\n",
      "120\n",
      "120 140\n",
      "160\n",
      "180\n",
      "180 \n"
     ]
    }
   ],
   "source": [
    "import numpy as np\n",
    "l4 = [[20,40,60],[80,100,120],[140,160,180]]\n",
    "arr_8 = np.array(l4)\n",
    "print(\"Elements:\")\n",
    "for row in arr_8:\n",
    "    for ele in row:\n",
    "        print(ele)\n",
    "    print(ele,end=\" \")\n",
    "print()"
   ]
  },
  {
   "cell_type": "code",
   "execution_count": 21,
   "id": "0edecd76",
   "metadata": {},
   "outputs": [
    {
     "name": "stdout",
     "output_type": "stream",
     "text": [
      "[23, 34, 45, 56, 67, 78, 89]\n",
      "\n",
      "23\n",
      "34\n",
      "45\n",
      "56\n",
      "67\n",
      "78\n",
      "89\n"
     ]
    }
   ],
   "source": [
    "import numpy as np\n",
    "ar1 = [23,34,45,56,67,78,89]\n",
    "print(ar1)\n",
    "print()\n",
    "for i in ar1:\n",
    "    print(i)"
   ]
  },
  {
   "cell_type": "code",
   "execution_count": 24,
   "id": "1667905a",
   "metadata": {},
   "outputs": [
    {
     "name": "stdout",
     "output_type": "stream",
     "text": [
      "([23, 34, 45, 56, 67, 78], [12, 24, 36, 48, 52, 60])\n",
      "\n",
      "23\n",
      "34\n",
      "45\n",
      "56\n",
      "67\n",
      "78\n",
      "12\n",
      "24\n",
      "36\n",
      "48\n",
      "52\n",
      "60\n"
     ]
    }
   ],
   "source": [
    "import numpy as np\n",
    "ar2 = [23,34,45,56,67,78],[12,24,36,48,52,60]\n",
    "print(ar2)\n",
    "print()\n",
    "for i in ar2:\n",
    "    for j in i:\n",
    "        print(j)"
   ]
  },
  {
   "cell_type": "code",
   "execution_count": 26,
   "id": "d134c870",
   "metadata": {},
   "outputs": [
    {
     "name": "stdout",
     "output_type": "stream",
     "text": [
      "[[[23, 34, 45, 56, 67, 78], [12, 24, 36, 48, 52, 60]]]\n",
      "\n",
      "23\n",
      "34\n",
      "45\n",
      "56\n",
      "67\n",
      "78\n",
      "12\n",
      "24\n",
      "36\n",
      "48\n",
      "52\n",
      "60\n"
     ]
    }
   ],
   "source": [
    "import numpy as np\n",
    "ar3 = [[[23,34,45,56,67,78],[12,24,36,48,52,60]]]\n",
    "print(ar3)\n",
    "print()\n",
    "for i in ar3:\n",
    "    for j in i:\n",
    "        for k in j:\n",
    "            print(k)"
   ]
  },
  {
   "cell_type": "markdown",
   "id": "2c402b88",
   "metadata": {},
   "source": [
    "#   or"
   ]
  },
  {
   "cell_type": "code",
   "execution_count": 28,
   "id": "5e804113",
   "metadata": {},
   "outputs": [
    {
     "name": "stdout",
     "output_type": "stream",
     "text": [
      "[[[23 34 45 56 67 78]\n",
      "  [12 24 36 48 52 60]]]\n",
      "3\n",
      "\n",
      "23\n",
      "34\n",
      "45\n",
      "56\n",
      "67\n",
      "78\n",
      "12\n",
      "24\n",
      "36\n",
      "48\n",
      "52\n",
      "60\n"
     ]
    }
   ],
   "source": [
    "ar4 =np.array([[[23,34,45,56,67,78],[12,24,36,48,52,60]]])\n",
    "print(ar4)\n",
    "print(ar4.ndim)\n",
    "print()\n",
    "for i in np.nditer(ar4):\n",
    "    print(i)"
   ]
  },
  {
   "cell_type": "code",
   "execution_count": 32,
   "id": "81b2122f",
   "metadata": {},
   "outputs": [
    {
     "name": "stdout",
     "output_type": "stream",
     "text": [
      "[[[23 34 45 56 67 78]\n",
      "  [12 24 36 48 52 60]]]\n",
      "3\n",
      "\n",
      "b'23'\n",
      "b'34'\n",
      "b'45'\n",
      "b'56'\n",
      "b'67'\n",
      "b'78'\n",
      "b'12'\n",
      "b'24'\n",
      "b'36'\n",
      "b'48'\n",
      "b'52'\n",
      "b'60'\n"
     ]
    }
   ],
   "source": [
    "ar5=np.array([[[23,34,45,56,67,78],[12,24,36,48,52,60]]])\n",
    "print(ar5)\n",
    "print(ar5.ndim)\n",
    "print()\n",
    "for i in np.nditer(ar5,flags=['buffered'],op_dtypes=['S']):\n",
    "    print(i)"
   ]
  },
  {
   "cell_type": "code",
   "execution_count": 33,
   "id": "8827cee7",
   "metadata": {},
   "outputs": [
    {
     "name": "stdout",
     "output_type": "stream",
     "text": [
      "[[[23 34 45 56 67 78]\n",
      "  [12 24 36 48 52 60]]]\n",
      "3\n",
      "\n",
      "(0, 0, 0) 23\n",
      "(0, 0, 1) 34\n",
      "(0, 0, 2) 45\n",
      "(0, 0, 3) 56\n",
      "(0, 0, 4) 67\n",
      "(0, 0, 5) 78\n",
      "(0, 1, 0) 12\n",
      "(0, 1, 1) 24\n",
      "(0, 1, 2) 36\n",
      "(0, 1, 3) 48\n",
      "(0, 1, 4) 52\n",
      "(0, 1, 5) 60\n"
     ]
    }
   ],
   "source": [
    "ar6=np.array([[[23,34,45,56,67,78],[12,24,36,48,52,60]]])\n",
    "print(ar6)\n",
    "print(ar6.ndim)\n",
    "print()\n",
    "for i,d in np.ndenumerate(ar6):\n",
    "    print(i,d)"
   ]
  }
 ],
 "metadata": {
  "kernelspec": {
   "display_name": "Python 3 (ipykernel)",
   "language": "python",
   "name": "python3"
  },
  "language_info": {
   "codemirror_mode": {
    "name": "ipython",
    "version": 3
   },
   "file_extension": ".py",
   "mimetype": "text/x-python",
   "name": "python",
   "nbconvert_exporter": "python",
   "pygments_lexer": "ipython3",
   "version": "3.9.13"
  }
 },
 "nbformat": 4,
 "nbformat_minor": 5
}
