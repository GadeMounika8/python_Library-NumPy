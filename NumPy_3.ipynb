{
 "cells": [
  {
   "cell_type": "markdown",
   "id": "df3b7c3a",
   "metadata": {},
   "source": [
    "# Axis"
   ]
  },
  {
   "cell_type": "markdown",
   "id": "6de116bf",
   "metadata": {},
   "source": [
    "axis = 0 - for Column\n",
    "\n",
    "axis = 1 - for Row"
   ]
  },
  {
   "cell_type": "markdown",
   "id": "9ce3a916",
   "metadata": {},
   "source": [
    "# axis = 0:"
   ]
  },
  {
   "cell_type": "code",
   "execution_count": 1,
   "id": "51440109",
   "metadata": {},
   "outputs": [
    {
     "name": "stdout",
     "output_type": "stream",
     "text": [
      "[[85 79 73]\n",
      " [65 32 74]]\n"
     ]
    }
   ],
   "source": [
    "import numpy as np\n",
    "a = np.array([[85,79,73],[65,32,74]])\n",
    "print(a)"
   ]
  },
  {
   "cell_type": "code",
   "execution_count": 2,
   "id": "d132de58",
   "metadata": {},
   "outputs": [
    {
     "name": "stdout",
     "output_type": "stream",
     "text": [
      "[[65 32 73]\n",
      " [85 79 74]]\n"
     ]
    }
   ],
   "source": [
    "b = np.sort(a,axis=0)\n",
    "print(b)"
   ]
  },
  {
   "cell_type": "markdown",
   "id": "c57bbeba",
   "metadata": {},
   "source": [
    "# axis = 1:"
   ]
  },
  {
   "cell_type": "code",
   "execution_count": 3,
   "id": "93129871",
   "metadata": {},
   "outputs": [
    {
     "name": "stdout",
     "output_type": "stream",
     "text": [
      "[[73 79 85]\n",
      " [32 65 74]]\n"
     ]
    }
   ],
   "source": [
    "c = np.sort(a,axis=1)\n",
    "print(c)"
   ]
  },
  {
   "cell_type": "markdown",
   "id": "4f8e39b6",
   "metadata": {},
   "source": [
    "# Datatypes:"
   ]
  },
  {
   "cell_type": "markdown",
   "id": "c24ad9f0",
   "metadata": {},
   "source": [
    "i - int\n",
    "\n",
    "f - float\n",
    "\n",
    "s - string\n",
    "\n",
    "u - unicode strings\n",
    "\n",
    "m - timedelta\n",
    "\n",
    "M - datetime\n",
    "\n",
    "o - object\n",
    "\n",
    "v - void"
   ]
  },
  {
   "cell_type": "markdown",
   "id": "5a091872",
   "metadata": {},
   "source": [
    "Attributes: datatype to represent datatype of an array."
   ]
  },
  {
   "cell_type": "markdown",
   "id": "97ea661c",
   "metadata": {},
   "source": [
    "dtype\n",
    "\n",
    "ndim\n",
    "\n",
    "shape"
   ]
  },
  {
   "cell_type": "code",
   "execution_count": 40,
   "id": "ce0f4706",
   "metadata": {},
   "outputs": [
    {
     "name": "stdout",
     "output_type": "stream",
     "text": [
      "[12 13 14 15 16]\n",
      "int32\n"
     ]
    }
   ],
   "source": [
    "import numpy as np\n",
    "t = np.array([12,13,14,15,16])\n",
    "print(t)\n",
    "print(t.dtype)"
   ]
  },
  {
   "cell_type": "code",
   "execution_count": 41,
   "id": "9b026882",
   "metadata": {},
   "outputs": [
    {
     "name": "stdout",
     "output_type": "stream",
     "text": [
      "['1' '2' '3' '4' '5']\n",
      "<U1\n"
     ]
    }
   ],
   "source": [
    "u = np.array(['1','2','3','4','5'])\n",
    "print(u)\n",
    "print(u.dtype)"
   ]
  },
  {
   "cell_type": "code",
   "execution_count": 42,
   "id": "0c2a5644",
   "metadata": {},
   "outputs": [
    {
     "name": "stdout",
     "output_type": "stream",
     "text": [
      "['30' '50' '70' '90' '10']\n",
      "<U2\n"
     ]
    }
   ],
   "source": [
    "v = np.array(['30','50','70','90','10'])\n",
    "print(v)\n",
    "print(v.dtype)"
   ]
  },
  {
   "cell_type": "code",
   "execution_count": 46,
   "id": "910048a7",
   "metadata": {},
   "outputs": [
    {
     "name": "stdout",
     "output_type": "stream",
     "text": [
      "['55' '65' '35' '95' '84']\n",
      "<U2\n"
     ]
    }
   ],
   "source": [
    "import numpy as np\n",
    "w = np.array(['55','65','35','95','84'],dtype=\"U\")\n",
    "print(w)\n",
    "print(w.dtype)"
   ]
  },
  {
   "cell_type": "code",
   "execution_count": 47,
   "id": "2b62eea4",
   "metadata": {},
   "outputs": [
    {
     "name": "stdout",
     "output_type": "stream",
     "text": [
      "[55 65 35 95 84]\n",
      "int32\n"
     ]
    }
   ],
   "source": [
    "import numpy as np\n",
    "x = np.array(['55','65','35','95','84'],dtype=\"i\")\n",
    "print(x)\n",
    "print(x.dtype)"
   ]
  },
  {
   "cell_type": "markdown",
   "id": "6d57f1a1",
   "metadata": {},
   "source": [
    "# Possible Error:"
   ]
  },
  {
   "cell_type": "code",
   "execution_count": 48,
   "id": "f3c9d89e",
   "metadata": {},
   "outputs": [
    {
     "ename": "ValueError",
     "evalue": "invalid literal for int() with base 10: 'a'",
     "output_type": "error",
     "traceback": [
      "\u001b[1;31m---------------------------------------------------------------------------\u001b[0m",
      "\u001b[1;31mValueError\u001b[0m                                Traceback (most recent call last)",
      "\u001b[1;32m~\\AppData\\Local\\Temp\\ipykernel_22064\\1509935700.py\u001b[0m in \u001b[0;36m<module>\u001b[1;34m\u001b[0m\n\u001b[0;32m      1\u001b[0m \u001b[1;32mimport\u001b[0m \u001b[0mnumpy\u001b[0m \u001b[1;32mas\u001b[0m \u001b[0mnp\u001b[0m\u001b[1;33m\u001b[0m\u001b[1;33m\u001b[0m\u001b[0m\n\u001b[1;32m----> 2\u001b[1;33m \u001b[0my\u001b[0m \u001b[1;33m=\u001b[0m \u001b[0mnp\u001b[0m\u001b[1;33m.\u001b[0m\u001b[0marray\u001b[0m\u001b[1;33m(\u001b[0m\u001b[1;33m[\u001b[0m\u001b[1;34m'a'\u001b[0m\u001b[1;33m,\u001b[0m\u001b[1;34m'20'\u001b[0m\u001b[1;33m,\u001b[0m\u001b[1;34m'40'\u001b[0m\u001b[1;33m,\u001b[0m\u001b[1;34m'60'\u001b[0m\u001b[1;33m,\u001b[0m\u001b[1;34m'80'\u001b[0m\u001b[1;33m]\u001b[0m\u001b[1;33m,\u001b[0m\u001b[0mdtype\u001b[0m\u001b[1;33m=\u001b[0m\u001b[1;34m\"i\"\u001b[0m\u001b[1;33m)\u001b[0m\u001b[1;33m\u001b[0m\u001b[1;33m\u001b[0m\u001b[0m\n\u001b[0m\u001b[0;32m      3\u001b[0m \u001b[0mprint\u001b[0m\u001b[1;33m(\u001b[0m\u001b[0my\u001b[0m\u001b[1;33m)\u001b[0m\u001b[1;33m\u001b[0m\u001b[1;33m\u001b[0m\u001b[0m\n\u001b[0;32m      4\u001b[0m \u001b[0mprint\u001b[0m\u001b[1;33m(\u001b[0m\u001b[0my\u001b[0m\u001b[1;33m.\u001b[0m\u001b[0mdtype\u001b[0m\u001b[1;33m)\u001b[0m\u001b[1;33m\u001b[0m\u001b[1;33m\u001b[0m\u001b[0m\n",
      "\u001b[1;31mValueError\u001b[0m: invalid literal for int() with base 10: 'a'"
     ]
    }
   ],
   "source": [
    "import numpy as np\n",
    "y = np.array(['a','20','40','60','80'],dtype=\"i\")\n",
    "print(y)\n",
    "print(y.dtype)"
   ]
  },
  {
   "cell_type": "code",
   "execution_count": 49,
   "id": "dff68b8c",
   "metadata": {},
   "outputs": [
    {
     "name": "stdout",
     "output_type": "stream",
     "text": [
      "[38 58 98 78 18]\n",
      "int32\n"
     ]
    }
   ],
   "source": [
    "import numpy as np\n",
    "z = np.array([38,58,98,78,18],dtype=\"i\")\n",
    "print(z)\n",
    "print(z.dtype)"
   ]
  },
  {
   "cell_type": "markdown",
   "id": "42c98024",
   "metadata": {},
   "source": [
    "         or"
   ]
  },
  {
   "cell_type": "code",
   "execution_count": 50,
   "id": "9847f624",
   "metadata": {},
   "outputs": [
    {
     "name": "stdout",
     "output_type": "stream",
     "text": [
      "[38 58 98 78 18]\n",
      "int32\n"
     ]
    }
   ],
   "source": [
    "import numpy as np\n",
    "a = np.array([38,58,98,78,18])\n",
    "print(a)\n",
    "print(a.dtype)"
   ]
  },
  {
   "cell_type": "code",
   "execution_count": 51,
   "id": "ae45f2d5",
   "metadata": {},
   "outputs": [
    {
     "name": "stdout",
     "output_type": "stream",
     "text": [
      "['38' '58' '98' '78' '18']\n",
      "<U2\n"
     ]
    }
   ],
   "source": [
    "import numpy as np\n",
    "b = np.array([38,58,98,78,18],dtype=\"U\")\n",
    "print(b)\n",
    "print(b.dtype)"
   ]
  },
  {
   "cell_type": "code",
   "execution_count": 4,
   "id": "07be8a44",
   "metadata": {},
   "outputs": [
    {
     "name": "stdout",
     "output_type": "stream",
     "text": [
      "[25 35 45 55 65 75]\n"
     ]
    }
   ],
   "source": [
    "import numpy as np\n",
    "d = np.array([25,35,45,55,65,75])\n",
    "print(d)"
   ]
  },
  {
   "cell_type": "code",
   "execution_count": 5,
   "id": "477b10ec",
   "metadata": {},
   "outputs": [
    {
     "name": "stdout",
     "output_type": "stream",
     "text": [
      "int32\n"
     ]
    }
   ],
   "source": [
    "print(d.dtype)"
   ]
  },
  {
   "cell_type": "code",
   "execution_count": 6,
   "id": "39f1060a",
   "metadata": {},
   "outputs": [
    {
     "name": "stdout",
     "output_type": "stream",
     "text": [
      "[20 30 40 50 60]\n"
     ]
    }
   ],
   "source": [
    "import numpy as array\n",
    "e = np.array([20,30,40,50,60])\n",
    "print(e)"
   ]
  },
  {
   "cell_type": "code",
   "execution_count": 7,
   "id": "61292b31",
   "metadata": {},
   "outputs": [
    {
     "name": "stdout",
     "output_type": "stream",
     "text": [
      "[20. 30. 40. 50. 60.]\n"
     ]
    }
   ],
   "source": [
    "import numpy as array\n",
    "f = np.array([20,30,40,50,60],dtype = \"f\")\n",
    "print(f)"
   ]
  },
  {
   "cell_type": "code",
   "execution_count": 8,
   "id": "48561e52",
   "metadata": {},
   "outputs": [
    {
     "name": "stdout",
     "output_type": "stream",
     "text": [
      "[20. 30. 40. 50. 60.]\n"
     ]
    }
   ],
   "source": [
    "import numpy as array\n",
    "g = np.array([20,30,40,50,60],dtype = \"float\")\n",
    "print(g)"
   ]
  },
  {
   "cell_type": "code",
   "execution_count": 9,
   "id": "813b8312",
   "metadata": {},
   "outputs": [
    {
     "name": "stdout",
     "output_type": "stream",
     "text": [
      "[20 30 40 50 60]\n"
     ]
    }
   ],
   "source": [
    "import numpy as array\n",
    "h = np.array([20,30,40,50,60])\n",
    "print(h)"
   ]
  },
  {
   "cell_type": "markdown",
   "id": "d53f9a79",
   "metadata": {},
   "source": [
    "# List of characters that are used to represent dtype in numpy:\n",
    "    Datatypes as Function"
   ]
  },
  {
   "cell_type": "markdown",
   "id": "75991a33",
   "metadata": {},
   "source": [
    "i - integer\n",
    "\n",
    "b - boolean\n",
    "\n",
    "u - unsighned integer\n",
    "\n",
    "f - float\n",
    "\n",
    "c - complex float\n",
    "\n",
    "m - timedelta\n",
    "\n",
    "M - datetime\n",
    "\n",
    "O - object\n",
    "\n",
    "S - String\n",
    "\n",
    "U - unicode string\n",
    "\n",
    "V - the fixed chunk of memory for the other types(void)"
   ]
  },
  {
   "cell_type": "code",
   "execution_count": 3,
   "id": "6e5072e3",
   "metadata": {},
   "outputs": [
    {
     "name": "stdout",
     "output_type": "stream",
     "text": [
      "[56 45 87 93 12 91]\n",
      "Data Type: int32\n"
     ]
    }
   ],
   "source": [
    "import numpy as np\n",
    "g = np.array([56,45,87,93,12,91])\n",
    "print(g)\n",
    "print(\"Data Type:\",g.dtype)"
   ]
  },
  {
   "cell_type": "code",
   "execution_count": 4,
   "id": "5fb16fec",
   "metadata": {},
   "outputs": [
    {
     "name": "stdout",
     "output_type": "stream",
     "text": [
      "[56 45 87 93 12 91]\n",
      "Data Type: int8\n"
     ]
    }
   ],
   "source": [
    "import numpy as np\n",
    "h = np.array([56,45,87,93,12,91],dtype = np.int8)\n",
    "print(h)\n",
    "print(\"Data Type:\",h.dtype)"
   ]
  },
  {
   "cell_type": "code",
   "execution_count": 5,
   "id": "a3381adc",
   "metadata": {},
   "outputs": [
    {
     "name": "stdout",
     "output_type": "stream",
     "text": [
      "[56. 45. 87. 93. 12. 91.]\n",
      "Data Type: float32\n"
     ]
    }
   ],
   "source": [
    "import numpy as np\n",
    "i = np.array([56,45,87,93,12,91],dtype = \"f\")\n",
    "print(i)\n",
    "print(\"Data Type:\",i.dtype)"
   ]
  },
  {
   "cell_type": "code",
   "execution_count": 6,
   "id": "e141ad0a",
   "metadata": {},
   "outputs": [
    {
     "name": "stdout",
     "output_type": "stream",
     "text": [
      "Datatype: int32\n",
      "Data Type: float32\n"
     ]
    }
   ],
   "source": [
    "import numpy as np\n",
    "j = np.array([23,67,54,12])\n",
    "k = np.float32(j)\n",
    "print(\"Datatype:\",j.dtype)\n",
    "print(\"Data Type:\",k.dtype)"
   ]
  },
  {
   "cell_type": "code",
   "execution_count": 2,
   "id": "4007eaf0",
   "metadata": {},
   "outputs": [
    {
     "name": "stdout",
     "output_type": "stream",
     "text": [
      "Datatype: int32\n",
      "Data Type: float32\n",
      "Data Type: int32\n"
     ]
    }
   ],
   "source": [
    "import numpy as np\n",
    "l = np.array([23,67,54,12])\n",
    "m = np.float32(l)\n",
    "p = np.int_(m)\n",
    "print(\"Datatype:\",l.dtype)\n",
    "print(\"Data Type:\",m.dtype)\n",
    "print(\"Data Type:\",p.dtype)"
   ]
  },
  {
   "cell_type": "code",
   "execution_count": 3,
   "id": "9b65f3b3",
   "metadata": {},
   "outputs": [
    {
     "name": "stdout",
     "output_type": "stream",
     "text": [
      "[23 56 74 97]\n",
      "[23. 56. 74. 97.]\n"
     ]
    }
   ],
   "source": [
    "q = np.array([23,56,74,97])\n",
    "r = q.astype(float)\n",
    "print(q)\n",
    "print(r)"
   ]
  },
  {
   "cell_type": "markdown",
   "id": "158aba7e",
   "metadata": {},
   "source": [
    "# astype():"
   ]
  },
  {
   "cell_type": "code",
   "execution_count": 10,
   "id": "73a2d231",
   "metadata": {},
   "outputs": [
    {
     "name": "stdout",
     "output_type": "stream",
     "text": [
      "[20. 30. 40. 50. 60.]\n"
     ]
    }
   ],
   "source": [
    "x = h.astype(\"f\")\n",
    "print(x)"
   ]
  },
  {
   "cell_type": "code",
   "execution_count": 11,
   "id": "c685b108",
   "metadata": {},
   "outputs": [
    {
     "name": "stdout",
     "output_type": "stream",
     "text": [
      "[20 30 40 50 60]\n"
     ]
    }
   ],
   "source": [
    "i = x.astype(\"i\")\n",
    "print(i)"
   ]
  },
  {
   "cell_type": "markdown",
   "id": "0d9dac38",
   "metadata": {},
   "source": [
    "# Possible Error:"
   ]
  },
  {
   "cell_type": "code",
   "execution_count": 12,
   "id": "ac4d7cd4",
   "metadata": {},
   "outputs": [
    {
     "ename": "ValueError",
     "evalue": "invalid literal for int() with base 10: 'a'",
     "output_type": "error",
     "traceback": [
      "\u001b[1;31m---------------------------------------------------------------------------\u001b[0m",
      "\u001b[1;31mValueError\u001b[0m                                Traceback (most recent call last)",
      "\u001b[1;32m~\\AppData\\Local\\Temp\\ipykernel_22064\\1646771915.py\u001b[0m in \u001b[0;36m<module>\u001b[1;34m\u001b[0m\n\u001b[0;32m      1\u001b[0m \u001b[0mj\u001b[0m \u001b[1;33m=\u001b[0m \u001b[0mnp\u001b[0m\u001b[1;33m.\u001b[0m\u001b[0marray\u001b[0m\u001b[1;33m(\u001b[0m\u001b[1;33m[\u001b[0m\u001b[1;34m'a'\u001b[0m\u001b[1;33m,\u001b[0m\u001b[1;34m'20'\u001b[0m\u001b[1;33m,\u001b[0m\u001b[1;34m'30'\u001b[0m\u001b[1;33m]\u001b[0m\u001b[1;33m)\u001b[0m\u001b[1;33m\u001b[0m\u001b[1;33m\u001b[0m\u001b[0m\n\u001b[1;32m----> 2\u001b[1;33m \u001b[0mk\u001b[0m \u001b[1;33m=\u001b[0m \u001b[0mj\u001b[0m\u001b[1;33m.\u001b[0m\u001b[0mastype\u001b[0m\u001b[1;33m(\u001b[0m\u001b[1;34m\"i\"\u001b[0m\u001b[1;33m)\u001b[0m\u001b[1;33m\u001b[0m\u001b[1;33m\u001b[0m\u001b[0m\n\u001b[0m\u001b[0;32m      3\u001b[0m \u001b[0mprint\u001b[0m\u001b[1;33m(\u001b[0m\u001b[0mk\u001b[0m\u001b[1;33m)\u001b[0m\u001b[1;33m\u001b[0m\u001b[1;33m\u001b[0m\u001b[0m\n",
      "\u001b[1;31mValueError\u001b[0m: invalid literal for int() with base 10: 'a'"
     ]
    }
   ],
   "source": [
    "j = np.array(['a','20','30'])\n",
    "k = j.astype(\"i\")\n",
    "print(k)"
   ]
  },
  {
   "cell_type": "code",
   "execution_count": 13,
   "id": "00a0531d",
   "metadata": {},
   "outputs": [
    {
     "name": "stdout",
     "output_type": "stream",
     "text": [
      "[10 20 30 40 50]\n"
     ]
    }
   ],
   "source": [
    "l = np.array(['10','20','30','40','50'])\n",
    "m = l.astype(\"i\")\n",
    "print(m)"
   ]
  },
  {
   "cell_type": "code",
   "execution_count": 31,
   "id": "1f768df1",
   "metadata": {},
   "outputs": [
    {
     "name": "stdout",
     "output_type": "stream",
     "text": [
      "[23 43 53 63 73 83]\n"
     ]
    }
   ],
   "source": [
    "import numpy as np\n",
    "n = np.array([23,43,53,63,73,83])\n",
    "print(n)"
   ]
  },
  {
   "cell_type": "code",
   "execution_count": 32,
   "id": "d274a123",
   "metadata": {},
   "outputs": [
    {
     "name": "stdout",
     "output_type": "stream",
     "text": [
      "int32\n"
     ]
    }
   ],
   "source": [
    "print(n.dtype)"
   ]
  },
  {
   "cell_type": "code",
   "execution_count": 33,
   "id": "354fb1e9",
   "metadata": {},
   "outputs": [
    {
     "name": "stdout",
     "output_type": "stream",
     "text": [
      "[23. 43. 53. 63. 73. 83.]\n"
     ]
    }
   ],
   "source": [
    "o = n.astype(\"f\")\n",
    "print(o)"
   ]
  },
  {
   "cell_type": "code",
   "execution_count": 34,
   "id": "0355bd1d",
   "metadata": {},
   "outputs": [
    {
     "name": "stdout",
     "output_type": "stream",
     "text": [
      "float32\n"
     ]
    }
   ],
   "source": [
    "print(o.dtype)"
   ]
  },
  {
   "cell_type": "code",
   "execution_count": 35,
   "id": "a48372fd",
   "metadata": {},
   "outputs": [
    {
     "name": "stdout",
     "output_type": "stream",
     "text": [
      "[54 64 74 84 94]\n",
      "int32\n",
      "[ True  True  True  True  True]\n",
      "bool\n"
     ]
    }
   ],
   "source": [
    "import numpy as np\n",
    "p = np.array([54,64,74,84,94])\n",
    "print(p)\n",
    "print(p.dtype)\n",
    "q = p.astype(\"bool\")\n",
    "print(q)\n",
    "print(q.dtype)"
   ]
  },
  {
   "cell_type": "code",
   "execution_count": 39,
   "id": "485296a9",
   "metadata": {},
   "outputs": [
    {
     "name": "stdout",
     "output_type": "stream",
     "text": [
      "[20  0 40  0 60]\n",
      "int32\n",
      "[ True False  True False  True]\n",
      "bool\n"
     ]
    }
   ],
   "source": [
    "import numpy as np\n",
    "r = np.array([20,0,40,0,60])\n",
    "print(r)\n",
    "print(r.dtype)\n",
    "s = r.astype(\"bool\")\n",
    "print(s)\n",
    "print(s.dtype)"
   ]
  },
  {
   "cell_type": "markdown",
   "id": "fd335358",
   "metadata": {},
   "source": [
    "# copy() and view():"
   ]
  },
  {
   "cell_type": "markdown",
   "id": "303437fd",
   "metadata": {},
   "source": [
    "copy():\n",
    "    \n",
    "1. External copy\n",
    "\n",
    "2. If any one element is modified then it will not reflect to another.\n",
    "\n",
    "3. Two arrays"
   ]
  },
  {
   "cell_type": "markdown",
   "id": "59f8157d",
   "metadata": {},
   "source": [
    "copy():\n",
    "    \n",
    "1.The copy owns the data.\n",
    "\n",
    "2. The copy of an array is a new array.\n",
    "\n",
    "3. The changes made in the copy data does not reflect in the original array."
   ]
  },
  {
   "cell_type": "markdown",
   "id": "2197525b",
   "metadata": {},
   "source": [
    "view():\n",
    "    \n",
    "1.Create a reference to existing array.\n",
    "\n",
    "2. If any one element is modified then it will be reflected on original array.\n",
    "\n",
    "3. Only one array."
   ]
  },
  {
   "cell_type": "markdown",
   "id": "32ee3713",
   "metadata": {},
   "source": [
    "view():\n",
    "    \n",
    "1. The view does not own the data.\n",
    "\n",
    "2. A view of the original array.\n",
    "\n",
    "3. any changes made to the view will affect the original array and any changes made to the original array will affect the view."
   ]
  },
  {
   "cell_type": "markdown",
   "id": "165ca593",
   "metadata": {},
   "source": [
    "# Code: copy() and view()"
   ]
  },
  {
   "cell_type": "code",
   "execution_count": 14,
   "id": "4f84c4b5",
   "metadata": {},
   "outputs": [
    {
     "name": "stdout",
     "output_type": "stream",
     "text": [
      "[10 20 30 40 50]\n"
     ]
    }
   ],
   "source": [
    "import numpy as np\n",
    "m = np.array([10,20,30,40,50])\n",
    "print(m)"
   ]
  },
  {
   "cell_type": "code",
   "execution_count": 15,
   "id": "b7e62115",
   "metadata": {},
   "outputs": [
    {
     "name": "stdout",
     "output_type": "stream",
     "text": [
      "[10 20 30 40 50]\n"
     ]
    }
   ],
   "source": [
    "c = m.copy()\n",
    "print(c)"
   ]
  },
  {
   "cell_type": "code",
   "execution_count": 16,
   "id": "d343e6c0",
   "metadata": {},
   "outputs": [
    {
     "name": "stdout",
     "output_type": "stream",
     "text": [
      "[10 20 30 40 50]\n"
     ]
    }
   ],
   "source": [
    "v = m.view()\n",
    "print(v)"
   ]
  },
  {
   "cell_type": "code",
   "execution_count": 17,
   "id": "0e6dc34e",
   "metadata": {},
   "outputs": [],
   "source": [
    "c[1]=70"
   ]
  },
  {
   "cell_type": "code",
   "execution_count": 18,
   "id": "59b0b27f",
   "metadata": {},
   "outputs": [
    {
     "name": "stdout",
     "output_type": "stream",
     "text": [
      "[10 70 30 40 50]\n"
     ]
    }
   ],
   "source": [
    "print(c)"
   ]
  },
  {
   "cell_type": "code",
   "execution_count": 19,
   "id": "01151329",
   "metadata": {},
   "outputs": [
    {
     "name": "stdout",
     "output_type": "stream",
     "text": [
      "[10 20 30 40 50]\n"
     ]
    }
   ],
   "source": [
    "print(m)"
   ]
  },
  {
   "cell_type": "code",
   "execution_count": 20,
   "id": "570fb720",
   "metadata": {},
   "outputs": [],
   "source": [
    "v[2]=70"
   ]
  },
  {
   "cell_type": "code",
   "execution_count": 21,
   "id": "5027d260",
   "metadata": {},
   "outputs": [
    {
     "name": "stdout",
     "output_type": "stream",
     "text": [
      "[10 20 70 40 50]\n"
     ]
    }
   ],
   "source": [
    "print(v)"
   ]
  },
  {
   "cell_type": "code",
   "execution_count": 22,
   "id": "cdad239c",
   "metadata": {},
   "outputs": [
    {
     "name": "stdout",
     "output_type": "stream",
     "text": [
      "[10 20 70 40 50]\n"
     ]
    }
   ],
   "source": [
    "print(m)"
   ]
  },
  {
   "cell_type": "code",
   "execution_count": 23,
   "id": "8d9888a5",
   "metadata": {},
   "outputs": [
    {
     "name": "stdout",
     "output_type": "stream",
     "text": [
      "[10 20 30 40 50]\n"
     ]
    }
   ],
   "source": [
    "import numpy as np\n",
    "a = np.array([10,20,30,40,50])\n",
    "print(a)"
   ]
  },
  {
   "cell_type": "code",
   "execution_count": 24,
   "id": "800c1c04",
   "metadata": {},
   "outputs": [
    {
     "name": "stdout",
     "output_type": "stream",
     "text": [
      "copy [10 20 30 40 50]\n"
     ]
    }
   ],
   "source": [
    "c=a.copy()\n",
    "print(\"copy\",c)"
   ]
  },
  {
   "cell_type": "code",
   "execution_count": 25,
   "id": "acb9e18c",
   "metadata": {},
   "outputs": [
    {
     "name": "stdout",
     "output_type": "stream",
     "text": [
      "a= [10 20 30 40 50] c= [ 10 100  30  40  50]\n"
     ]
    }
   ],
   "source": [
    "c[1]=100\n",
    "print(\"a=\",a,\"c=\",c)"
   ]
  },
  {
   "cell_type": "code",
   "execution_count": 28,
   "id": "159e732d",
   "metadata": {},
   "outputs": [
    {
     "name": "stdout",
     "output_type": "stream",
     "text": [
      "VIEW= [ 10 100  30  40  50]\n"
     ]
    }
   ],
   "source": [
    "v = a.view()\n",
    "print(\"VIEW=\",v)"
   ]
  },
  {
   "cell_type": "code",
   "execution_count": 29,
   "id": "9bf8c75a",
   "metadata": {},
   "outputs": [
    {
     "name": "stdout",
     "output_type": "stream",
     "text": [
      "a= [ 10 100  30  40  50] v= [ 10 100  30  40  50]\n"
     ]
    }
   ],
   "source": [
    "v[1] = 100\n",
    "print(\"a=\",a,\"v=\",v)"
   ]
  },
  {
   "cell_type": "code",
   "execution_count": 30,
   "id": "edd1a424",
   "metadata": {},
   "outputs": [
    {
     "name": "stdout",
     "output_type": "stream",
     "text": [
      "VIEW= [ 10 100  30  40  50]\n",
      "a= [ 10 100 200  40  50] v= [ 10 100 200  40  50]\n",
      "c= None\n",
      "v= [ 10 100 200  40  50]\n"
     ]
    }
   ],
   "source": [
    "v=a.view()\n",
    "print(\"VIEW=\",v)\n",
    "v[1]=100\n",
    "v[2]=200\n",
    "print(\"a=\",a,\"v=\",v)\n",
    "print(\"c=\",c.base)\n",
    "print(\"v=\",v.base)"
   ]
  },
  {
   "cell_type": "code",
   "execution_count": 3,
   "id": "aef7c6ae",
   "metadata": {},
   "outputs": [
    {
     "name": "stdout",
     "output_type": "stream",
     "text": [
      "[45 68 93 52 74]\n",
      "[45 68 93 52 74]\n",
      "array: [45 86 93 52 74]\n",
      "copy: [45 68 93 52 74]\n"
     ]
    }
   ],
   "source": [
    "import numpy as np\n",
    "arr_1 = np.array([45,68,93,52,74])\n",
    "print(arr_1)\n",
    "copy = arr_1.copy()\n",
    "print(copy)\n",
    "arr_1[1] = 86\n",
    "print(\"array:\", arr_1)\n",
    "print(\"copy:\", copy)"
   ]
  },
  {
   "cell_type": "code",
   "execution_count": 4,
   "id": "0690b641",
   "metadata": {},
   "outputs": [
    {
     "name": "stdout",
     "output_type": "stream",
     "text": [
      "[45 68 93 52 74]\n",
      "[45 68 93 52 74]\n",
      "array: [45 68 35 52 74]\n",
      "copy: [45 68 35 52 74]\n"
     ]
    }
   ],
   "source": [
    "import numpy as np\n",
    "arr_2 = np.array([45,68,93,52,74])\n",
    "print(arr_2)\n",
    "view = arr_2.view()\n",
    "print(view)\n",
    "arr_2[2] = 35\n",
    "print(\"array:\", arr_2)\n",
    "print(\"copy:\", view)"
   ]
  },
  {
   "cell_type": "markdown",
   "id": "36800419",
   "metadata": {},
   "source": [
    "# Arithmetic Functions"
   ]
  },
  {
   "cell_type": "markdown",
   "id": "49c45d62",
   "metadata": {},
   "source": [
    "1. shuffle()\n",
    "\n",
    "2. unique()\n",
    "\n",
    "3. resize()\n",
    "\n",
    "4. flatten()\n",
    "\n",
    "5. Ravel()"
   ]
  },
  {
   "cell_type": "markdown",
   "id": "3fcf6d36",
   "metadata": {},
   "source": [
    "# 1. shuffle():"
   ]
  },
  {
   "cell_type": "code",
   "execution_count": 8,
   "id": "9f2cff3c",
   "metadata": {},
   "outputs": [
    {
     "name": "stdout",
     "output_type": "stream",
     "text": [
      "None\n",
      "[5 1 7 9 3]\n"
     ]
    }
   ],
   "source": [
    "import numpy as np\n",
    "arr_3 = np.array([3,5,7,9,1])\n",
    "arr_4 = np.random.shuffle(arr_3)\n",
    "print(arr_4)\n",
    "print(arr_3)"
   ]
  },
  {
   "cell_type": "code",
   "execution_count": 9,
   "id": "480a3012",
   "metadata": {},
   "outputs": [
    {
     "name": "stdout",
     "output_type": "stream",
     "text": [
      "None\n",
      "[5 1 9 7 3]\n"
     ]
    }
   ],
   "source": [
    "import numpy as np\n",
    "arr_3 = np.array([3,5,7,9,1])\n",
    "arr_4 = np.random.shuffle(arr_3)\n",
    "print(arr_4)\n",
    "print(arr_3)"
   ]
  },
  {
   "cell_type": "code",
   "execution_count": 10,
   "id": "88f096eb",
   "metadata": {},
   "outputs": [
    {
     "name": "stdout",
     "output_type": "stream",
     "text": [
      "None\n",
      "[1 5 3 9 7]\n"
     ]
    }
   ],
   "source": [
    "import numpy as np\n",
    "arr_3 = np.array([3,5,7,9,1])\n",
    "arr_4 = np.random.shuffle(arr_3)\n",
    "print(arr_4)\n",
    "print(arr_3)"
   ]
  },
  {
   "cell_type": "markdown",
   "id": "47e1a228",
   "metadata": {},
   "source": [
    "# 2. unique():"
   ]
  },
  {
   "cell_type": "code",
   "execution_count": 11,
   "id": "d91a3cb0",
   "metadata": {},
   "outputs": [
    {
     "name": "stdout",
     "output_type": "stream",
     "text": [
      "[1 2 3 4 5 6 7 8 9]\n"
     ]
    }
   ],
   "source": [
    "import numpy as np\n",
    "arr_5 = np.array([2,3,5,4,1,8,6,7,9,2,5,3,6,4,8,4,9,2])\n",
    "arr_6 = np.unique(arr_5)\n",
    "print(arr_6)"
   ]
  },
  {
   "cell_type": "code",
   "execution_count": 71,
   "id": "750ca4d3",
   "metadata": {},
   "outputs": [
    {
     "name": "stdout",
     "output_type": "stream",
     "text": [
      "(array([1, 2, 3, 4, 5, 6, 7, 8, 9]), array([4, 0, 1, 3, 2, 6, 7, 5, 8], dtype=int64), array([1, 3, 2, 3, 2, 2, 1, 2, 2], dtype=int64))\n"
     ]
    }
   ],
   "source": [
    "import numpy as np\n",
    "arr_30 = np.array([2,3,5,4,1,8,6,7,9,2,5,3,6,4,8,4,9,2])\n",
    "arr_31 = np.unique(arr_30,return_index = True, return_counts =True)\n",
    "print(arr_31)"
   ]
  },
  {
   "cell_type": "markdown",
   "id": "21d70167",
   "metadata": {},
   "source": [
    "# 3. resize():"
   ]
  },
  {
   "cell_type": "code",
   "execution_count": 12,
   "id": "cf5ec161",
   "metadata": {},
   "outputs": [
    {
     "name": "stdout",
     "output_type": "stream",
     "text": [
      "[[1 3]\n",
      " [5 7]\n",
      " [9 4]]\n"
     ]
    }
   ],
   "source": [
    "import numpy as np\n",
    "arr_7 = np.array([1,3,5,7,9,4])\n",
    "arr_8 = np.resize(arr_7,(3,2))\n",
    "print(arr_8)"
   ]
  },
  {
   "cell_type": "code",
   "execution_count": 14,
   "id": "98e3ebcd",
   "metadata": {},
   "outputs": [
    {
     "name": "stdout",
     "output_type": "stream",
     "text": [
      "[[1 3 5]\n",
      " [7 9 4]]\n"
     ]
    }
   ],
   "source": [
    "import numpy as np\n",
    "arr_9 = np.array([1,3,5,7,9,4])\n",
    "arr_10 = np.resize(arr_9,(2,3))\n",
    "print(arr_10)"
   ]
  },
  {
   "cell_type": "code",
   "execution_count": 17,
   "id": "292fc42a",
   "metadata": {},
   "outputs": [
    {
     "name": "stdout",
     "output_type": "stream",
     "text": [
      "[[1 3 5]\n",
      " [7 9 4]]\n"
     ]
    }
   ],
   "source": [
    "import numpy as np\n",
    "arr_11 = np.array([1,3,5,7,9,4,2,8,6])\n",
    "arr_12 = np.resize(arr_11,(2,3))\n",
    "print(arr_12)"
   ]
  },
  {
   "cell_type": "code",
   "execution_count": 18,
   "id": "5085bbf4",
   "metadata": {},
   "outputs": [
    {
     "name": "stdout",
     "output_type": "stream",
     "text": [
      "[[1 3 5]\n",
      " [7 9 4]\n",
      " [2 8 6]]\n"
     ]
    }
   ],
   "source": [
    "import numpy as np\n",
    "arr_12 = np.array([1,3,5,7,9,4,2,8,6])\n",
    "arr_13 = np.resize(arr_12,(3,3))\n",
    "print(arr_13)"
   ]
  },
  {
   "cell_type": "markdown",
   "id": "1dcc7599",
   "metadata": {},
   "source": [
    "# 4. Flatten():"
   ]
  },
  {
   "cell_type": "markdown",
   "id": "32bdbc00",
   "metadata": {},
   "source": [
    "** order:{'c','F','A','K'} - optional\n",
    "    \n",
    "** 'C' means to flatten in row-major(C-style)order.\n",
    "\n",
    "** 'F' means to flatten in column-major(Fortran-style)order\n",
    "\n",
    "** 'A' means to flatten in column-major order.\n",
    "\n",
    "** if 'a' is Fortran*contiguous* in memory, row-major order otherwise.\n",
    "\n",
    "** 'k' means to flatten 'a' in the order the elements occur in memory.\n",
    "\n",
    "** The default is 'c'."
   ]
  },
  {
   "cell_type": "code",
   "execution_count": 21,
   "id": "7de66962",
   "metadata": {},
   "outputs": [
    {
     "name": "stdout",
     "output_type": "stream",
     "text": [
      "[[5 8]\n",
      " [9 6]\n",
      " [2 1]\n",
      " [3 7]]\n",
      "\n",
      "[5 8 9 6 2 1 3 7]\n"
     ]
    }
   ],
   "source": [
    "import numpy as np\n",
    "arr_14 = np.array([5,8,9,6,2,1,3,7])\n",
    "arr_15 = np.resize(arr_14,(4,2))\n",
    "print(arr_15)\n",
    "print()\n",
    "print(arr_15.flatten())"
   ]
  },
  {
   "cell_type": "code",
   "execution_count": 22,
   "id": "c4220bcd",
   "metadata": {},
   "outputs": [
    {
     "name": "stdout",
     "output_type": "stream",
     "text": [
      "[[5 8 9 6]\n",
      " [2 1 3 7]]\n",
      "\n",
      "[5 8 9 6 2 1 3 7]\n"
     ]
    }
   ],
   "source": [
    "import numpy as np\n",
    "arr_16 = np.array([5,8,9,6,2,1,3,7])\n",
    "arr_17 = np.resize(arr_16,(2,4))\n",
    "print(arr_17)\n",
    "print()\n",
    "print(arr_17.flatten())"
   ]
  },
  {
   "cell_type": "markdown",
   "id": "398286ad",
   "metadata": {},
   "source": [
    "#   or"
   ]
  },
  {
   "cell_type": "code",
   "execution_count": 24,
   "id": "ddff25f0",
   "metadata": {},
   "outputs": [
    {
     "name": "stdout",
     "output_type": "stream",
     "text": [
      "[[5 8 9 6]\n",
      " [2 1 3 7]]\n",
      "\n",
      "[5 8 9 6 2 1 3 7]\n"
     ]
    }
   ],
   "source": [
    "import numpy as np\n",
    "arr_18 = np.array([5,8,9,6,2,1,3,7])\n",
    "arr_19 = np.resize(arr_18,(2,4))\n",
    "print(arr_19)\n",
    "print()\n",
    "print(arr_19.flatten(order=\"C\"))"
   ]
  },
  {
   "cell_type": "code",
   "execution_count": 25,
   "id": "0147b265",
   "metadata": {},
   "outputs": [
    {
     "name": "stdout",
     "output_type": "stream",
     "text": [
      "[[5 8 9 6]\n",
      " [2 1 3 7]]\n",
      "\n",
      "[5 2 8 1 9 3 6 7]\n"
     ]
    }
   ],
   "source": [
    "import numpy as np\n",
    "arr_20 = np.array([5,8,9,6,2,1,3,7])\n",
    "arr_21 = np.resize(arr_20,(2,4))\n",
    "print(arr_21)\n",
    "print()\n",
    "print(arr_21.flatten(order=\"F\"))"
   ]
  },
  {
   "cell_type": "markdown",
   "id": "e8038267",
   "metadata": {},
   "source": [
    "# 5. ravel():"
   ]
  },
  {
   "cell_type": "code",
   "execution_count": 40,
   "id": "9b3c22fa",
   "metadata": {},
   "outputs": [
    {
     "name": "stdout",
     "output_type": "stream",
     "text": [
      "[[5 8 9 6]\n",
      " [2 1 3 7]]\n",
      "\n",
      "[5 2 8 1 9 3 6 7]\n",
      "\n",
      "Ravel: [5 8 9 6 2 1 3 7]\n"
     ]
    }
   ],
   "source": [
    "import numpy as np\n",
    "arr_20 = np.array([5,8,9,6,2,1,3,7])\n",
    "arr_21 = np.resize(arr_20,(2,4))\n",
    "print(arr_21)\n",
    "print()\n",
    "a = arr_21.flatten(order=\"F\")\n",
    "print(a)\n",
    "print()\n",
    "arr_22 = np.ravel(arr_21)\n",
    "print(\"Ravel:\",arr_22)"
   ]
  },
  {
   "cell_type": "code",
   "execution_count": 43,
   "id": "e42d2336",
   "metadata": {},
   "outputs": [
    {
     "name": "stdout",
     "output_type": "stream",
     "text": [
      "[[5 8 9 6]\n",
      " [2 1 3 7]]\n",
      "\n",
      "[5 2 8 1 9 3 6 7]\n",
      "\n",
      "Ravel: [5 8 9 6 2 1 3 7]\n"
     ]
    }
   ],
   "source": [
    "import numpy as np\n",
    "arr_23 = np.array([5,8,9,6,2,1,3,7])\n",
    "arr_24 = np.resize(arr_23,(2,4))\n",
    "print(arr_24)\n",
    "print()\n",
    "b = arr_24.flatten()\n",
    "print(a)\n",
    "print()\n",
    "arr_25 = np.ravel(arr_24)\n",
    "print(\"Ravel:\",arr_25)"
   ]
  },
  {
   "cell_type": "code",
   "execution_count": 44,
   "id": "92e266fd",
   "metadata": {},
   "outputs": [
    {
     "name": "stdout",
     "output_type": "stream",
     "text": [
      "[[1 2]\n",
      " [3 4]\n",
      " [5 6]]\n",
      "\n",
      "Flatten: [1 3 5 2 4 6]\n",
      "Ravel: [1 2 3 4 5 6]\n"
     ]
    }
   ],
   "source": [
    "import numpy as np\n",
    "arr_26 = np.array([1,2,3,4,5,6])\n",
    "arr_27 = np.resize(arr_26,(3,2))\n",
    "print(arr_27)\n",
    "print()\n",
    "print(\"Flatten:\",arr_27.flatten(order = \"F\"))\n",
    "print(\"Ravel:\",np.ravel(arr_27,order = \"A\"))"
   ]
  },
  {
   "cell_type": "markdown",
   "id": "31ec63ce",
   "metadata": {},
   "source": [
    "# NumPy array functions: Insert() and Delete Function"
   ]
  },
  {
   "cell_type": "markdown",
   "id": "3d798bfa",
   "metadata": {},
   "source": [
    "# insert():"
   ]
  },
  {
   "cell_type": "markdown",
   "id": "d89d3a2f",
   "metadata": {},
   "source": [
    "insert function has three parametes.\n",
    "    \n",
    "    Syntax:\n",
    "        \n",
    "insert(Array_Name, Index position, value to be inserted)"
   ]
  },
  {
   "cell_type": "code",
   "execution_count": 45,
   "id": "ab7e5be5",
   "metadata": {},
   "outputs": [
    {
     "name": "stdout",
     "output_type": "stream",
     "text": [
      "[2 6 9 4 1 5]\n",
      "\n",
      "<class 'numpy.ndarray'>\n",
      "\n",
      "[ 2  6  9 12  4  1  5]\n"
     ]
    }
   ],
   "source": [
    "import numpy as np\n",
    "var = np.array([2,6,9,4,1,5])\n",
    "print(var)\n",
    "print()\n",
    "print(type(var))\n",
    "print()\n",
    "i = np.insert(var,3,12)\n",
    "print(i)"
   ]
  },
  {
   "cell_type": "code",
   "execution_count": 46,
   "id": "dd3148bc",
   "metadata": {},
   "outputs": [
    {
     "name": "stdout",
     "output_type": "stream",
     "text": [
      "[2 6 9 4 1 5]\n",
      "\n",
      "<class 'numpy.ndarray'>\n",
      "\n",
      "[ 2 12  6  9  4 12  1  5]\n"
     ]
    }
   ],
   "source": [
    "import numpy as np\n",
    "var1 = np.array([2,6,9,4,1,5])\n",
    "print(var1)\n",
    "print()\n",
    "print(type(var1))\n",
    "print()\n",
    "j = np.insert(var1,(1,4),12)\n",
    "print(j)"
   ]
  },
  {
   "cell_type": "code",
   "execution_count": 47,
   "id": "04747d2c",
   "metadata": {},
   "outputs": [
    {
     "name": "stdout",
     "output_type": "stream",
     "text": [
      "[2 6 9 4 1 5]\n",
      "\n",
      "<class 'numpy.ndarray'>\n",
      "\n",
      "[ 2 11  6  9  4 11  1  5]\n"
     ]
    }
   ],
   "source": [
    "import numpy as np\n",
    "var2 = np.array([2,6,9,4,1,5])\n",
    "print(var2)\n",
    "print()\n",
    "print(type(var2))\n",
    "print()\n",
    "k = np.insert(var2,(1,4),11.6)\n",
    "print(k)"
   ]
  },
  {
   "cell_type": "code",
   "execution_count": 48,
   "id": "2583dcf2",
   "metadata": {},
   "outputs": [
    {
     "name": "stdout",
     "output_type": "stream",
     "text": [
      "[[2 6 9]\n",
      " [3 5 7]]\n",
      "\n",
      "<class 'numpy.ndarray'>\n",
      "\n",
      "[ 2 11  6  9  3  5  7]\n"
     ]
    }
   ],
   "source": [
    "import numpy as np\n",
    "var3 = np.array([[2,6,9],[3,5,7]])\n",
    "print(var3)\n",
    "print()\n",
    "print(type(var3))\n",
    "print()\n",
    "l = np.insert(var3,(1),11.6)\n",
    "print(l)"
   ]
  },
  {
   "cell_type": "code",
   "execution_count": 66,
   "id": "c5df9d09",
   "metadata": {},
   "outputs": [
    {
     "name": "stdout",
     "output_type": "stream",
     "text": [
      "[[2 6 9]\n",
      " [3 5 7]]\n",
      "\n",
      "<class 'numpy.ndarray'>\n",
      "\n",
      "[[2 3 6 9]\n",
      " [3 3 5 7]]\n"
     ]
    }
   ],
   "source": [
    "import numpy as np\n",
    "var4 = np.array([[2,6,9],[3,5,7]])\n",
    "print(var4)\n",
    "print()\n",
    "print(type(var4))\n",
    "print()\n",
    "m = np.insert(var4,1,3,1)\n",
    "print(m)"
   ]
  },
  {
   "cell_type": "code",
   "execution_count": 67,
   "id": "6f35f6a6",
   "metadata": {},
   "outputs": [
    {
     "name": "stdout",
     "output_type": "stream",
     "text": [
      "[[2 6 9]\n",
      " [3 5 7]]\n",
      "\n",
      "<class 'numpy.ndarray'>\n",
      "\n",
      "[[4 2 6 9]\n",
      " [4 3 5 7]]\n"
     ]
    }
   ],
   "source": [
    "import numpy as np\n",
    "var5 = np.array([[2,6,9],[3,5,7]])\n",
    "print(var5)\n",
    "print()\n",
    "print(type(var5))\n",
    "print()\n",
    "n = np.insert(var5,0,4,axis=1)\n",
    "print(n)"
   ]
  },
  {
   "cell_type": "code",
   "execution_count": 68,
   "id": "dc4df902",
   "metadata": {},
   "outputs": [
    {
     "name": "stdout",
     "output_type": "stream",
     "text": [
      "[[2 6 9]\n",
      " [3 5 7]]\n",
      "\n",
      "<class 'numpy.ndarray'>\n",
      "\n",
      "[[4 4 4]\n",
      " [2 6 9]\n",
      " [3 5 7]]\n"
     ]
    }
   ],
   "source": [
    "import numpy as np\n",
    "var6 = np.array([[2,6,9],[3,5,7]])\n",
    "print(var6)\n",
    "print()\n",
    "print(type(var6))\n",
    "print()\n",
    "p = np.insert(var6,0,4, axis=0)\n",
    "print(p)"
   ]
  },
  {
   "cell_type": "code",
   "execution_count": 69,
   "id": "6d39e0f3",
   "metadata": {},
   "outputs": [
    {
     "name": "stdout",
     "output_type": "stream",
     "text": [
      "[[2 6 9]\n",
      " [3 5 7]]\n",
      "\n",
      "<class 'numpy.ndarray'>\n",
      "\n",
      "[[2 6 9]\n",
      " [3 5 7]\n",
      " [9 9 9]]\n"
     ]
    }
   ],
   "source": [
    "import numpy as np\n",
    "var7= np.array([[2,6,9],[3,5,7]])\n",
    "print(var7)\n",
    "print()\n",
    "print(type(var7))\n",
    "print()\n",
    "q = np.insert(var7,2,9, axis=0)\n",
    "print(q)"
   ]
  },
  {
   "cell_type": "code",
   "execution_count": 70,
   "id": "39357a2a",
   "metadata": {},
   "outputs": [
    {
     "name": "stdout",
     "output_type": "stream",
     "text": [
      "[[2 6 9]\n",
      " [3 5 7]]\n",
      "\n",
      "<class 'numpy.ndarray'>\n",
      "\n",
      "[[2 6 9 9]\n",
      " [3 5 9 7]]\n"
     ]
    }
   ],
   "source": [
    "import numpy as np\n",
    "var8 = np.array([[2,6,9],[3,5,7]])\n",
    "print(var8)\n",
    "print()\n",
    "print(type(var8))\n",
    "print()\n",
    "r = np.insert(var8,2,9, axis=1)\n",
    "print(r)"
   ]
  },
  {
   "cell_type": "code",
   "execution_count": 88,
   "id": "ee9bb073",
   "metadata": {},
   "outputs": [
    {
     "name": "stdout",
     "output_type": "stream",
     "text": [
      "[[2 6 9]\n",
      " [3 5 7]]\n",
      "\n",
      "<class 'numpy.ndarray'>\n",
      "\n",
      "[[ 2  6 12  9]\n",
      " [ 3  5 13  7]]\n"
     ]
    }
   ],
   "source": [
    "import numpy as np\n",
    "var13 = np.array([[2,6,9],[3,5,7]])\n",
    "print(var13)\n",
    "print()\n",
    "print(type(var13))\n",
    "print()\n",
    "s = np.insert(var13,2,[12,13], axis=1)\n",
    "print(s)"
   ]
  },
  {
   "cell_type": "code",
   "execution_count": 89,
   "id": "0bff7f3f",
   "metadata": {},
   "outputs": [
    {
     "name": "stdout",
     "output_type": "stream",
     "text": [
      "[[2 6 9]\n",
      " [3 5 7]]\n",
      "\n",
      "<class 'numpy.ndarray'>\n",
      "\n",
      "[[ 2  6  9]\n",
      " [ 3  5  7]\n",
      " [12 13 14]]\n"
     ]
    }
   ],
   "source": [
    "import numpy as np\n",
    "var14 = np.array([[2,6,9],[3,5,7]])\n",
    "print(var14)\n",
    "print()\n",
    "print(type(var14))\n",
    "print()\n",
    "t = np.insert(var14,2,[12,13,14], axis=0)\n",
    "print(t)"
   ]
  },
  {
   "cell_type": "markdown",
   "id": "9993fba8",
   "metadata": {},
   "source": [
    "# delete():"
   ]
  },
  {
   "cell_type": "code",
   "execution_count": 79,
   "id": "6679b6e7",
   "metadata": {},
   "outputs": [
    {
     "name": "stdout",
     "output_type": "stream",
     "text": [
      "[3 5 7 9 1]\n",
      "\n",
      "int32\n",
      "\n",
      "<class 'numpy.ndarray'>\n",
      "\n",
      "[ 3  5  7 90  9  1]\n",
      "\n",
      "[ 3.   5.   7.   9.   1.  90.8]\n",
      "\n",
      "[3 5 7 1]\n",
      "\n",
      "[3 5 7 9 1]\n"
     ]
    }
   ],
   "source": [
    "import numpy as np\n",
    "var9 = np.array([3,5,7,9,1])\n",
    "print(var9)\n",
    "print()\n",
    "print(var9.dtype)\n",
    "print()\n",
    "print(type(var9))\n",
    "print()\n",
    "i = np.insert(var9,3,90.8)\n",
    "print(i)\n",
    "print()\n",
    "a = np.append(var9,90.8)\n",
    "print(a)\n",
    "print()\n",
    "d = np.delete(var9,3)\n",
    "print(d)\n",
    "print()\n",
    "print(var9)"
   ]
  },
  {
   "cell_type": "code",
   "execution_count": 83,
   "id": "62d76d79",
   "metadata": {},
   "outputs": [
    {
     "name": "stdout",
     "output_type": "stream",
     "text": [
      "[[3 5 7 9]\n",
      " [1 2 4 6]]\n",
      "\n",
      "int32\n",
      "\n",
      "<class 'numpy.ndarray'>\n",
      "\n",
      "[[ 3  5  7  9]\n",
      " [ 1  2  4  6]\n",
      " [45 67 89 12]]\n",
      "\n",
      "[[ 3  5  7  9]\n",
      " [ 1  2  4  6]\n",
      " [93 82 63 55]]\n"
     ]
    }
   ],
   "source": [
    "import numpy as np\n",
    "var10 = np.array([[3,5,7,9],[1,2,4,6]])\n",
    "print(var10)\n",
    "print()\n",
    "print(var10.dtype)\n",
    "print()\n",
    "print(type(var10))\n",
    "print()\n",
    "i1 = np.insert(var10,2,[45,67,89,12],axis = 0)\n",
    "print(i1)\n",
    "print()\n",
    "a1 = np.append(var10,[[93,82,63,55]],axis=0)\n",
    "print(a1)"
   ]
  }
 ],
 "metadata": {
  "kernelspec": {
   "display_name": "Python 3 (ipykernel)",
   "language": "python",
   "name": "python3"
  },
  "language_info": {
   "codemirror_mode": {
    "name": "ipython",
    "version": 3
   },
   "file_extension": ".py",
   "mimetype": "text/x-python",
   "name": "python",
   "nbconvert_exporter": "python",
   "pygments_lexer": "ipython3",
   "version": "3.9.13"
  }
 },
 "nbformat": 4,
 "nbformat_minor": 5
}
