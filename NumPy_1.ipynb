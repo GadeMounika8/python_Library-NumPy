{
 "cells": [
  {
   "cell_type": "markdown",
   "id": "f4a32b75",
   "metadata": {},
   "source": [
    "#                                                 Numpy Practice Tutorial"
   ]
  },
  {
   "cell_type": "markdown",
   "id": "9e5a7ea1",
   "metadata": {},
   "source": [
    "# Introduction to NumPy"
   ]
  },
  {
   "cell_type": "markdown",
   "id": "1069b92d",
   "metadata": {},
   "source": [
    "        \n",
    "    \n",
    "    \n",
    "NumPy stands for Numerical Python.\n",
    " \n",
    "It provides lot of functions to work in a domain of Linear Algebra,Fourier Transform and Matrices.\n",
    " \n",
    "It provides functions related to Arrays.\n",
    " \n",
    "It creates an array called ndarray by using array().\n",
    " \n",
    "Working of ndarray is faster than Lists. In array function we can pass list,tuple,or any sequencial datatype.\n",
    "\n",
    "To get the version of NumPy:\n",
    "    \n",
    "    print(numpy*__version__)\n",
    "   \n",
    "    Most of the part of numpy library is designed by C & C++."
   ]
  },
  {
   "cell_type": "markdown",
   "id": "ce458b52",
   "metadata": {},
   "source": [
    "** Python provides set of modules.\n",
    "\n",
    "** Python is a general purpose programming language.\n",
    "\n",
    "** Due to NumPy, Scipy, Pandas,Python becomes more required programming language for data analysis.\n",
    "\n",
    "** We are processing the data by storing in different formats.i.e., one dimensional, 2-dimensional, multidimensional.\n",
    "\n",
    "** We can store the data in one dimensional, 2-dimensional, multidimensional format using arrays concepts. But, arrays are static i.e., the size of the array is fixed. and Python is a dynamic programming language.\n",
    "\n",
    "** Python supports only dynamic collection data types.like lists, tuple\n",
    "\n",
    "** Because of NumPy module only. We can achieve array concept in Python.\n",
    "  \n",
    "     which means we can process and store the data of 1-D, 2-D, 3-D and multidimensional data effectively."
   ]
  },
  {
   "cell_type": "markdown",
   "id": "de194da6",
   "metadata": {},
   "source": [
    "** NumPy is a low level library written in C (and FORTRAN) for high level mathematical functions.\n",
    "\n",
    "** NumPy cleverly overcomes the problem of running slower algorithms on python by using multidimensional arrays and functions that operate on arrays.\n",
    "\n",
    "** Any algorithm can be expressed as a function of arrays, allowing the algorithm to be run quickly."
   ]
  },
  {
   "cell_type": "markdown",
   "id": "f85433da",
   "metadata": {},
   "source": [
    "# What is NumPy?"
   ]
  },
  {
   "cell_type": "markdown",
   "id": "c94f8e04",
   "metadata": {},
   "source": [
    "** NumPy is the fundamental package for scientific computing in Python.\n",
    "\n",
    "** NumPy is a python library that provides a multidimensional array object, various derived objects."
   ]
  },
  {
   "cell_type": "markdown",
   "id": "88792cc0",
   "metadata": {},
   "source": [
    "# What is NumPy Array?"
   ]
  },
  {
   "cell_type": "markdown",
   "id": "c29cb73b",
   "metadata": {},
   "source": [
    "** An Array is a grid of values and it contains information about the raw data how to locate an element, & how to interprete an element."
   ]
  },
  {
   "cell_type": "markdown",
   "id": "24314c7b",
   "metadata": {},
   "source": [
    "** Wide variety of mathematical operations on arrays.\n",
    "\n",
    "** It supplies an enormous library of high-level mathematical functions that operate on these arrays and matrices.\n",
    "\n",
    "** Mathematical, LOgical, Shape manipulation, sorting, selecting, I/O, discrete fourier transforms, basic linear algebra, basic statistical operations, random simulation and much more."
   ]
  },
  {
   "cell_type": "markdown",
   "id": "a8f26aec",
   "metadata": {},
   "source": [
    "# Advantages of using NumPy Array over Python Lists:"
   ]
  },
  {
   "cell_type": "markdown",
   "id": "853a1d6b",
   "metadata": {},
   "source": [
    "1. consumes less memory\n",
    "\n",
    "2. fast as compared to the python list\n",
    "\n",
    "3. convenient to use"
   ]
  },
  {
   "cell_type": "markdown",
   "id": "7a9e6d93",
   "metadata": {},
   "source": [
    "# Difference between NumPy Array and List in Python:"
   ]
  },
  {
   "cell_type": "markdown",
   "id": "e87ad3e5",
   "metadata": {},
   "source": [
    "1.Data types storage\n",
    "\n",
    "2.Importing Module\n",
    "\n",
    "3.Numerical Operation\n",
    "\n",
    "4.Modification Capabilities\n",
    "\n",
    "5.Consumes less memory\n",
    "\n",
    "6.Fast as compared tothe Python list\n",
    "\n",
    "7.Convenient to use\n",
    "\n",
    "List = [1,2,3,4]\n",
    "\n",
    "Array = [1 2 3 4]"
   ]
  },
  {
   "cell_type": "markdown",
   "id": "14cfbc41",
   "metadata": {},
   "source": [
    "%timeit [j**4 for j in range(1,9)]\n",
    "\n",
    "2.55 s+ 61.1 ns per loop(mean+std.dev. of 7 runs, 100000 loops each)\n",
    "\n",
    "import numpy as np\n",
    "\n",
    "%timeit np.arange(1,9)**4\n",
    "\n",
    "2.02 s+ 142 ns per loop(mean+std.dev. of 7 runs,100000 loops each)"
   ]
  },
  {
   "cell_type": "markdown",
   "id": "2ed7314c",
   "metadata": {},
   "source": [
    "# Applications of NumPy:"
   ]
  },
  {
   "cell_type": "markdown",
   "id": "c19658fd",
   "metadata": {},
   "source": [
    "1. A powerful N-dimensional array object.\n",
    "\n",
    "2. Sophisticated(broadcasting)functions.\n",
    "\n",
    "3. Tools for integrating C/C++ Fortran code\n",
    "\n",
    "4. Useful linear algebra, Fourier transform, and random number capabilities."
   ]
  },
  {
   "cell_type": "markdown",
   "id": "563ab419",
   "metadata": {},
   "source": [
    "# Properties of NumPy:"
   ]
  },
  {
   "cell_type": "markdown",
   "id": "91992c54",
   "metadata": {},
   "source": [
    "1. Homogenous\n",
    "\n",
    "2. Only be numbers(Number, Float, Complex)\n",
    "\n",
    "3. Fixed item size\n",
    "\n",
    "4. Actually, It can hold strings but we never use numpy that way."
   ]
  },
  {
   "cell_type": "markdown",
   "id": "e44aa96e",
   "metadata": {},
   "source": [
    "# Installation Of NumPy"
   ]
  },
  {
   "cell_type": "markdown",
   "id": "709e3c94",
   "metadata": {},
   "source": [
    "pip install numpy"
   ]
  },
  {
   "cell_type": "markdown",
   "id": "a9dda988",
   "metadata": {},
   "source": [
    "# Import NumPy Library"
   ]
  },
  {
   "cell_type": "markdown",
   "id": "2bdc08d9",
   "metadata": {},
   "source": [
    "import numpy as np"
   ]
  },
  {
   "cell_type": "markdown",
   "id": "99320b94",
   "metadata": {},
   "source": [
    "# Syntax for Creating a NumPy Array by using array():"
   ]
  },
  {
   "cell_type": "code",
   "execution_count": 1,
   "id": "17ac4eda",
   "metadata": {},
   "outputs": [
    {
     "name": "stdout",
     "output_type": "stream",
     "text": [
      "[1 2 3 4 5 6]\n",
      "<class 'numpy.ndarray'>\n",
      "4\n"
     ]
    }
   ],
   "source": [
    "import numpy\n",
    "a= numpy.array((1,2,3,4,5,6))\n",
    "print(a)\n",
    "print(type(a))\n",
    "print(a.itemsize)"
   ]
  },
  {
   "cell_type": "markdown",
   "id": "997f87aa",
   "metadata": {},
   "source": [
    "# or"
   ]
  },
  {
   "cell_type": "code",
   "execution_count": 2,
   "id": "f37e25b4",
   "metadata": {},
   "outputs": [
    {
     "name": "stdout",
     "output_type": "stream",
     "text": [
      "[1 2 3 4 5 6]\n"
     ]
    }
   ],
   "source": [
    "import numpy as np\n",
    "a= np.array([1,2,3,4,5,6])\n",
    "print(a)"
   ]
  },
  {
   "cell_type": "markdown",
   "id": "af1095b1",
   "metadata": {},
   "source": [
    "# or"
   ]
  },
  {
   "cell_type": "code",
   "execution_count": 6,
   "id": "1d6fb679",
   "metadata": {},
   "outputs": [
    {
     "name": "stdout",
     "output_type": "stream",
     "text": [
      "[1 2 3 4 5 6]\n"
     ]
    }
   ],
   "source": [
    "import numpy as np\n",
    "l = [1,2,3,4,5,6]\n",
    "a= np.array(l)\n",
    "print(a)"
   ]
  },
  {
   "cell_type": "markdown",
   "id": "ad4b4ed5",
   "metadata": {},
   "source": [
    "# or"
   ]
  },
  {
   "cell_type": "code",
   "execution_count": 4,
   "id": "76a4711f",
   "metadata": {},
   "outputs": [
    {
     "name": "stdout",
     "output_type": "stream",
     "text": [
      "enter:1\n",
      "enter:2\n",
      "enter:3\n",
      "enter:4\n",
      "['1' '2' '3' '4']\n"
     ]
    }
   ],
   "source": [
    "import numpy as np\n",
    "l = []\n",
    "for i in range(1,5):\n",
    "    a = input(\"enter:\")\n",
    "    l.append(a)\n",
    "print(np.array(l))"
   ]
  },
  {
   "cell_type": "code",
   "execution_count": 5,
   "id": "1e5dcb7c",
   "metadata": {},
   "outputs": [
    {
     "name": "stdout",
     "output_type": "stream",
     "text": [
      "enter:1\n",
      "enter:2\n",
      "enter:3\n",
      "enter:4\n",
      "[1 2 3 4]\n"
     ]
    }
   ],
   "source": [
    "import numpy as np\n",
    "l1 = []\n",
    "for i in range(1,5):\n",
    "    b = int(input(\"enter:\"))\n",
    "    l1.append(b)\n",
    "print(np.array(l1))"
   ]
  },
  {
   "cell_type": "markdown",
   "id": "0bcd921a",
   "metadata": {},
   "source": [
    "# Types of Arrays:"
   ]
  },
  {
   "cell_type": "markdown",
   "id": "1b3f59c3",
   "metadata": {},
   "source": [
    "** 0-D Array => np.array(90)\n",
    "\n",
    "** 1-D Array => np.array((3,4,5)) => Array of 0-D Array elements.\n",
    "\n",
    "** 2-D Array => np.array([[1,3,6],[4,8,9]]) => Array of 1-D Array elements.\n",
    "\n",
    "** 3-D Array => np.array([[[1,2,3],[4,5,6]],[[7,8,9],[3,4,5]]]) => Array of 2-D Array elements.\n",
    "\n",
    "** Higher Dimensional Arrays"
   ]
  },
  {
   "cell_type": "markdown",
   "id": "0a5e700d",
   "metadata": {},
   "source": [
    "# How to know the dimention of Arrays?"
   ]
  },
  {
   "cell_type": "markdown",
   "id": "b2a3a6fe",
   "metadata": {},
   "source": [
    "Dimention can be calculated by using ndim attribute.\n",
    "Dimention means Level of depth of an array."
   ]
  },
  {
   "cell_type": "markdown",
   "id": "760ee957",
   "metadata": {},
   "source": [
    "type() describes the type of object assigned to a variable.It is used to tell which type of data the variable consists of."
   ]
  },
  {
   "cell_type": "markdown",
   "id": "1deada5e",
   "metadata": {},
   "source": [
    "There are some Attributes:\n",
    "ndim\n",
    "shape"
   ]
  },
  {
   "cell_type": "markdown",
   "id": "a7f2496a",
   "metadata": {},
   "source": [
    "# Code:"
   ]
  },
  {
   "cell_type": "markdown",
   "id": "4f12417c",
   "metadata": {},
   "source": [
    "# 0-D array:"
   ]
  },
  {
   "cell_type": "code",
   "execution_count": 5,
   "id": "9c82c1ef",
   "metadata": {},
   "outputs": [
    {
     "name": "stdout",
     "output_type": "stream",
     "text": [
      "90\n"
     ]
    }
   ],
   "source": [
    "import numpy as np\n",
    "a = np.array(90)\n",
    "print(a)"
   ]
  },
  {
   "cell_type": "markdown",
   "id": "172c8e0f",
   "metadata": {},
   "source": [
    "# 1-D array:"
   ]
  },
  {
   "cell_type": "code",
   "execution_count": 7,
   "id": "6b16d02a",
   "metadata": {},
   "outputs": [
    {
     "name": "stdout",
     "output_type": "stream",
     "text": [
      "[3 4 5]\n"
     ]
    }
   ],
   "source": [
    "import numpy as np\n",
    "b = np.array([3,4,5])\n",
    "print(b)"
   ]
  },
  {
   "cell_type": "markdown",
   "id": "a3c25826",
   "metadata": {},
   "source": [
    "# 2-D array:"
   ]
  },
  {
   "cell_type": "code",
   "execution_count": 3,
   "id": "0d2a80f9",
   "metadata": {},
   "outputs": [
    {
     "name": "stdout",
     "output_type": "stream",
     "text": [
      "[[4 6 8]\n",
      " [5 9 2]]\n",
      "4\n"
     ]
    }
   ],
   "source": [
    "import numpy as np\n",
    "c= np.array([[4,6,8],[5,9,2]])\n",
    "print(c)\n",
    "print(c.itemsize)"
   ]
  },
  {
   "cell_type": "markdown",
   "id": "c1ac86c6",
   "metadata": {},
   "source": [
    "# 3-D array:"
   ]
  },
  {
   "cell_type": "code",
   "execution_count": 6,
   "id": "7873fbfb",
   "metadata": {},
   "outputs": [
    {
     "name": "stdout",
     "output_type": "stream",
     "text": [
      "[[[3 5 7]\n",
      "  [8 9 2]]\n",
      "\n",
      " [[2 4 8]\n",
      "  [9 1 3]]]\n",
      "4\n"
     ]
    }
   ],
   "source": [
    "import numpy as np\n",
    "d = np.array([[[3,5,7],[8,9,2]],[[2,4,8],[9,1,3]]])\n",
    "print(d)\n",
    "print(d.itemsize)"
   ]
  },
  {
   "cell_type": "code",
   "execution_count": 12,
   "id": "c3ca42f8",
   "metadata": {},
   "outputs": [
    {
     "name": "stdout",
     "output_type": "stream",
     "text": [
      "0\n",
      "1\n",
      "2\n",
      "3\n"
     ]
    }
   ],
   "source": [
    "print(a.ndim)\n",
    "print(b.ndim)\n",
    "print(c.ndim)\n",
    "print(d.ndim)"
   ]
  },
  {
   "cell_type": "code",
   "execution_count": 13,
   "id": "73609ab9",
   "metadata": {},
   "outputs": [
    {
     "name": "stdout",
     "output_type": "stream",
     "text": [
      "<class 'numpy.ndarray'>\n",
      "<class 'numpy.ndarray'>\n",
      "<class 'numpy.ndarray'>\n",
      "<class 'numpy.ndarray'>\n"
     ]
    }
   ],
   "source": [
    "print(type(a))\n",
    "print(type(b))\n",
    "print(type(c))\n",
    "print(type(d))\n",
    "\n"
   ]
  },
  {
   "cell_type": "markdown",
   "id": "27cc1fdb",
   "metadata": {},
   "source": [
    "# Higher Dimensional Array:"
   ]
  },
  {
   "cell_type": "code",
   "execution_count": 7,
   "id": "779b860f",
   "metadata": {},
   "outputs": [
    {
     "name": "stdout",
     "output_type": "stream",
     "text": [
      "[[[[[[[[[[1 2 3 4]]]]]]]]]]\n",
      "10\n",
      "4\n"
     ]
    }
   ],
   "source": [
    "e = np.array([1,2,3,4],ndmin=10)\n",
    "print(e)\n",
    "print(e.ndim)\n",
    "print(e.itemsize)"
   ]
  },
  {
   "cell_type": "code",
   "execution_count": null,
   "id": "f0517b0d",
   "metadata": {},
   "outputs": [],
   "source": []
  },
  {
   "cell_type": "markdown",
   "id": "eab0d860",
   "metadata": {},
   "source": [
    "# Properties or attributes of NumPy arrays:"
   ]
  },
  {
   "cell_type": "markdown",
   "id": "09b6ef57",
   "metadata": {},
   "source": [
    "1. shape\n",
    "\n",
    "2. ndim\n",
    "\n",
    "3. size\n",
    "\n",
    "4. Itemsize\n",
    "\n",
    "5. dtype"
   ]
  },
  {
   "cell_type": "markdown",
   "id": "459e5285",
   "metadata": {},
   "source": [
    "# 1-D Array With Properties or attributes:"
   ]
  },
  {
   "cell_type": "code",
   "execution_count": 2,
   "id": "e1740117",
   "metadata": {},
   "outputs": [
    {
     "name": "stdout",
     "output_type": "stream",
     "text": [
      "Array: [20 25 30 35 40 45 50 55]\n",
      "Size: 8\n",
      "Datatype: int32\n",
      "Dimension: 1\n",
      "Shape: (8,)\n"
     ]
    }
   ],
   "source": [
    "import numpy as np\n",
    "l = [20,25,30,35,40,45,50,55]\n",
    "arr = np.array(l)\n",
    "print(\"Array:\", arr)\n",
    "print(\"Size:\", arr.size)\n",
    "print(\"Datatype:\", arr.dtype)\n",
    "print(\"Dimension:\", arr.ndim)\n",
    "print(\"Shape:\", arr.shape)"
   ]
  },
  {
   "cell_type": "markdown",
   "id": "d6dd6feb",
   "metadata": {},
   "source": [
    "# 2-D Array With Properties or attributes:"
   ]
  },
  {
   "cell_type": "code",
   "execution_count": 4,
   "id": "b373eaa5",
   "metadata": {},
   "outputs": [
    {
     "name": "stdout",
     "output_type": "stream",
     "text": [
      "Array: [[20 25 30]\n",
      " [35 40 45]\n",
      " [50 55 60]]\n",
      "Size: 9\n",
      "Datatype: int32\n",
      "Dimension: 2\n",
      "Shape: (3, 3)\n"
     ]
    }
   ],
   "source": [
    "import numpy as np\n",
    "l1 = [[20,25,30],[35,40,45],[50,55,60]]\n",
    "arr_1 = np.array(l1)\n",
    "print(\"Array:\", arr_1)\n",
    "print(\"Size:\", arr_1.size)\n",
    "print(\"Datatype:\", arr_1.dtype)\n",
    "print(\"Dimension:\", arr_1.ndim)\n",
    "print(\"Shape:\", arr_1.shape)"
   ]
  },
  {
   "cell_type": "markdown",
   "id": "ad12bfa4",
   "metadata": {},
   "source": [
    "# 3-D Array With Properties or attributes:"
   ]
  },
  {
   "cell_type": "code",
   "execution_count": 5,
   "id": "50101e93",
   "metadata": {},
   "outputs": [
    {
     "name": "stdout",
     "output_type": "stream",
     "text": [
      "Array: [[[20 25 30]\n",
      "  [35 40 45]]\n",
      "\n",
      " [[50 55 60]\n",
      "  [65 70 75]]]\n",
      "Size: 12\n",
      "Datatype: int32\n",
      "Dimension: 3\n",
      "Shape: (2, 2, 3)\n"
     ]
    }
   ],
   "source": [
    "import numpy as np\n",
    "l2 = [[[20,25,30],[35,40,45]],[[50,55,60],[65,70,75]]]\n",
    "arr_2 = np.array(l2)\n",
    "print(\"Array:\", arr_2)\n",
    "print(\"Size:\", arr_2.size)\n",
    "print(\"Datatype:\", arr_2.dtype)\n",
    "print(\"Dimension:\", arr_2.ndim)\n",
    "print(\"Shape:\", arr_2.shape)"
   ]
  },
  {
   "cell_type": "markdown",
   "id": "1baf11fc",
   "metadata": {},
   "source": [
    "# Creating 1-D Array in NumPy"
   ]
  },
  {
   "cell_type": "code",
   "execution_count": 9,
   "id": "ef4dc357",
   "metadata": {},
   "outputs": [
    {
     "name": "stdout",
     "output_type": "stream",
     "text": [
      "Enter Size:4\n",
      "Enter 4 elements:\n",
      "4678\n",
      "679\n",
      "543\n",
      "89\n",
      "Array Elements: [4678  679  543   89]\n"
     ]
    }
   ],
   "source": [
    "import numpy as np\n",
    "n = int(input(\"Enter Size:\"))\n",
    "arr_3 = np.ndarray(shape=(n),dtype=int)\n",
    "print(\"Enter %d elements:\" %n)\n",
    "for i in range(n):\n",
    "    arr_3[i] = int(input())\n",
    "print(\"Array Elements:\", arr_3)\n"
   ]
  },
  {
   "cell_type": "code",
   "execution_count": 10,
   "id": "287e0ad5",
   "metadata": {},
   "outputs": [
    {
     "name": "stdout",
     "output_type": "stream",
     "text": [
      "Enter Size:6\n",
      "Enter 6 elements:\n",
      "5\n",
      "6\n",
      "8\n",
      "9\n",
      "2\n",
      "1\n",
      "Array Elements: [5 6 8 9 2 1]\n"
     ]
    }
   ],
   "source": [
    "import numpy as np\n",
    "n = int(input(\"Enter Size:\"))\n",
    "arr_3 = np.ndarray(shape=(n),dtype=int)\n",
    "print(\"Enter %d elements:\" %n)\n",
    "for i in range(n):\n",
    "    arr_3[i] = input()\n",
    "print(\"Array Elements:\", arr_3)\n"
   ]
  },
  {
   "cell_type": "code",
   "execution_count": 19,
   "id": "20db1039",
   "metadata": {},
   "outputs": [
    {
     "name": "stdout",
     "output_type": "stream",
     "text": [
      "[4678  679  543   89]\n",
      "Size: 4\n",
      "Shape: (4,)\n",
      "Dimensions: 1\n",
      "Datatype: int32\n"
     ]
    }
   ],
   "source": [
    "import numpy as np\n",
    "matrix = np.ndarray(shape=(4,),dtype=int)\n",
    "print(matrix)\n",
    "print(\"Size:\", matrix.size)\n",
    "print(\"Shape:\", matrix.shape)\n",
    "print(\"Dimensions:\", matrix.ndim)\n",
    "print(\"Datatype:\", matrix.dtype)"
   ]
  },
  {
   "cell_type": "code",
   "execution_count": 3,
   "id": "2e8bdc8f",
   "metadata": {},
   "outputs": [
    {
     "name": "stdout",
     "output_type": "stream",
     "text": [
      "Enter 5 elements:\n",
      "18\n",
      "79\n",
      "54\n",
      "93\n",
      "20\n",
      "Elements: [18 79 54 93 20]\n",
      "[18 79 54 93 20]\n",
      "Size: 5\n",
      "Shape: (5,)\n",
      "Dimensions: 1\n",
      "Datatype: int32\n"
     ]
    }
   ],
   "source": [
    "import numpy as np\n",
    "arr_4 =np.ndarray(shape=(5),dtype=int)\n",
    "n = arr_4.size\n",
    "print(\"Enter %d elements:\" %n)\n",
    "for i in range(n):\n",
    "    arr_4[i] = int(input())\n",
    "print(\"Elements:\", arr_4)\n",
    "print(arr_4)\n",
    "print(\"Size:\", arr_4.size)\n",
    "print(\"Shape:\", arr_4.shape)\n",
    "print(\"Dimensions:\", arr_4.ndim)\n",
    "print(\"Datatype:\", arr_4.dtype)\n",
    "\n",
    "\n"
   ]
  },
  {
   "cell_type": "markdown",
   "id": "130a58f2",
   "metadata": {},
   "source": [
    "# How to construct two dimensional array and how to check the properties?"
   ]
  },
  {
   "cell_type": "code",
   "execution_count": 15,
   "id": "ac52af38",
   "metadata": {},
   "outputs": [
    {
     "name": "stdout",
     "output_type": "stream",
     "text": [
      "Enter row size:4\n",
      "Enter column size:3\n",
      "[[0 0 0]\n",
      " [0 0 0]\n",
      " [0 0 0]\n",
      " [0 0 0]]\n",
      "Size: 12\n",
      "Shape: (4, 3)\n",
      "Dimensions: 2\n",
      "Datatype: int32\n"
     ]
    }
   ],
   "source": [
    "import numpy as np\n",
    "x = int(input(\"Enter row size:\"))\n",
    "y = int(input(\"Enter column size:\"))\n",
    "matrix = np.ndarray(shape=(x,y),dtype=int)\n",
    "print(matrix)\n",
    "print(\"Size:\", matrix.size)\n",
    "print(\"Shape:\", matrix.shape)\n",
    "print(\"Dimensions:\", matrix.ndim)\n",
    "print(\"Datatype:\", matrix.dtype)"
   ]
  },
  {
   "cell_type": "code",
   "execution_count": 16,
   "id": "a08ef775",
   "metadata": {},
   "outputs": [
    {
     "name": "stdout",
     "output_type": "stream",
     "text": [
      "[[0 0 0]\n",
      " [0 0 0]\n",
      " [0 0 0]\n",
      " [0 0 0]]\n",
      "Size: 12\n",
      "Shape: (4, 3)\n",
      "Dimensions: 2\n",
      "Datatype: int32\n"
     ]
    }
   ],
   "source": [
    "import numpy as np\n",
    "matrix = np.ndarray(shape=(4,3),dtype=int)\n",
    "print(matrix)\n",
    "print(\"Size:\", matrix.size)\n",
    "print(\"Shape:\", matrix.shape)\n",
    "print(\"Dimensions:\", matrix.ndim)\n",
    "print(\"Datatype:\", matrix.dtype)"
   ]
  },
  {
   "cell_type": "markdown",
   "id": "eaf4162f",
   "metadata": {},
   "source": [
    "# Numpy Reading Elements into Matrix"
   ]
  },
  {
   "cell_type": "code",
   "execution_count": 3,
   "id": "c44b7418",
   "metadata": {},
   "outputs": [
    {
     "name": "stdout",
     "output_type": "stream",
     "text": [
      "Enter row size:4\n",
      "Enter column size:3\n",
      "Enter 12 elements of 4x3 matrix:\n",
      "1\n",
      "3\n",
      "6\n",
      "4\n",
      "7\n",
      "9\n",
      "1\n",
      "8\n",
      "45\n",
      "78\n",
      "93\n",
      "45\n",
      "4x3 matrix is:\n",
      "[[ 1  3  6]\n",
      " [ 4  7  9]\n",
      " [ 1  8 45]\n",
      " [78 93 45]]\n"
     ]
    }
   ],
   "source": [
    "import numpy as np\n",
    "a = int(input(\"Enter row size:\"))\n",
    "b = int(input(\"Enter column size:\"))\n",
    "matrix = np.ndarray(shape=(a,b),dtype=int)\n",
    "print(\"Enter %d elements of %dx%d matrix:\"%(a*b,a,b))\n",
    "for i in range(a):\n",
    "    for j in range(b):\n",
    "        matrix[i][j]=int(input())\n",
    "print(\"%dx%d matrix is:\"%(a,b))\n",
    "print(matrix)"
   ]
  },
  {
   "cell_type": "markdown",
   "id": "bc739d8d",
   "metadata": {},
   "source": [
    "# Multi Dimentional Arrays"
   ]
  },
  {
   "cell_type": "code",
   "execution_count": 8,
   "id": "0b26995e",
   "metadata": {},
   "outputs": [
    {
     "name": "stdout",
     "output_type": "stream",
     "text": [
      "size: 27\n",
      "Datatype: int32\n",
      "Shape: (3, 3, 3)\n",
      "Dimentions: 3\n",
      "4\n"
     ]
    }
   ],
   "source": [
    "import numpy as np\n",
    "arr = np.ndarray(shape=(3,3,3),dtype=int)\n",
    "print(\"size:\",arr.size)\n",
    "print(\"Datatype:\",arr.dtype)\n",
    "print(\"Shape:\",arr.shape)\n",
    "print(\"Dimentions:\",arr.ndim)\n",
    "print(arr.itemsize)"
   ]
  },
  {
   "cell_type": "code",
   "execution_count": 8,
   "id": "76bb51b6",
   "metadata": {},
   "outputs": [
    {
     "name": "stdout",
     "output_type": "stream",
     "text": [
      "Enter 18 elements:\n"
     ]
    }
   ],
   "source": [
    "import numpy\n",
    "arr = numpy.ndarray(shape=(3,3,2),dtype=int)\n",
    "print(\"Enter %d elements:\" %arr.size)"
   ]
  },
  {
   "cell_type": "code",
   "execution_count": 9,
   "id": "929e8485",
   "metadata": {},
   "outputs": [
    {
     "name": "stdout",
     "output_type": "stream",
     "text": [
      "Enter 27 element:\n"
     ]
    }
   ],
   "source": [
    "import numpy as np\n",
    "arr = np.ndarray(shape=(3,3,3),dtype=int)\n",
    "print(\"Enter %d element:\" %arr.size)"
   ]
  },
  {
   "cell_type": "code",
   "execution_count": 11,
   "id": "3947a654",
   "metadata": {},
   "outputs": [
    {
     "name": "stdout",
     "output_type": "stream",
     "text": [
      "Array elements:\n",
      "[[[ 1  2  3]\n",
      "  [ 4  5  6]\n",
      "  [ 7  8  9]]\n",
      "\n",
      " [[10 11 12]\n",
      "  [13 14 15]\n",
      "  [16 17 18]]\n",
      "\n",
      " [[19 20 21]\n",
      "  [22 23 24]\n",
      "  [25 26 27]]]\n"
     ]
    }
   ],
   "source": [
    "import numpy as np\n",
    "arr = np.ndarray(shape=(3,3,3),dtype=int)\n",
    "val=1\n",
    "a = arr.shape[0]\n",
    "b = arr.shape[1]\n",
    "c = arr.shape[2]\n",
    "for i in range(a):\n",
    "    for j in range(b):\n",
    "        for k in range(c):\n",
    "            arr[i][j][k]=val\n",
    "            val = val+1\n",
    "print(\"Array elements:\")\n",
    "print(arr)"
   ]
  },
  {
   "cell_type": "markdown",
   "id": "9be51a87",
   "metadata": {},
   "source": [
    "# Arrays with Existing Data"
   ]
  },
  {
   "cell_type": "markdown",
   "id": "6c7afae5",
   "metadata": {},
   "source": [
    "1. asarray()\n",
    "2. frombuffer()\n",
    "3. fromiter()\n"
   ]
  },
  {
   "cell_type": "markdown",
   "id": "6efe3576",
   "metadata": {},
   "source": [
    "# Syntax for asarray():"
   ]
  },
  {
   "cell_type": "markdown",
   "id": "0c9ff0c8",
   "metadata": {},
   "source": [
    "syntax: np.asarray(input, dtype, order)\n",
    "\n",
    "It has Three attributes or parameters.\n",
    "\n",
    "input could be a List, Tuple, any combination.\n",
    "\n",
    "dtype could be an int,float,s1.\n",
    "\n",
    "order could be a Row Major(\"C\") or Column Major(\"F\")\n",
    "\n",
    "By Default:\n",
    "    dtype = float,\n",
    "    order = \"C\" except 1-d array\n",
    "    "
   ]
  },
  {
   "cell_type": "markdown",
   "id": "bba33023",
   "metadata": {},
   "source": [
    "# Syntax for frombuffer():"
   ]
  },
  {
   "cell_type": "markdown",
   "id": "c5bf6f2a",
   "metadata": {},
   "source": [
    "syntax: np.frombuffer(buffer, dtype, count, offset)\n",
    "\n",
    "It has Four parameters.\n",
    "\n",
    "By Default:\n",
    "    count=-1\n",
    "    offset=0\n",
    "\n",
    "input could be a s.\n",
    "\n",
    "dtype could be a s1.\n",
    "\n",
    "count means the length of the resultant array.\n",
    "\n",
    "offset means from which position or index the data should be printed."
   ]
  },
  {
   "cell_type": "markdown",
   "id": "443a1bcf",
   "metadata": {},
   "source": [
    "# Syntax for fromiter:"
   ]
  },
  {
   "cell_type": "markdown",
   "id": "a3c69231",
   "metadata": {},
   "source": [
    "syntax: np.fromiter(iterable, dtype, count)\n",
    "\n",
    "It has Three parameters.\n",
    "\n",
    "iterable could a List, Tuple.\n",
    "\n",
    "dtype could be an int, float, s1.\n",
    "\n",
    "count could be a lenght of returned array or resultant array.\n",
    "\n",
    "By Default:\n",
    "    count=-1"
   ]
  },
  {
   "cell_type": "markdown",
   "id": "91536d93",
   "metadata": {},
   "source": [
    "# Code: Arrays with Existing data"
   ]
  },
  {
   "cell_type": "code",
   "execution_count": 15,
   "id": "1273039a",
   "metadata": {},
   "outputs": [
    {
     "name": "stdout",
     "output_type": "stream",
     "text": [
      "[ 20  40  60  80 100]\n"
     ]
    }
   ],
   "source": [
    "import numpy as np\n",
    "a = np.array([20,40,60,80,100])\n",
    "print(a)"
   ]
  },
  {
   "cell_type": "markdown",
   "id": "bbbf4d8e",
   "metadata": {},
   "source": [
    "# 1. asarray()"
   ]
  },
  {
   "cell_type": "code",
   "execution_count": 17,
   "id": "2fdb5a1a",
   "metadata": {},
   "outputs": [
    {
     "name": "stdout",
     "output_type": "stream",
     "text": [
      "[ 20.  40.  60.  80. 100.]\n"
     ]
    }
   ],
   "source": [
    "import numpy as np\n",
    "b = np.asarray(a, dtype=\"float\", order = \"C\")\n",
    "print(b)"
   ]
  },
  {
   "cell_type": "code",
   "execution_count": 20,
   "id": "8bc6f6bf",
   "metadata": {},
   "outputs": [
    {
     "name": "stdout",
     "output_type": "stream",
     "text": [
      "[ 20  40  60  80 100]\n"
     ]
    }
   ],
   "source": [
    "b = np.asarray(a, dtype=\"int\", order = \"C\")\n",
    "print(b)"
   ]
  },
  {
   "cell_type": "code",
   "execution_count": 22,
   "id": "fe6418de",
   "metadata": {},
   "outputs": [
    {
     "name": "stdout",
     "output_type": "stream",
     "text": [
      "[ 20  40  60  80 100]\n"
     ]
    }
   ],
   "source": [
    "b = np.asarray(a,dtype = \"int\")\n",
    "print(b)"
   ]
  },
  {
   "cell_type": "code",
   "execution_count": 23,
   "id": "205c40f7",
   "metadata": {},
   "outputs": [
    {
     "name": "stdout",
     "output_type": "stream",
     "text": [
      "[ 20  40  60  80 100]\n"
     ]
    }
   ],
   "source": [
    "b = np.asarray(a)\n",
    "print(b)"
   ]
  },
  {
   "cell_type": "code",
   "execution_count": 24,
   "id": "e478ca25",
   "metadata": {},
   "outputs": [
    {
     "name": "stdout",
     "output_type": "stream",
     "text": [
      "[ 20.  40.  60.  80. 100.]\n"
     ]
    }
   ],
   "source": [
    "import numpy as np\n",
    "b = np.asarray(a, dtype=\"float\", order = \"F\")\n",
    "print(b)"
   ]
  },
  {
   "cell_type": "code",
   "execution_count": 25,
   "id": "de3077df",
   "metadata": {},
   "outputs": [
    {
     "name": "stdout",
     "output_type": "stream",
     "text": [
      "[ 20  40  60  80 100]\n"
     ]
    }
   ],
   "source": [
    "b = np.asarray(a, dtype=\"int\", order = \"F\")\n",
    "print(b)"
   ]
  },
  {
   "cell_type": "code",
   "execution_count": 26,
   "id": "4a30828e",
   "metadata": {},
   "outputs": [
    {
     "name": "stdout",
     "output_type": "stream",
     "text": [
      "[[20 40 60]\n",
      " [10 30 90]]\n"
     ]
    }
   ],
   "source": [
    "import numpy as np\n",
    "c = np.array([[20, 40, 60],[10,30,90]])\n",
    "print(c)"
   ]
  },
  {
   "cell_type": "code",
   "execution_count": 27,
   "id": "d446a6d6",
   "metadata": {},
   "outputs": [
    {
     "name": "stdout",
     "output_type": "stream",
     "text": [
      "[[20 40 60]\n",
      " [10 30 90]]\n"
     ]
    }
   ],
   "source": [
    "d = np.asarray([[20, 40, 60],[10,30,90]])\n",
    "print(d)"
   ]
  },
  {
   "cell_type": "code",
   "execution_count": 34,
   "id": "85184d12",
   "metadata": {},
   "outputs": [
    {
     "name": "stdout",
     "output_type": "stream",
     "text": [
      "[[20 40 60]\n",
      " [10 30 90]]\n"
     ]
    }
   ],
   "source": [
    "e = np.asarray([[20, 40, 60],[10,30,90]], dtype = \"int\",order = \"C\")\n",
    "print(e)"
   ]
  },
  {
   "cell_type": "code",
   "execution_count": 29,
   "id": "f386742c",
   "metadata": {},
   "outputs": [
    {
     "name": "stdout",
     "output_type": "stream",
     "text": [
      "[[20 40 60]\n",
      " [10 30 90]]\n"
     ]
    }
   ],
   "source": [
    "f = np.asarray([[20, 40, 60],[10,30,90]], dtype = \"int\",order=\"F\")\n",
    "print(f)"
   ]
  },
  {
   "cell_type": "code",
   "execution_count": 30,
   "id": "31240d95",
   "metadata": {},
   "outputs": [
    {
     "name": "stdout",
     "output_type": "stream",
     "text": [
      "[[20. 40. 60.]\n",
      " [10. 30. 90.]]\n"
     ]
    }
   ],
   "source": [
    "g = np.asarray([[20, 40, 60],[10,30,90]], dtype = \"float\",order=\"F\")\n",
    "print(g)"
   ]
  },
  {
   "cell_type": "code",
   "execution_count": 31,
   "id": "18ccb26b",
   "metadata": {},
   "outputs": [
    {
     "name": "stdout",
     "output_type": "stream",
     "text": [
      "[[20. 40. 60.]\n",
      " [10. 30. 90.]]\n"
     ]
    }
   ],
   "source": [
    "h = np.asarray([[20, 40, 60],[10,30,90]], dtype = \"float\",order=\"C\")\n",
    "print(h)"
   ]
  },
  {
   "cell_type": "code",
   "execution_count": 39,
   "id": "066142f9",
   "metadata": {},
   "outputs": [
    {
     "name": "stdout",
     "output_type": "stream",
     "text": [
      "20\n",
      "40\n",
      "60\n",
      "10\n",
      "30\n",
      "90\n"
     ]
    }
   ],
   "source": [
    "for i in np.nditer(d):\n",
    "    print(i)"
   ]
  },
  {
   "cell_type": "code",
   "execution_count": 40,
   "id": "29492c3e",
   "metadata": {},
   "outputs": [
    {
     "name": "stdout",
     "output_type": "stream",
     "text": [
      "20\n",
      "40\n",
      "60\n",
      "10\n",
      "30\n",
      "90\n"
     ]
    }
   ],
   "source": [
    "for i in np.nditer(e):\n",
    "    print(i)"
   ]
  },
  {
   "cell_type": "code",
   "execution_count": 41,
   "id": "ce5e52f0",
   "metadata": {},
   "outputs": [
    {
     "name": "stdout",
     "output_type": "stream",
     "text": [
      "20\n",
      "10\n",
      "40\n",
      "30\n",
      "60\n",
      "90\n"
     ]
    }
   ],
   "source": [
    "for i in np.nditer(f):\n",
    "    print(i)"
   ]
  },
  {
   "cell_type": "code",
   "execution_count": 42,
   "id": "943f25c8",
   "metadata": {},
   "outputs": [
    {
     "name": "stdout",
     "output_type": "stream",
     "text": [
      "20.0\n",
      "10.0\n",
      "40.0\n",
      "30.0\n",
      "60.0\n",
      "90.0\n"
     ]
    }
   ],
   "source": [
    "for i in np.nditer(g):\n",
    "    print(i)"
   ]
  },
  {
   "cell_type": "code",
   "execution_count": 43,
   "id": "212860b4",
   "metadata": {},
   "outputs": [
    {
     "name": "stdout",
     "output_type": "stream",
     "text": [
      "20.0\n",
      "40.0\n",
      "60.0\n",
      "10.0\n",
      "30.0\n",
      "90.0\n"
     ]
    }
   ],
   "source": [
    "for i in np.nditer(h):\n",
    "    print(i)"
   ]
  },
  {
   "cell_type": "markdown",
   "id": "9d36a787",
   "metadata": {},
   "source": [
    "# 2.frombuffer:"
   ]
  },
  {
   "cell_type": "code",
   "execution_count": 66,
   "id": "62727982",
   "metadata": {},
   "outputs": [
    {
     "name": "stdout",
     "output_type": "stream",
     "text": [
      "[b'h' b'e' b'l' b'l' b'o' b'w' b' ' b'w' b'e' b'l' b'c' b'o' b'm' b'e'\n",
      " b' ' b't' b'o' b' ' b't' b'h' b'e' b' ' b'w' b'o' b'r' b'l' b'd']\n"
     ]
    }
   ],
   "source": [
    "import numpy as np\n",
    "s = b\"hellow welcome to the world\"\n",
    "j = np.frombuffer(s, dtype = \"S1\", count = -1, offset = 0)\n",
    "print(j)"
   ]
  },
  {
   "cell_type": "code",
   "execution_count": 50,
   "id": "69fd5fd3",
   "metadata": {},
   "outputs": [
    {
     "name": "stdout",
     "output_type": "stream",
     "text": [
      "[b'w' b'e' b'l' b'c' b'o' b'm' b'e' b' ' b't' b'o']\n"
     ]
    }
   ],
   "source": [
    "s = b\"hellow welcome to the world\"\n",
    "k = np.frombuffer(s, dtype = \"S1\", count = 10, offset = 7)\n",
    "print(k)"
   ]
  },
  {
   "cell_type": "code",
   "execution_count": 52,
   "id": "25f3705c",
   "metadata": {},
   "outputs": [
    {
     "name": "stdout",
     "output_type": "stream",
     "text": [
      "[b'c' b'o' b'm' b'e' b' ' b't' b'o' b' ' b't' b'h' b'e' b' ' b'w' b'o'\n",
      " b'r']\n"
     ]
    }
   ],
   "source": [
    "s = b\"hellow welcome to the world\"\n",
    "l = np.frombuffer(s, dtype = \"S1\", count = 15, offset = 10)\n",
    "print(l)"
   ]
  },
  {
   "cell_type": "markdown",
   "id": "581878c2",
   "metadata": {},
   "source": [
    "# 3.fromiter():"
   ]
  },
  {
   "cell_type": "code",
   "execution_count": 65,
   "id": "a9c74442",
   "metadata": {},
   "outputs": [
    {
     "name": "stdout",
     "output_type": "stream",
     "text": [
      "[20. 30. 60. 80. 90.]\n"
     ]
    }
   ],
   "source": [
    "import numpy as np\n",
    "list = [20,30,60,80,90]\n",
    "m = np.fromiter(list, dtype = \"float\", count = -1)\n",
    "print(m)"
   ]
  },
  {
   "cell_type": "code",
   "execution_count": 55,
   "id": "f26d79b1",
   "metadata": {},
   "outputs": [
    {
     "name": "stdout",
     "output_type": "stream",
     "text": [
      "[20. 30. 60.]\n"
     ]
    }
   ],
   "source": [
    "list = [20,30,60,80,90]\n",
    "n = np.fromiter(list, dtype = \"float\", count = 3)\n",
    "print(n)"
   ]
  },
  {
   "cell_type": "code",
   "execution_count": 56,
   "id": "c0b1f7c6",
   "metadata": {},
   "outputs": [
    {
     "name": "stdout",
     "output_type": "stream",
     "text": [
      "[20 30 60]\n"
     ]
    }
   ],
   "source": [
    "list = [20,30,60,80,90]\n",
    "o = np.fromiter(list, dtype = \"int\", count = 3)\n",
    "print(o)"
   ]
  },
  {
   "cell_type": "code",
   "execution_count": 57,
   "id": "16ea1a92",
   "metadata": {},
   "outputs": [
    {
     "name": "stdout",
     "output_type": "stream",
     "text": [
      "[20 30 60 80 90]\n"
     ]
    }
   ],
   "source": [
    "list = [20,30,60,80,90]\n",
    "p = np.fromiter(list, dtype = \"int\", count = -1)\n",
    "print(p)"
   ]
  },
  {
   "cell_type": "markdown",
   "id": "eef99ca2",
   "metadata": {},
   "source": [
    "# Arrays with Numerical Ranges"
   ]
  },
  {
   "cell_type": "markdown",
   "id": "7746950e",
   "metadata": {},
   "source": [
    "1. arange()\n",
    "2. linspace()\n",
    "3. logspace()\n",
    "\n",
    "start, stop, dtype parameters are the default common parameters to pass into the function."
   ]
  },
  {
   "cell_type": "markdown",
   "id": "311558f3",
   "metadata": {},
   "source": [
    "# Syantax for arange():"
   ]
  },
  {
   "cell_type": "markdown",
   "id": "c50bd66a",
   "metadata": {},
   "source": [
    "syntax: np.arange(start index, stop index, step size, dtype)\n",
    "\n",
    "It has Four parametes:\n",
    "\n",
    "dtype could be a int, float."
   ]
  },
  {
   "cell_type": "markdown",
   "id": "ef5833d1",
   "metadata": {},
   "source": [
    "# Syntax for linspace:"
   ]
  },
  {
   "cell_type": "markdown",
   "id": "98258d71",
   "metadata": {},
   "source": [
    "syntax: np.linspace(start index, stop index, num, endpoint, retstep, dtype)\n",
    "\n",
    "It has Six parameters.\n",
    "\n",
    "i. start index is a lower boundary.\n",
    "\n",
    "ii. stop index is a upper boundary.\n",
    "\n",
    "iii. num = number of required values in array.\n",
    "\n",
    "num is an optional.\n",
    "\n",
    "num By Default: 50\n",
    "\n",
    "iv. end point: True - stop index will be included.\n",
    "               False - stop index will be not included.\n",
    "\n",
    "end point is optional.\n",
    "\n",
    "end point By Default: True\n",
    "\n",
    "v. retstep: True - visible\n",
    "\n",
    "            False - not visible\n",
    "    \n",
    "retstep means difference between values.\n",
    "\n",
    "retstep is an optional\n",
    "\n",
    "retstep: False\n",
    "    \n",
    "vi. dtype - float, int.\n",
    "\n",
    "dtype is an optional."
   ]
  },
  {
   "cell_type": "markdown",
   "id": "17d5747f",
   "metadata": {},
   "source": [
    "# Syntax for logspace():"
   ]
  },
  {
   "cell_type": "markdown",
   "id": "129108a7",
   "metadata": {},
   "source": [
    "syntax: np.logspace(start index, stop index, num, endpoint, base, dtype)\n",
    "\n",
    "It has Six parameters.\n",
    "\n",
    "i. start index is a lower boundary.\n",
    "\n",
    "ii. stop index is a upper boundary.\n",
    "\n",
    "iii. num = number of required values in array.\n",
    "\n",
    "num is an optional.\n",
    "\n",
    "num By Default: 50\n",
    "\n",
    "iv. end point: True - stop index will be included.\n",
    "               False - stop index will be not included.\n",
    "\n",
    "end point is optional.\n",
    "\n",
    "end point By Default: True\n",
    "\n",
    "v. base - base of log value.\n",
    "\n",
    "base is an optional.\n",
    "\n",
    "base By Default: 10\n",
    "    \n",
    "vi. dtype - float, int.\n",
    "\n",
    "dtype is an optional."
   ]
  },
  {
   "cell_type": "markdown",
   "id": "7ef6817b",
   "metadata": {},
   "source": [
    "# Code: Arrays with numerical ranges"
   ]
  },
  {
   "cell_type": "markdown",
   "id": "fb46e1dc",
   "metadata": {},
   "source": [
    "# 1. arange():"
   ]
  },
  {
   "cell_type": "code",
   "execution_count": 58,
   "id": "adbf66fb",
   "metadata": {},
   "outputs": [
    {
     "name": "stdout",
     "output_type": "stream",
     "text": [
      "[ 0  2  4  6  8 10 12]\n"
     ]
    }
   ],
   "source": [
    "import numpy as np\n",
    "q = np.arange(0,14,2,dtype = \"int\")\n",
    "print(q)"
   ]
  },
  {
   "cell_type": "code",
   "execution_count": 61,
   "id": "86024980",
   "metadata": {},
   "outputs": [
    {
     "name": "stdout",
     "output_type": "stream",
     "text": [
      "[0. 1. 2. 3. 4. 5. 6. 7. 8. 9.]\n"
     ]
    }
   ],
   "source": [
    "import numpy as np\n",
    "r = np.arange(0,10,1,dtype = \"float\")\n",
    "print(r)"
   ]
  },
  {
   "cell_type": "code",
   "execution_count": 63,
   "id": "4e70d915",
   "metadata": {},
   "outputs": [
    {
     "name": "stdout",
     "output_type": "stream",
     "text": [
      "[0 1 2 3 4 5 6 7 8 9]\n"
     ]
    }
   ],
   "source": [
    "import numpy as np\n",
    "s = np.arange(0,10)\n",
    "print(s)"
   ]
  },
  {
   "cell_type": "code",
   "execution_count": 64,
   "id": "65cc24c0",
   "metadata": {},
   "outputs": [
    {
     "name": "stdout",
     "output_type": "stream",
     "text": [
      "[0. 1. 2. 3. 4. 5. 6. 7. 8. 9.]\n"
     ]
    }
   ],
   "source": [
    "import numpy as np\n",
    "t = np.arange(0,10,dtype = \"float\")\n",
    "print(t)"
   ]
  },
  {
   "cell_type": "markdown",
   "id": "20189337",
   "metadata": {},
   "source": [
    "# 2. linspace():"
   ]
  },
  {
   "cell_type": "code",
   "execution_count": 67,
   "id": "d718b6f4",
   "metadata": {},
   "outputs": [
    {
     "name": "stdout",
     "output_type": "stream",
     "text": [
      "[ 0.          0.20408163  0.40816327  0.6122449   0.81632653  1.02040816\n",
      "  1.2244898   1.42857143  1.63265306  1.83673469  2.04081633  2.24489796\n",
      "  2.44897959  2.65306122  2.85714286  3.06122449  3.26530612  3.46938776\n",
      "  3.67346939  3.87755102  4.08163265  4.28571429  4.48979592  4.69387755\n",
      "  4.89795918  5.10204082  5.30612245  5.51020408  5.71428571  5.91836735\n",
      "  6.12244898  6.32653061  6.53061224  6.73469388  6.93877551  7.14285714\n",
      "  7.34693878  7.55102041  7.75510204  7.95918367  8.16326531  8.36734694\n",
      "  8.57142857  8.7755102   8.97959184  9.18367347  9.3877551   9.59183673\n",
      "  9.79591837 10.        ]\n"
     ]
    }
   ],
   "source": [
    "import numpy as np\n",
    "u = np.linspace(0,10)\n",
    "print(u)"
   ]
  },
  {
   "cell_type": "code",
   "execution_count": 68,
   "id": "6f168b83",
   "metadata": {},
   "outputs": [
    {
     "name": "stdout",
     "output_type": "stream",
     "text": [
      "[ 0.          0.52631579  1.05263158  1.57894737  2.10526316  2.63157895\n",
      "  3.15789474  3.68421053  4.21052632  4.73684211  5.26315789  5.78947368\n",
      "  6.31578947  6.84210526  7.36842105  7.89473684  8.42105263  8.94736842\n",
      "  9.47368421 10.        ]\n"
     ]
    }
   ],
   "source": [
    "import numpy as np\n",
    "v = np.linspace(0,10,20)\n",
    "print(v)"
   ]
  },
  {
   "cell_type": "code",
   "execution_count": 69,
   "id": "23802954",
   "metadata": {},
   "outputs": [
    {
     "name": "stdout",
     "output_type": "stream",
     "text": [
      "[0.  0.5 1.  1.5 2.  2.5 3.  3.5 4.  4.5 5.  5.5 6.  6.5 7.  7.5 8.  8.5\n",
      " 9.  9.5]\n"
     ]
    }
   ],
   "source": [
    "import numpy as np\n",
    "w = np.linspace(0,10,20,endpoint = False)\n",
    "print(w)"
   ]
  },
  {
   "cell_type": "code",
   "execution_count": 72,
   "id": "aa94b1ae",
   "metadata": {},
   "outputs": [
    {
     "name": "stdout",
     "output_type": "stream",
     "text": [
      "(array([ 0,  2,  4,  7,  9, 11, 14, 16, 18, 21]), 2.3333333333333335)\n"
     ]
    }
   ],
   "source": [
    "import numpy as np\n",
    "x = np.linspace(0,21,10,endpoint = True,retstep = True, dtype = \"int\")\n",
    "print(x)"
   ]
  },
  {
   "cell_type": "code",
   "execution_count": 76,
   "id": "76984904",
   "metadata": {},
   "outputs": [
    {
     "name": "stdout",
     "output_type": "stream",
     "text": [
      "[ 0  2  4  7  9 11 14 16 18 21]\n"
     ]
    }
   ],
   "source": [
    "import numpy as np\n",
    "y= np.linspace(0,21,10,endpoint = True,retstep = False, dtype = \"int\")\n",
    "print(y)"
   ]
  },
  {
   "cell_type": "code",
   "execution_count": 75,
   "id": "7f3b32de",
   "metadata": {},
   "outputs": [
    {
     "name": "stdout",
     "output_type": "stream",
     "text": [
      "[ 0.          2.33333333  4.66666667  7.          9.33333333 11.66666667\n",
      " 14.         16.33333333 18.66666667 21.        ]\n"
     ]
    }
   ],
   "source": [
    "import numpy as np\n",
    "z = np.linspace(0,21,10,endpoint = True,retstep = False)\n",
    "print(z)"
   ]
  },
  {
   "cell_type": "markdown",
   "id": "0770b77c",
   "metadata": {},
   "source": [
    "# 3.logspace():"
   ]
  },
  {
   "cell_type": "code",
   "execution_count": 78,
   "id": "176fd80b",
   "metadata": {},
   "outputs": [
    {
     "data": {
      "text/plain": [
       "array([1.00000000e+00, 1.59985872e+00, 2.55954792e+00, 4.09491506e+00,\n",
       "       6.55128557e+00, 1.04811313e+01, 1.67683294e+01, 2.68269580e+01,\n",
       "       4.29193426e+01, 6.86648845e+01, 1.09854114e+02, 1.75751062e+02,\n",
       "       2.81176870e+02, 4.49843267e+02, 7.19685673e+02, 1.15139540e+03,\n",
       "       1.84206997e+03, 2.94705170e+03, 4.71486636e+03, 7.54312006e+03,\n",
       "       1.20679264e+04, 1.93069773e+04, 3.08884360e+04, 4.94171336e+04,\n",
       "       7.90604321e+04, 1.26485522e+05, 2.02358965e+05, 3.23745754e+05,\n",
       "       5.17947468e+05, 8.28642773e+05, 1.32571137e+06, 2.12095089e+06,\n",
       "       3.39322177e+06, 5.42867544e+06, 8.68511374e+06, 1.38949549e+07,\n",
       "       2.22299648e+07, 3.55648031e+07, 5.68986603e+07, 9.10298178e+07,\n",
       "       1.45634848e+08, 2.32995181e+08, 3.72759372e+08, 5.96362332e+08,\n",
       "       9.54095476e+08, 1.52641797e+09, 2.44205309e+09, 3.90693994e+09,\n",
       "       6.25055193e+09, 1.00000000e+10])"
      ]
     },
     "execution_count": 78,
     "metadata": {},
     "output_type": "execute_result"
    }
   ],
   "source": [
    "import numpy as np\n",
    "arr1 = np.logspace(0,10)\n",
    "arr1"
   ]
  },
  {
   "cell_type": "code",
   "execution_count": 79,
   "id": "b5c7de8d",
   "metadata": {},
   "outputs": [
    {
     "data": {
      "text/plain": [
       "array([1.00000000e+00, 4.64158883e+02, 2.15443469e+05, 1.00000000e+08,\n",
       "       4.64158883e+10, 2.15443469e+13, 1.00000000e+16, 4.64158883e+18,\n",
       "       2.15443469e+21, 1.00000000e+24])"
      ]
     },
     "execution_count": 79,
     "metadata": {},
     "output_type": "execute_result"
    }
   ],
   "source": [
    "import numpy as np\n",
    "arr2 = np.logspace(0,24,10,endpoint = True, dtype = \"float\")\n",
    "arr2"
   ]
  },
  {
   "cell_type": "code",
   "execution_count": 82,
   "id": "d42cfeaf",
   "metadata": {},
   "outputs": [
    {
     "data": {
      "text/plain": [
       "array([1.00000000e+00, 6.34960421e+00, 4.03174736e+01, 2.56000000e+02,\n",
       "       1.62549868e+03, 1.03212732e+04, 6.55360000e+04, 4.16127661e+05,\n",
       "       2.64224595e+06, 1.67772160e+07])"
      ]
     },
     "execution_count": 82,
     "metadata": {},
     "output_type": "execute_result"
    }
   ],
   "source": [
    "import numpy as np\n",
    "arr3 = np.logspace(0,24,10,endpoint = True, base = 2, dtype = \"float\")\n",
    "arr3"
   ]
  },
  {
   "cell_type": "code",
   "execution_count": 81,
   "id": "a9cafef3",
   "metadata": {},
   "outputs": [
    {
     "data": {
      "text/plain": [
       "array([1.00000000e+00, 5.27803164e+00, 2.78576180e+01, 1.47033389e+02,\n",
       "       7.76046882e+02, 4.09600000e+03, 2.16188176e+04, 1.14104803e+05,\n",
       "       6.02248763e+05, 3.17868803e+06])"
      ]
     },
     "execution_count": 81,
     "metadata": {},
     "output_type": "execute_result"
    }
   ],
   "source": [
    "import numpy as np\n",
    "arr4 = np.logspace(0,24,10,endpoint = False, base = 2, dtype = \"float\")\n",
    "arr4"
   ]
  },
  {
   "cell_type": "markdown",
   "id": "53ae4769",
   "metadata": {},
   "source": [
    "# Initializing of Arrays in NumPy"
   ]
  },
  {
   "cell_type": "markdown",
   "id": "3239fbe7",
   "metadata": {},
   "source": [
    "1. zeros() - Array filled with 0's\n",
    "2. ones() - Array filled with 1's\n",
    "3. full() - Array filled with required elements\n",
    "4. eye() - Array diagonal elements filled with 1's\n",
    "5. empty() - creates an empty array"
   ]
  },
  {
   "cell_type": "markdown",
   "id": "db5f0b51",
   "metadata": {},
   "source": [
    "# Syntax for zeros():"
   ]
  },
  {
   "cell_type": "markdown",
   "id": "1a04afc0",
   "metadata": {},
   "source": [
    "syntax: np.zeros(shape,dtype)\n",
    "    \n",
    "dtype = int or float\n",
    "\n",
    "float is a default dtype"
   ]
  },
  {
   "cell_type": "markdown",
   "id": "024b045e",
   "metadata": {},
   "source": [
    "# Syntax for ones():"
   ]
  },
  {
   "cell_type": "markdown",
   "id": "09720ae0",
   "metadata": {},
   "source": [
    "syntax: np.ones(shape, dtype)\n",
    "    \n",
    "dtype = int or float\n",
    "\n",
    "float is a default dtype"
   ]
  },
  {
   "cell_type": "markdown",
   "id": "de49e78a",
   "metadata": {},
   "source": [
    "# Syntax for full():"
   ]
  },
  {
   "cell_type": "markdown",
   "id": "a95f4cf6",
   "metadata": {},
   "source": [
    "full() initializes the elements with the given value.\n",
    "\n",
    "syntax: np.full(shape, default value)"
   ]
  },
  {
   "cell_type": "markdown",
   "id": "5f8f8717",
   "metadata": {},
   "source": [
    "# Syntax for eye():"
   ]
  },
  {
   "cell_type": "markdown",
   "id": "f1d593cd",
   "metadata": {},
   "source": [
    "eye() will take square matrix and it will initialize 1's on all diadonal positions and initializes 0's on all Non-Diagonal positions.\n",
    "\n",
    "syntax: np.eye(Rows/Columns,dtype)\n",
    "    \n",
    "dtype = int/float\n",
    "\n",
    "float is a default dtype\n"
   ]
  },
  {
   "cell_type": "markdown",
   "id": "479de1bb",
   "metadata": {},
   "source": [
    "# Code:Initializing of Arrays in numpy"
   ]
  },
  {
   "cell_type": "markdown",
   "id": "81766c39",
   "metadata": {},
   "source": [
    "# 1.zeros():"
   ]
  },
  {
   "cell_type": "code",
   "execution_count": 8,
   "id": "3e5a05d1",
   "metadata": {},
   "outputs": [
    {
     "name": "stdout",
     "output_type": "stream",
     "text": [
      "[0. 0. 0. 0. 0. 0.]\n"
     ]
    }
   ],
   "source": [
    "import numpy as np\n",
    "x = np.zeros(6)\n",
    "print(x)"
   ]
  },
  {
   "cell_type": "code",
   "execution_count": 9,
   "id": "306a15d6",
   "metadata": {},
   "outputs": [
    {
     "name": "stdout",
     "output_type": "stream",
     "text": [
      "[[0. 0.]\n",
      " [0. 0.]\n",
      " [0. 0.]\n",
      " [0. 0.]]\n"
     ]
    }
   ],
   "source": [
    "import numpy as np\n",
    "y = np.zeros((4,2))\n",
    "print(y)"
   ]
  },
  {
   "cell_type": "code",
   "execution_count": 83,
   "id": "23e2a424",
   "metadata": {},
   "outputs": [
    {
     "name": "stdout",
     "output_type": "stream",
     "text": [
      "[[0. 0. 0.]\n",
      " [0. 0. 0.]\n",
      " [0. 0. 0.]]\n"
     ]
    }
   ],
   "source": [
    "import numpy as np\n",
    "arr = np.zeros((3,3))\n",
    "print(arr)\n"
   ]
  },
  {
   "cell_type": "code",
   "execution_count": 85,
   "id": "93867b40",
   "metadata": {},
   "outputs": [
    {
     "name": "stdout",
     "output_type": "stream",
     "text": [
      "[[0 0 0]\n",
      " [0 0 0]\n",
      " [0 0 0]]\n"
     ]
    }
   ],
   "source": [
    "arr_1 = np.zeros((3,3),dtype=\"int\")\n",
    "print(arr_1)"
   ]
  },
  {
   "cell_type": "markdown",
   "id": "9f669240",
   "metadata": {},
   "source": [
    "# 2.ones():"
   ]
  },
  {
   "cell_type": "code",
   "execution_count": 87,
   "id": "18965fa4",
   "metadata": {},
   "outputs": [
    {
     "data": {
      "text/plain": [
       "array([[1, 1, 1, 1],\n",
       "       [1, 1, 1, 1]])"
      ]
     },
     "execution_count": 87,
     "metadata": {},
     "output_type": "execute_result"
    }
   ],
   "source": [
    "import numpy as np\n",
    "arr_2 =np.ones((2,4),dtype=\"int\")\n",
    "arr_2"
   ]
  },
  {
   "cell_type": "code",
   "execution_count": 88,
   "id": "82aa8842",
   "metadata": {},
   "outputs": [
    {
     "data": {
      "text/plain": [
       "array([[1., 1., 1.],\n",
       "       [1., 1., 1.],\n",
       "       [1., 1., 1.],\n",
       "       [1., 1., 1.]])"
      ]
     },
     "execution_count": 88,
     "metadata": {},
     "output_type": "execute_result"
    }
   ],
   "source": [
    "import numpy as np\n",
    "arr_3 =np.ones((4,3),dtype=\"float\")\n",
    "arr_3"
   ]
  },
  {
   "cell_type": "code",
   "execution_count": 89,
   "id": "7e6db958",
   "metadata": {},
   "outputs": [
    {
     "data": {
      "text/plain": [
       "array([[1., 1., 1.],\n",
       "       [1., 1., 1.],\n",
       "       [1., 1., 1.],\n",
       "       [1., 1., 1.]])"
      ]
     },
     "execution_count": 89,
     "metadata": {},
     "output_type": "execute_result"
    }
   ],
   "source": [
    "import numpy as np\n",
    "arr_3 =np.ones((4,3))\n",
    "arr_3"
   ]
  },
  {
   "cell_type": "code",
   "execution_count": 11,
   "id": "702fb3a7",
   "metadata": {},
   "outputs": [
    {
     "name": "stdout",
     "output_type": "stream",
     "text": [
      "[1. 1. 1.]\n"
     ]
    }
   ],
   "source": [
    "import numpy as np\n",
    "z =np.ones((3))\n",
    "print(z)"
   ]
  },
  {
   "cell_type": "markdown",
   "id": "b7e59931",
   "metadata": {},
   "source": [
    "# 3.full():"
   ]
  },
  {
   "cell_type": "code",
   "execution_count": 94,
   "id": "20d5e910",
   "metadata": {},
   "outputs": [
    {
     "data": {
      "text/plain": [
       "array([[6, 6, 6],\n",
       "       [6, 6, 6],\n",
       "       [6, 6, 6],\n",
       "       [6, 6, 6]])"
      ]
     },
     "execution_count": 94,
     "metadata": {},
     "output_type": "execute_result"
    }
   ],
   "source": [
    "import numpy as np\n",
    "arr_4 =np.full((4,3),6)\n",
    "arr_4"
   ]
  },
  {
   "cell_type": "code",
   "execution_count": 95,
   "id": "bdcf24dd",
   "metadata": {},
   "outputs": [
    {
     "data": {
      "text/plain": [
       "array([[6., 6., 6.],\n",
       "       [6., 6., 6.],\n",
       "       [6., 6., 6.],\n",
       "       [6., 6., 6.]])"
      ]
     },
     "execution_count": 95,
     "metadata": {},
     "output_type": "execute_result"
    }
   ],
   "source": [
    "import numpy as np\n",
    "arr_5 =np.full((4,3),6,dtype=\"float\")\n",
    "arr_5"
   ]
  },
  {
   "cell_type": "markdown",
   "id": "e95d0216",
   "metadata": {},
   "source": [
    "# 4.eye():"
   ]
  },
  {
   "cell_type": "code",
   "execution_count": 97,
   "id": "e4bc4a82",
   "metadata": {},
   "outputs": [
    {
     "data": {
      "text/plain": [
       "array([[1., 0.],\n",
       "       [0., 1.]])"
      ]
     },
     "execution_count": 97,
     "metadata": {},
     "output_type": "execute_result"
    }
   ],
   "source": [
    "import numpy as np\n",
    "arr_6 =np.eye(2,dtype=\"float\")\n",
    "arr_6"
   ]
  },
  {
   "cell_type": "code",
   "execution_count": 98,
   "id": "8d09f104",
   "metadata": {},
   "outputs": [
    {
     "data": {
      "text/plain": [
       "array([[1., 0., 0., 0.],\n",
       "       [0., 1., 0., 0.],\n",
       "       [0., 0., 1., 0.],\n",
       "       [0., 0., 0., 1.]])"
      ]
     },
     "execution_count": 98,
     "metadata": {},
     "output_type": "execute_result"
    }
   ],
   "source": [
    "import numpy as np\n",
    "arr_7 =np.eye(4)\n",
    "arr_7"
   ]
  },
  {
   "cell_type": "code",
   "execution_count": 100,
   "id": "9cbe5cc3",
   "metadata": {},
   "outputs": [
    {
     "data": {
      "text/plain": [
       "array([[1, 0, 0, 0],\n",
       "       [0, 1, 0, 0],\n",
       "       [0, 0, 1, 0],\n",
       "       [0, 0, 0, 1]])"
      ]
     },
     "execution_count": 100,
     "metadata": {},
     "output_type": "execute_result"
    }
   ],
   "source": [
    "import numpy as np\n",
    "arr_8 =np.eye(4,dtype = \"int\")\n",
    "arr_8"
   ]
  },
  {
   "cell_type": "code",
   "execution_count": 19,
   "id": "99e30811",
   "metadata": {},
   "outputs": [
    {
     "name": "stdout",
     "output_type": "stream",
     "text": [
      "[[1. 0. 0. 0. 0.]\n",
      " [0. 1. 0. 0. 0.]\n",
      " [0. 0. 1. 0. 0.]]\n"
     ]
    }
   ],
   "source": [
    "import numpy as np\n",
    "ar =np.eye(3,5)\n",
    "print(ar)"
   ]
  },
  {
   "cell_type": "code",
   "execution_count": 21,
   "id": "f8a4ac17",
   "metadata": {},
   "outputs": [
    {
     "name": "stdout",
     "output_type": "stream",
     "text": [
      "[[1. 0. 0.]\n",
      " [0. 1. 0.]\n",
      " [0. 0. 1.]\n",
      " [0. 0. 0.]\n",
      " [0. 0. 0.]]\n"
     ]
    }
   ],
   "source": [
    "import numpy as np\n",
    "arrr =np.eye(5,3)\n",
    "print(arrr)"
   ]
  },
  {
   "cell_type": "markdown",
   "id": "7f5c93c1",
   "metadata": {},
   "source": [
    "# 5.empty():"
   ]
  },
  {
   "cell_type": "code",
   "execution_count": 12,
   "id": "35122960",
   "metadata": {},
   "outputs": [
    {
     "name": "stdout",
     "output_type": "stream",
     "text": [
      "[2.12199579e-314 8.99726215e-312 8.20148972e-321 3.79442416e-321]\n"
     ]
    }
   ],
   "source": [
    "import numpy as np\n",
    "arr_9 = np.empty(4)\n",
    "print(arr_9)"
   ]
  },
  {
   "cell_type": "code",
   "execution_count": 13,
   "id": "a7c81d8d",
   "metadata": {},
   "outputs": [
    {
     "name": "stdout",
     "output_type": "stream",
     "text": [
      "[[9.01183978e-312 2.47032823e-322 0.00000000e+000]\n",
      " [0.00000000e+000 1.18831764e-312 2.46567317e+179]\n",
      " [5.44928098e-090 4.00769608e+174 1.28272390e+160]\n",
      " [1.16006373e-046 3.99910963e+252 4.42625653e-062]]\n"
     ]
    }
   ],
   "source": [
    "import numpy as np\n",
    "arr_9 = np.empty((4,3))\n",
    "print(arr_9)"
   ]
  },
  {
   "cell_type": "code",
   "execution_count": 15,
   "id": "4379c34a",
   "metadata": {},
   "outputs": [
    {
     "name": "stdout",
     "output_type": "stream",
     "text": [
      "[[0. 0. 0.]\n",
      " [0. 0. 0.]]\n"
     ]
    }
   ],
   "source": [
    "import numpy as np\n",
    "arr_10 = np.empty((2,3))\n",
    "print(arr_10)"
   ]
  },
  {
   "cell_type": "code",
   "execution_count": 16,
   "id": "bf637b10",
   "metadata": {},
   "outputs": [
    {
     "name": "stdout",
     "output_type": "stream",
     "text": [
      "[[0. 0.]\n",
      " [0. 0.]\n",
      " [0. 0.]]\n"
     ]
    }
   ],
   "source": [
    "import numpy as np\n",
    "arr_11 = np.empty((3,2))\n",
    "print(arr_11)"
   ]
  },
  {
   "cell_type": "code",
   "execution_count": 17,
   "id": "fa0280c7",
   "metadata": {},
   "outputs": [
    {
     "name": "stdout",
     "output_type": "stream",
     "text": [
      "[[9.01183978e-312 2.47032823e-322 0.00000000e+000 0.00000000e+000]\n",
      " [1.18831764e-312 2.46567317e+179 5.44928098e-090 4.00769608e+174]\n",
      " [1.28272390e+160 1.16006373e-046 3.99910963e+252 4.42625653e-062]]\n"
     ]
    }
   ],
   "source": [
    "import numpy as np\n",
    "arr_12 = np.empty((3,4))\n",
    "print(arr_12)"
   ]
  },
  {
   "cell_type": "markdown",
   "id": "2739fb4b",
   "metadata": {},
   "source": [
    "# Create NumPy Arrays with Random Numbers"
   ]
  },
  {
   "cell_type": "markdown",
   "id": "de898d99",
   "metadata": {},
   "source": [
    "1.rand():\n",
    "    \n",
    "    The function is used to generate a random value between 0 to 1. \n",
    "    \n",
    "2.randn():\n",
    "    \n",
    "    The function is used to generate a random value close to zero. This may return positive or negative numbers as well.\n",
    "    \n",
    "3.ranf():\n",
    "    \n",
    "    The function is used to generate a random value close to zero.\n",
    "    \n",
    "    The function for doing random sampling in numpy.\n",
    "    \n",
    "    It returns an array of specified shape and fills it with random floats in the half open interval[0.0,1.0].\n",
    "    \n",
    "    \n",
    "4.randint():\n",
    "    \n",
    "    The function is used to generate a random number between a given range."
   ]
  },
  {
   "cell_type": "markdown",
   "id": "cf95f125",
   "metadata": {},
   "source": [
    "# 1.rand():"
   ]
  },
  {
   "cell_type": "code",
   "execution_count": 29,
   "id": "7915e8a6",
   "metadata": {},
   "outputs": [
    {
     "name": "stdout",
     "output_type": "stream",
     "text": [
      "[0.23733819 0.00032765 0.30554692]\n"
     ]
    }
   ],
   "source": [
    "import numpy as np\n",
    "array1=np.random.rand(3)\n",
    "print(array1)"
   ]
  },
  {
   "cell_type": "code",
   "execution_count": 28,
   "id": "4b29291b",
   "metadata": {},
   "outputs": [
    {
     "name": "stdout",
     "output_type": "stream",
     "text": [
      "[[0.91841762 0.17478362 0.27413305 0.35954776 0.74250397]\n",
      " [0.87368294 0.73851841 0.28560795 0.8033986  0.05023747]]\n"
     ]
    }
   ],
   "source": [
    "import numpy as np\n",
    "array2=np.random.rand(2,5)\n",
    "print(array2)"
   ]
  },
  {
   "cell_type": "code",
   "execution_count": 27,
   "id": "f7d5222b",
   "metadata": {},
   "outputs": [
    {
     "name": "stdout",
     "output_type": "stream",
     "text": [
      "[[0.82982455 0.84961316 0.00722902 0.83240701]\n",
      " [0.45460637 0.01860966 0.9173192  0.0669857 ]\n",
      " [0.05150768 0.24446183 0.8453103  0.19683412]]\n"
     ]
    }
   ],
   "source": [
    "import numpy as np\n",
    "array3=np.random.rand(3,4)\n",
    "print(array3)"
   ]
  },
  {
   "cell_type": "markdown",
   "id": "49f54362",
   "metadata": {},
   "source": [
    "# 2.randn():"
   ]
  },
  {
   "cell_type": "code",
   "execution_count": 31,
   "id": "94c7a8d5",
   "metadata": {},
   "outputs": [
    {
     "name": "stdout",
     "output_type": "stream",
     "text": [
      "[ 1.12882903  1.24703418  0.64960884 -0.33064272]\n"
     ]
    }
   ],
   "source": [
    "import numpy as np\n",
    "array4=np.random.randn(4)\n",
    "print(array4)"
   ]
  },
  {
   "cell_type": "code",
   "execution_count": 33,
   "id": "c84d316c",
   "metadata": {},
   "outputs": [
    {
     "name": "stdout",
     "output_type": "stream",
     "text": [
      "[[-0.70245921 -2.06635964  0.8308698 ]\n",
      " [ 1.0361534   0.63984489  0.67205609]\n",
      " [ 1.93107238 -1.06425487 -1.32524385]\n",
      " [ 0.13079974 -0.46417547 -0.35565341]]\n"
     ]
    }
   ],
   "source": [
    "import numpy as np\n",
    "array5=np.random.randn(4,3)\n",
    "print(array5)"
   ]
  },
  {
   "cell_type": "code",
   "execution_count": 35,
   "id": "b3971469",
   "metadata": {},
   "outputs": [
    {
     "name": "stdout",
     "output_type": "stream",
     "text": [
      "[[ 1.06994815 -1.12821625 -0.81215523]\n",
      " [ 0.21255246  1.08782763  0.52418612]\n",
      " [-0.99351535 -0.00888063  0.79051441]]\n"
     ]
    }
   ],
   "source": [
    "import numpy as np\n",
    "array6=np.random.randn(3,3)\n",
    "print(array6)"
   ]
  },
  {
   "cell_type": "markdown",
   "id": "1be606b8",
   "metadata": {},
   "source": [
    "# 3.randf():"
   ]
  },
  {
   "cell_type": "code",
   "execution_count": 37,
   "id": "281e05b4",
   "metadata": {},
   "outputs": [
    {
     "name": "stdout",
     "output_type": "stream",
     "text": [
      "[0.118567   0.35730937 0.77745414 0.88768969 0.69870724]\n"
     ]
    }
   ],
   "source": [
    "import numpy as np\n",
    "array7=np.random.ranf(5)\n",
    "print(array7)"
   ]
  },
  {
   "cell_type": "markdown",
   "id": "180b320b",
   "metadata": {},
   "source": [
    "# 4.randint():"
   ]
  },
  {
   "cell_type": "code",
   "execution_count": 40,
   "id": "a0eb0310",
   "metadata": {},
   "outputs": [
    {
     "name": "stdout",
     "output_type": "stream",
     "text": [
      "[12 20 11 21  9  5]\n"
     ]
    }
   ],
   "source": [
    "import numpy as np\n",
    "array9=np.random.randint(4,25,6)\n",
    "print(array9)"
   ]
  },
  {
   "cell_type": "code",
   "execution_count": 41,
   "id": "95501ac2",
   "metadata": {},
   "outputs": [
    {
     "name": "stdout",
     "output_type": "stream",
     "text": [
      "[28 22  8 22  2 14 11 17  8]\n"
     ]
    }
   ],
   "source": [
    "import numpy as np\n",
    "array10=np.random.randint(2,30,9)\n",
    "print(array10)"
   ]
  },
  {
   "cell_type": "code",
   "execution_count": 42,
   "id": "44b2736d",
   "metadata": {},
   "outputs": [
    {
     "name": "stdout",
     "output_type": "stream",
     "text": [
      "[28 22  8 22  2 14 11 17  8]\n"
     ]
    }
   ],
   "source": [
    "import numpy as np\n",
    "array11=np.random.randint(6,35,12)\n",
    "print(array10)"
   ]
  },
  {
   "cell_type": "markdown",
   "id": "135102cd",
   "metadata": {},
   "source": [
    "# shape() and reshape()"
   ]
  },
  {
   "cell_type": "markdown",
   "id": "141a19df",
   "metadata": {},
   "source": [
    "# Syntax for shape():"
   ]
  },
  {
   "cell_type": "markdown",
   "id": "416d35e5",
   "metadata": {},
   "source": [
    "shape() will return tuple specifying indices and no:of elements\n",
    "\n",
    "syntax: np.shape(variable name of the array)"
   ]
  },
  {
   "cell_type": "markdown",
   "id": "9cb980ee",
   "metadata": {},
   "source": [
    "# Syntax for reshape():"
   ]
  },
  {
   "cell_type": "markdown",
   "id": "49ad3e9b",
   "metadata": {},
   "source": [
    "reshape() will accept Array_Name and shape dimensions.\n",
    "\n",
    "syntax: np.reshape(variable name of the array,shape)"
   ]
  },
  {
   "cell_type": "markdown",
   "id": "dca3aaea",
   "metadata": {},
   "source": [
    "# Code: shape() and reshape()"
   ]
  },
  {
   "cell_type": "markdown",
   "id": "67fa5e30",
   "metadata": {},
   "source": [
    "# 1.shape():"
   ]
  },
  {
   "cell_type": "code",
   "execution_count": 107,
   "id": "8043265e",
   "metadata": {},
   "outputs": [
    {
     "name": "stdout",
     "output_type": "stream",
     "text": [
      "[1 3 5 7 9]\n"
     ]
    },
    {
     "data": {
      "text/plain": [
       "(5,)"
      ]
     },
     "execution_count": 107,
     "metadata": {},
     "output_type": "execute_result"
    }
   ],
   "source": [
    "import numpy as np\n",
    "a=np.array([1,3,5,7,9])\n",
    "print(a)\n",
    "np.shape(a)"
   ]
  },
  {
   "cell_type": "code",
   "execution_count": 106,
   "id": "9d15d8bd",
   "metadata": {},
   "outputs": [
    {
     "name": "stdout",
     "output_type": "stream",
     "text": [
      "[[1 3 5]\n",
      " [2 4 6]]\n"
     ]
    },
    {
     "data": {
      "text/plain": [
       "(2, 3)"
      ]
     },
     "execution_count": 106,
     "metadata": {},
     "output_type": "execute_result"
    }
   ],
   "source": [
    "import numpy as np\n",
    "b=np.array([[1,3,5],[2,4,6]])\n",
    "print(b)\n",
    "np.shape(b)"
   ]
  },
  {
   "cell_type": "code",
   "execution_count": 108,
   "id": "71ca84c2",
   "metadata": {},
   "outputs": [
    {
     "name": "stdout",
     "output_type": "stream",
     "text": [
      "[[[1 3 5 9]\n",
      "  [2 4 6 8]]\n",
      "\n",
      " [[6 4 2 9]\n",
      "  [3 8 5 1]]]\n"
     ]
    },
    {
     "data": {
      "text/plain": [
       "(2, 2, 4)"
      ]
     },
     "execution_count": 108,
     "metadata": {},
     "output_type": "execute_result"
    }
   ],
   "source": [
    "import numpy as np\n",
    "c=np.array([[[1,3,5,9],[2,4,6,8]],[[6,4,2,9],[3,8,5,1]]])\n",
    "print(c)\n",
    "np.shape(c)"
   ]
  },
  {
   "cell_type": "code",
   "execution_count": 110,
   "id": "53e6af29",
   "metadata": {},
   "outputs": [
    {
     "name": "stdout",
     "output_type": "stream",
     "text": [
      "[[[1 3 5 9]\n",
      "  [2 4 6 8]\n",
      "  [6 4 2 9]\n",
      "  [3 8 5 1]]]\n"
     ]
    },
    {
     "data": {
      "text/plain": [
       "(1, 4, 4)"
      ]
     },
     "execution_count": 110,
     "metadata": {},
     "output_type": "execute_result"
    }
   ],
   "source": [
    "import numpy as np\n",
    "d=np.array([[[1,3,5,9],[2,4,6,8],[6,4,2,9],[3,8,5,1]]])\n",
    "print(d)\n",
    "np.shape(d)"
   ]
  },
  {
   "cell_type": "code",
   "execution_count": 111,
   "id": "f2af17ae",
   "metadata": {},
   "outputs": [
    {
     "name": "stdout",
     "output_type": "stream",
     "text": [
      "[[1 3 5 9]\n",
      " [2 4 6 8]\n",
      " [6 4 2 9]\n",
      " [3 8 5 1]]\n"
     ]
    },
    {
     "data": {
      "text/plain": [
       "(4, 4)"
      ]
     },
     "execution_count": 111,
     "metadata": {},
     "output_type": "execute_result"
    }
   ],
   "source": [
    "import numpy as np\n",
    "d=np.array([[1,3,5,9],[2,4,6,8],[6,4,2,9],[3,8,5,1]])\n",
    "print(d)\n",
    "np.shape(d)"
   ]
  },
  {
   "cell_type": "code",
   "execution_count": 115,
   "id": "5e7b7bd6",
   "metadata": {},
   "outputs": [
    {
     "name": "stdout",
     "output_type": "stream",
     "text": [
      "[[1 3 5 9]\n",
      " [2 4 6 8]\n",
      " [6 4 2 9]]\n"
     ]
    },
    {
     "data": {
      "text/plain": [
       "(3, 4)"
      ]
     },
     "execution_count": 115,
     "metadata": {},
     "output_type": "execute_result"
    }
   ],
   "source": [
    "import numpy as np\n",
    "e=np.array([[1,3,5,9],[2,4,6,8],[6,4,2,9]])\n",
    "print(e)\n",
    "np.shape(e)"
   ]
  },
  {
   "cell_type": "code",
   "execution_count": 116,
   "id": "59886c4e",
   "metadata": {},
   "outputs": [
    {
     "name": "stdout",
     "output_type": "stream",
     "text": [
      "[[1 3 5]\n",
      " [2 4 6]\n",
      " [6 4 2]]\n"
     ]
    },
    {
     "data": {
      "text/plain": [
       "(3, 3)"
      ]
     },
     "execution_count": 116,
     "metadata": {},
     "output_type": "execute_result"
    }
   ],
   "source": [
    "import numpy as np\n",
    "f=np.array([[1,3,5],[2,4,6],[6,4,2]])\n",
    "print(f)\n",
    "np.shape(f)"
   ]
  },
  {
   "cell_type": "code",
   "execution_count": 117,
   "id": "8f2f3530",
   "metadata": {},
   "outputs": [
    {
     "name": "stdout",
     "output_type": "stream",
     "text": [
      "[[1 3]\n",
      " [2 4]\n",
      " [6 4]]\n"
     ]
    },
    {
     "data": {
      "text/plain": [
       "(3, 2)"
      ]
     },
     "execution_count": 117,
     "metadata": {},
     "output_type": "execute_result"
    }
   ],
   "source": [
    "import numpy as np\n",
    "g=np.array([[1,3],[2,4],[6,4]])\n",
    "print(g)\n",
    "np.shape(g)"
   ]
  },
  {
   "cell_type": "code",
   "execution_count": 49,
   "id": "5582daad",
   "metadata": {},
   "outputs": [
    {
     "name": "stdout",
     "output_type": "stream",
     "text": [
      "[[1 3 5 7]\n",
      " [2 4 6 8]]\n",
      "2\n"
     ]
    },
    {
     "data": {
      "text/plain": [
       "(2, 4)"
      ]
     },
     "execution_count": 49,
     "metadata": {},
     "output_type": "execute_result"
    }
   ],
   "source": [
    "import numpy as np\n",
    "j=np.array([[1,3,5,7],[2,4,6,8]])\n",
    "print(j)\n",
    "print(j.ndim)\n",
    "np.shape(j)"
   ]
  },
  {
   "cell_type": "code",
   "execution_count": 50,
   "id": "ece6d34a",
   "metadata": {},
   "outputs": [
    {
     "name": "stdout",
     "output_type": "stream",
     "text": [
      "[[[[[5 6 7 8]]]]]\n",
      "5\n"
     ]
    },
    {
     "data": {
      "text/plain": [
       "(1, 1, 1, 1, 4)"
      ]
     },
     "execution_count": 50,
     "metadata": {},
     "output_type": "execute_result"
    }
   ],
   "source": [
    "import numpy as np\n",
    "k = np.array([5,6,7,8],ndmin=5)\n",
    "print(k)\n",
    "print(k.ndim)\n",
    "np.shape(k)"
   ]
  },
  {
   "cell_type": "code",
   "execution_count": 52,
   "id": "1efe495c",
   "metadata": {},
   "outputs": [
    {
     "name": "stdout",
     "output_type": "stream",
     "text": [
      "[[[[[[ 5  6  7  8]\n",
      "     [12 34 56 79]]]]]]\n",
      "6\n"
     ]
    },
    {
     "data": {
      "text/plain": [
       "(1, 1, 1, 1, 2, 4)"
      ]
     },
     "execution_count": 52,
     "metadata": {},
     "output_type": "execute_result"
    }
   ],
   "source": [
    "import numpy as np\n",
    "l = np.array([[5,6,7,8],[12,34,56,79]],ndmin=6)\n",
    "print(l)\n",
    "print(l.ndim)\n",
    "np.shape(l)"
   ]
  },
  {
   "cell_type": "code",
   "execution_count": 54,
   "id": "f044177e",
   "metadata": {},
   "outputs": [
    {
     "name": "stdout",
     "output_type": "stream",
     "text": [
      "[[[[ 5  6  7  8]\n",
      "   [12 34 56 79]\n",
      "   [12 34 65 86]]]]\n",
      "4\n"
     ]
    },
    {
     "data": {
      "text/plain": [
       "(1, 1, 3, 4)"
      ]
     },
     "execution_count": 54,
     "metadata": {},
     "output_type": "execute_result"
    }
   ],
   "source": [
    "import numpy as np\n",
    "m = np.array([[5,6,7,8],[12,34,56,79],[12,34,65,86]],ndmin=4)\n",
    "print(m)\n",
    "print(m.ndim)\n",
    "np.shape(m)"
   ]
  },
  {
   "cell_type": "code",
   "execution_count": 56,
   "id": "f59f80fb",
   "metadata": {},
   "outputs": [
    {
     "name": "stdout",
     "output_type": "stream",
     "text": [
      "[[[ 1  3  5  9]\n",
      "  [ 2  4  6  8]]\n",
      "\n",
      " [[ 6  4  2  9]\n",
      "  [ 3  8  5  1]]\n",
      "\n",
      " [[32 34 67 93]\n",
      "  [12 46 83 45]]]\n"
     ]
    },
    {
     "data": {
      "text/plain": [
       "(3, 2, 4)"
      ]
     },
     "execution_count": 56,
     "metadata": {},
     "output_type": "execute_result"
    }
   ],
   "source": [
    "import numpy as np\n",
    "n=np.array([[[1,3,5,9],[2,4,6,8]],[[6,4,2,9],[3,8,5,1]],[[32,34,67,93],[12,46,83,45]]])\n",
    "print(n)\n",
    "np.shape(n)"
   ]
  },
  {
   "cell_type": "markdown",
   "id": "e82726ce",
   "metadata": {},
   "source": [
    "# 2.reshape():"
   ]
  },
  {
   "cell_type": "code",
   "execution_count": 127,
   "id": "ce3eef0d",
   "metadata": {},
   "outputs": [
    {
     "name": "stdout",
     "output_type": "stream",
     "text": [
      "[[1 3 5 9]\n",
      " [2 4 6 8]\n",
      " [6 4 2 9]]\n",
      "[[1 3]\n",
      " [5 9]\n",
      " [2 4]\n",
      " [6 8]\n",
      " [6 4]\n",
      " [2 9]]\n"
     ]
    }
   ],
   "source": [
    "import numpy as np\n",
    "print(e)\n",
    "h = np.reshape(e,(6,2))\n",
    "print(h)"
   ]
  },
  {
   "cell_type": "code",
   "execution_count": 128,
   "id": "70d2cbf4",
   "metadata": {},
   "outputs": [
    {
     "name": "stdout",
     "output_type": "stream",
     "text": [
      "[[1 3 5 9]\n",
      " [2 4 6 8]\n",
      " [6 4 2 9]]\n",
      "[[1 3 5 9]\n",
      " [2 4 6 8]\n",
      " [6 4 2 9]]\n"
     ]
    }
   ],
   "source": [
    "import numpy as np\n",
    "print(e)\n",
    "i = np.reshape(e,(3,4))\n",
    "print(i)"
   ]
  },
  {
   "cell_type": "code",
   "execution_count": 123,
   "id": "2c58989e",
   "metadata": {},
   "outputs": [
    {
     "name": "stdout",
     "output_type": "stream",
     "text": [
      "[[1 3 5 9]\n",
      " [2 4 6 8]\n",
      " [6 4 2 9]]\n"
     ]
    },
    {
     "data": {
      "text/plain": [
       "array([[1, 3, 5, 9, 2, 4],\n",
       "       [6, 8, 6, 4, 2, 9]])"
      ]
     },
     "execution_count": 123,
     "metadata": {},
     "output_type": "execute_result"
    }
   ],
   "source": [
    "import numpy as np\n",
    "print(e)\n",
    "np.reshape(e,(2,6))"
   ]
  },
  {
   "cell_type": "code",
   "execution_count": 57,
   "id": "e6783299",
   "metadata": {},
   "outputs": [
    {
     "name": "stdout",
     "output_type": "stream",
     "text": [
      "[12 14 16 18 20 22]\n",
      "1\n",
      "\n",
      "[[12 14 16]\n",
      " [18 20 22]]\n",
      "2\n"
     ]
    }
   ],
   "source": [
    "import numpy as np\n",
    "p = np.array([12,14,16,18,20,22])\n",
    "print(p)\n",
    "print(p.ndim)\n",
    "print()\n",
    "q=p.reshape(2,3)\n",
    "print(q)\n",
    "print(q.ndim)"
   ]
  },
  {
   "cell_type": "code",
   "execution_count": 59,
   "id": "533f26b5",
   "metadata": {},
   "outputs": [
    {
     "name": "stdout",
     "output_type": "stream",
     "text": [
      "[12 14 16 18 20 22]\n",
      "1\n",
      "\n",
      "[[12 14]\n",
      " [16 18]\n",
      " [20 22]]\n",
      "2\n"
     ]
    }
   ],
   "source": [
    "import numpy as np\n",
    "r = np.array([12,14,16,18,20,22])\n",
    "print(r)\n",
    "print(r.ndim)\n",
    "print()\n",
    "s=p.reshape(3,2)\n",
    "print(s)\n",
    "print(s.ndim)"
   ]
  },
  {
   "cell_type": "code",
   "execution_count": 62,
   "id": "add27548",
   "metadata": {},
   "outputs": [
    {
     "name": "stdout",
     "output_type": "stream",
     "text": [
      "[12 14 16 18 20 22]\n",
      "1\n",
      "\n",
      "[[12]\n",
      " [14]\n",
      " [16]\n",
      " [18]\n",
      " [20]\n",
      " [22]]\n",
      "2\n"
     ]
    }
   ],
   "source": [
    "import numpy as np\n",
    "t = np.array([12,14,16,18,20,22])\n",
    "print(t)\n",
    "print(t.ndim)\n",
    "print()\n",
    "u=p.reshape(6,1)\n",
    "print(u)\n",
    "print(u.ndim)"
   ]
  },
  {
   "cell_type": "code",
   "execution_count": 63,
   "id": "41b164fe",
   "metadata": {},
   "outputs": [
    {
     "name": "stdout",
     "output_type": "stream",
     "text": [
      "[12 14 16 18 20 22]\n",
      "1\n",
      "\n",
      "[[12 14 16 18 20 22]]\n",
      "2\n"
     ]
    }
   ],
   "source": [
    "import numpy as np\n",
    "v = np.array([12,14,16,18,20,22])\n",
    "print(v)\n",
    "print(v.ndim)\n",
    "print()\n",
    "w=v.reshape(1,6)\n",
    "print(w)\n",
    "print(w.ndim)"
   ]
  },
  {
   "cell_type": "code",
   "execution_count": 67,
   "id": "41e8b24f",
   "metadata": {},
   "outputs": [
    {
     "name": "stdout",
     "output_type": "stream",
     "text": [
      "[23 45 64 86 69 95 34 25 41]\n",
      "1\n",
      "\n",
      "[[23 45 64]\n",
      " [86 69 95]\n",
      " [34 25 41]]\n",
      "2\n"
     ]
    }
   ],
   "source": [
    "import numpy as np\n",
    "x = np.array(([23,45,64,86,69,95,34,25,41]))\n",
    "print(x)\n",
    "print(x.ndim)\n",
    "print()\n",
    "y=x.reshape(3,3)\n",
    "print(y)\n",
    "print(y.ndim)"
   ]
  },
  {
   "cell_type": "code",
   "execution_count": 68,
   "id": "f662afde",
   "metadata": {},
   "outputs": [
    {
     "name": "stdout",
     "output_type": "stream",
     "text": [
      "[23 45 64 86 69 95 34 25 41 52 93 63]\n",
      "1\n",
      "\n",
      "[[[23 45]\n",
      "  [64 86]\n",
      "  [69 95]]\n",
      "\n",
      " [[34 25]\n",
      "  [41 52]\n",
      "  [93 63]]]\n",
      "3\n"
     ]
    }
   ],
   "source": [
    "import numpy as np\n",
    "Z = np.array(([23,45,64,86,69,95,34,25,41,52,93,63]))\n",
    "print(Z)\n",
    "print(Z.ndim)\n",
    "print()\n",
    "z=Z.reshape(2,3,2)\n",
    "print(z)\n",
    "print(z.ndim)"
   ]
  },
  {
   "cell_type": "code",
   "execution_count": 69,
   "id": "817f0a58",
   "metadata": {},
   "outputs": [
    {
     "name": "stdout",
     "output_type": "stream",
     "text": [
      "[23 45 64 86 69 95 34 25 41 52 93 63]\n",
      "1\n",
      "\n",
      "[[[23 45]\n",
      "  [64 86]\n",
      "  [69 95]]\n",
      "\n",
      " [[34 25]\n",
      "  [41 52]\n",
      "  [93 63]]]\n",
      "3\n",
      "\n",
      "[23 45 64 86 69 95 34 25 41 52 93 63]\n",
      "1\n"
     ]
    }
   ],
   "source": [
    "import numpy as np\n",
    "A = np.array(([23,45,64,86,69,95,34,25,41,52,93,63]))\n",
    "print(A)\n",
    "print(A.ndim)\n",
    "print()\n",
    "a=A.reshape(2,3,2)\n",
    "print(a)\n",
    "print(a.ndim)\n",
    "print()\n",
    "B=a.reshape(-1)\n",
    "print(B)\n",
    "print(B.ndim)"
   ]
  },
  {
   "cell_type": "code",
   "execution_count": 22,
   "id": "e811b348",
   "metadata": {},
   "outputs": [
    {
     "name": "stdout",
     "output_type": "stream",
     "text": [
      "Array: [22 33 44 55 66 77 88 99]\n",
      "Size: 8\n",
      "Dimention: 1\n",
      "[[22 33]\n",
      " [44 55]\n",
      " [66 77]\n",
      " [88 99]]\n",
      "Dimensions: 2\n"
     ]
    }
   ],
   "source": [
    "import numpy as np\n",
    "l1 = [22,33,44,55,66,77,88,99]\n",
    "arr_1 = np.array(l1)\n",
    "print(\"Array:\",arr_1)\n",
    "print(\"Size:\",arr_1.size)\n",
    "print(\"Dimention:\",arr_1.ndim)\n",
    "a = arr_1.reshape(4,2)\n",
    "print(a)\n",
    "print(\"Dimensions:\",a.ndim)"
   ]
  },
  {
   "cell_type": "code",
   "execution_count": 23,
   "id": "c51dc708",
   "metadata": {},
   "outputs": [
    {
     "name": "stdout",
     "output_type": "stream",
     "text": [
      "Array: [22 33 44 55 66 77]\n",
      "Size: 6\n",
      "Dimention: 1\n",
      "[[22 33]\n",
      " [44 55]\n",
      " [66 77]]\n",
      "Dimensions: 2\n",
      "[[22 33 44]\n",
      " [55 66 77]]\n"
     ]
    }
   ],
   "source": [
    "import numpy as np\n",
    "l2 = [22,33,44,55,66,77]\n",
    "arr_2 = np.array(l2)\n",
    "print(\"Array:\",arr_2)\n",
    "print(\"Size:\",arr_2.size)\n",
    "print(\"Dimention:\",arr_2.ndim)\n",
    "c = arr_2.reshape(3,2)\n",
    "print(c)\n",
    "print(\"Dimensions:\",c.ndim)\n",
    "d = arr_2.reshape(2,3)\n",
    "print(d)"
   ]
  },
  {
   "cell_type": "code",
   "execution_count": 24,
   "id": "b2061b85",
   "metadata": {},
   "outputs": [
    {
     "name": "stdout",
     "output_type": "stream",
     "text": [
      "Array: [12 13 14 15 16 17 18 19]\n",
      "Size: 8\n",
      "Dimensions: 1\n",
      "[[[12 13]\n",
      "  [14 15]]\n",
      "\n",
      " [[16 17]\n",
      "  [18 19]]]\n",
      "Dimensions: 3\n"
     ]
    }
   ],
   "source": [
    "import numpy as np\n",
    "l3 = [12,13,14,15,16,17,18,19]\n",
    "arr_3 = np.array(l3)\n",
    "print(\"Array:\",arr_3)\n",
    "print(\"Size:\",arr_3.size)\n",
    "print(\"Dimensions:\",arr_3.ndim)\n",
    "x = arr_3.reshape(2,2,2)\n",
    "print(x)\n",
    "print(\"Dimensions:\",x.ndim)"
   ]
  },
  {
   "cell_type": "code",
   "execution_count": null,
   "id": "0ff20b3f",
   "metadata": {},
   "outputs": [],
   "source": []
  }
 ],
 "metadata": {
  "kernelspec": {
   "display_name": "Python 3 (ipykernel)",
   "language": "python",
   "name": "python3"
  },
  "language_info": {
   "codemirror_mode": {
    "name": "ipython",
    "version": 3
   },
   "file_extension": ".py",
   "mimetype": "text/x-python",
   "name": "python",
   "nbconvert_exporter": "python",
   "pygments_lexer": "ipython3",
   "version": "3.9.13"
  }
 },
 "nbformat": 4,
 "nbformat_minor": 5
}
