{
 "cells": [
  {
   "cell_type": "markdown",
   "id": "207890cf",
   "metadata": {},
   "source": [
    "# Arithmetic Operations"
   ]
  },
  {
   "cell_type": "markdown",
   "id": "a02aa44f",
   "metadata": {},
   "source": [
    "1. Addition\n",
    "\n",
    "2. Subtraction\n",
    "\n",
    "3. Multiplication\n",
    "\n",
    "4. Division\n",
    "\n",
    "5. Modulo\n",
    "\n",
    "6. Power\n",
    "\n",
    "7. Reciprocal\n",
    "\n",
    "8. Complex"
   ]
  },
  {
   "cell_type": "markdown",
   "id": "9365da36",
   "metadata": {},
   "source": [
    "# Rules for implementing Arithmetic OPerations:"
   ]
  },
  {
   "cell_type": "markdown",
   "id": "9a7173a3",
   "metadata": {},
   "source": [
    "1. Shapes of Two arrays must be equal.\n",
    "\n",
    "      numpy.shape(a)\n",
    "\n",
    "\n",
    "2. Second array should have atleast one dimension and the no: of elements in that dimension should be equal to first array.\n",
    "    \n",
    "      a = (3,3)\n",
    "\n",
    "      b = (3,) -possible\n",
    "\n",
    "      b = (2,2) -not possible\n",
    "\n",
    "\n",
    "3. Second array having single element."
   ]
  },
  {
   "cell_type": "markdown",
   "id": "d9ba4e70",
   "metadata": {},
   "source": [
    "# Rule-1:"
   ]
  },
  {
   "cell_type": "markdown",
   "id": "48e17e46",
   "metadata": {},
   "source": [
    "Element to element"
   ]
  },
  {
   "cell_type": "markdown",
   "id": "09f04339",
   "metadata": {},
   "source": [
    " x = [5,6],[8,9] -(2,2)=>shape of this array\n",
    "\n",
    " y = [4,3],[1,6] -(2,2)=>shape of this array"
   ]
  },
  {
   "cell_type": "markdown",
   "id": "125d495f",
   "metadata": {},
   "source": [
    "# Rule-2:"
   ]
  },
  {
   "cell_type": "markdown",
   "id": "40aaf682",
   "metadata": {},
   "source": [
    "m = [2,6],[8,4] -(2,2)\n",
    "\n",
    "n = [7,3] - (2,)\n",
    "\n",
    "   or\n",
    "    \n",
    "n = [7,3],[7,3] -(2,2)    - rule-2:Possible\n",
    "\n",
    "\n",
    "\n",
    "a = [3,9],[2,4] -(2,2)\n",
    "\n",
    "b = [8,9,2] -(3,)        - rule-2:Not Possible"
   ]
  },
  {
   "cell_type": "markdown",
   "id": "c037aedb",
   "metadata": {},
   "source": [
    "# Rule-3:"
   ]
  },
  {
   "cell_type": "markdown",
   "id": "b9c8010d",
   "metadata": {},
   "source": [
    "p = [3,2],[5,8]\n",
    "\n",
    "q = 9\n",
    "\n",
    "     or\n",
    "\n",
    "q = [9,9],[9,9]   -Rule-3:Possible"
   ]
  },
  {
   "cell_type": "markdown",
   "id": "57a39ac3",
   "metadata": {},
   "source": [
    "# Built-In functions for Arithmetic Operations in NumPy"
   ]
  },
  {
   "cell_type": "markdown",
   "id": "9d8b0d30",
   "metadata": {},
   "source": [
    "Addition - np.add(first_array, second_array)\n",
    "\n",
    "Subtraction - np.subtract(a,b)\n",
    "\n",
    "Multiplication - np.multiply(a,b)\n",
    "\n",
    "Division - np.divide(a,b)\n",
    "\n",
    "Modulo - np.mod(a,b) - b is a value\n",
    "\n",
    "Power - np.power(a,b)\n",
    "\n",
    "np.real(array)/np.imag(array)/np.conjugate(array)"
   ]
  },
  {
   "cell_type": "code",
   "execution_count": 2,
   "id": "5f17b6fc",
   "metadata": {},
   "outputs": [
    {
     "name": "stdout",
     "output_type": "stream",
     "text": [
      "[[3 6 9]\n",
      " [2 4 6]\n",
      " [1 5 7]] [[3 3 3]\n",
      " [3 3 3]\n",
      " [3 3 3]]\n",
      "[[3 6 9]\n",
      " [2 4 6]\n",
      " [1 5 7]] [[1 1 1]\n",
      " [1 1 1]\n",
      " [1 1 1]]\n"
     ]
    }
   ],
   "source": [
    "import numpy as np\n",
    "a = np.array([[3,6,9],[2,4,6],[1,5,7]])\n",
    "b = np.array([[3,3,3],[3,3,3],[3,3,3]])\n",
    "c = np.array([[1,1,1],[1,1,1],[1,1,1]])\n",
    "print(a,b)\n",
    "print(a,c)"
   ]
  },
  {
   "cell_type": "code",
   "execution_count": 3,
   "id": "1889e100",
   "metadata": {},
   "outputs": [
    {
     "name": "stdout",
     "output_type": "stream",
     "text": [
      "[[3 6 9]\n",
      " [2 4 6]\n",
      " [1 5 7]]\n"
     ]
    }
   ],
   "source": [
    "print(a)"
   ]
  },
  {
   "cell_type": "code",
   "execution_count": 4,
   "id": "b19faafd",
   "metadata": {},
   "outputs": [
    {
     "name": "stdout",
     "output_type": "stream",
     "text": [
      "[[3 3 3]\n",
      " [3 3 3]\n",
      " [3 3 3]]\n"
     ]
    }
   ],
   "source": [
    "print(b)"
   ]
  },
  {
   "cell_type": "code",
   "execution_count": 5,
   "id": "96556b75",
   "metadata": {},
   "outputs": [
    {
     "name": "stdout",
     "output_type": "stream",
     "text": [
      "[[1 1 1]\n",
      " [1 1 1]\n",
      " [1 1 1]]\n"
     ]
    }
   ],
   "source": [
    "print(c)"
   ]
  },
  {
   "cell_type": "code",
   "execution_count": 6,
   "id": "65ec9366",
   "metadata": {},
   "outputs": [
    {
     "data": {
      "text/plain": [
       "(3, 3)"
      ]
     },
     "execution_count": 6,
     "metadata": {},
     "output_type": "execute_result"
    }
   ],
   "source": [
    "np.shape(a)"
   ]
  },
  {
   "cell_type": "code",
   "execution_count": 7,
   "id": "e7ed1e01",
   "metadata": {},
   "outputs": [
    {
     "data": {
      "text/plain": [
       "(3, 3)"
      ]
     },
     "execution_count": 7,
     "metadata": {},
     "output_type": "execute_result"
    }
   ],
   "source": [
    "np.shape(b)"
   ]
  },
  {
   "cell_type": "code",
   "execution_count": 8,
   "id": "1f0acf80",
   "metadata": {},
   "outputs": [
    {
     "data": {
      "text/plain": [
       "(3, 3)"
      ]
     },
     "execution_count": 8,
     "metadata": {},
     "output_type": "execute_result"
    }
   ],
   "source": [
    "np.shape(c)"
   ]
  },
  {
   "cell_type": "code",
   "execution_count": 9,
   "id": "426ed13f",
   "metadata": {},
   "outputs": [
    {
     "name": "stdout",
     "output_type": "stream",
     "text": [
      "[25 45 65]\n"
     ]
    }
   ],
   "source": [
    "d = np.array([25,45,65])\n",
    "print(d)"
   ]
  },
  {
   "cell_type": "code",
   "execution_count": 10,
   "id": "64aa388d",
   "metadata": {},
   "outputs": [
    {
     "data": {
      "text/plain": [
       "(3,)"
      ]
     },
     "execution_count": 10,
     "metadata": {},
     "output_type": "execute_result"
    }
   ],
   "source": [
    "np.shape(d)"
   ]
  },
  {
   "cell_type": "code",
   "execution_count": 11,
   "id": "a2cbdf0d",
   "metadata": {},
   "outputs": [
    {
     "name": "stdout",
     "output_type": "stream",
     "text": [
      "[15 25]\n"
     ]
    }
   ],
   "source": [
    "f = np.array([15,25])\n",
    "print(f)"
   ]
  },
  {
   "cell_type": "code",
   "execution_count": 12,
   "id": "5f0a050b",
   "metadata": {},
   "outputs": [
    {
     "data": {
      "text/plain": [
       "(2,)"
      ]
     },
     "execution_count": 12,
     "metadata": {},
     "output_type": "execute_result"
    }
   ],
   "source": [
    "np.shape(f)"
   ]
  },
  {
   "cell_type": "code",
   "execution_count": 13,
   "id": "e10ad618",
   "metadata": {},
   "outputs": [
    {
     "data": {
      "text/plain": [
       "array([[ 6,  9, 12],\n",
       "       [ 5,  7,  9],\n",
       "       [ 4,  8, 10]])"
      ]
     },
     "execution_count": 13,
     "metadata": {},
     "output_type": "execute_result"
    }
   ],
   "source": [
    "np.add(a,b)"
   ]
  },
  {
   "cell_type": "code",
   "execution_count": 14,
   "id": "e32e9ffa",
   "metadata": {},
   "outputs": [
    {
     "data": {
      "text/plain": [
       "array([[ 4,  7, 10],\n",
       "       [ 3,  5,  7],\n",
       "       [ 2,  6,  8]])"
      ]
     },
     "execution_count": 14,
     "metadata": {},
     "output_type": "execute_result"
    }
   ],
   "source": [
    "np.add(a,c)"
   ]
  },
  {
   "cell_type": "code",
   "execution_count": 15,
   "id": "81520fd2",
   "metadata": {},
   "outputs": [
    {
     "name": "stdout",
     "output_type": "stream",
     "text": [
      "[10]\n"
     ]
    }
   ],
   "source": [
    "g = np.array([10])\n",
    "print(g)"
   ]
  },
  {
   "cell_type": "code",
   "execution_count": 16,
   "id": "622d4e2b",
   "metadata": {},
   "outputs": [
    {
     "data": {
      "text/plain": [
       "(1,)"
      ]
     },
     "execution_count": 16,
     "metadata": {},
     "output_type": "execute_result"
    }
   ],
   "source": [
    "np.shape(g)"
   ]
  },
  {
   "cell_type": "code",
   "execution_count": 17,
   "id": "507d7ad7",
   "metadata": {},
   "outputs": [
    {
     "data": {
      "text/plain": [
       "array([[13, 16, 19],\n",
       "       [12, 14, 16],\n",
       "       [11, 15, 17]])"
      ]
     },
     "execution_count": 17,
     "metadata": {},
     "output_type": "execute_result"
    }
   ],
   "source": [
    "np.add(a,g)"
   ]
  },
  {
   "cell_type": "code",
   "execution_count": 18,
   "id": "f23b9dcc",
   "metadata": {},
   "outputs": [
    {
     "data": {
      "text/plain": [
       "array([[-7, -4, -1],\n",
       "       [-8, -6, -4],\n",
       "       [-9, -5, -3]])"
      ]
     },
     "execution_count": 18,
     "metadata": {},
     "output_type": "execute_result"
    }
   ],
   "source": [
    "np.subtract(a,g)"
   ]
  },
  {
   "cell_type": "code",
   "execution_count": 19,
   "id": "b2e5b3dd",
   "metadata": {},
   "outputs": [
    {
     "data": {
      "text/plain": [
       "array([[30, 60, 90],\n",
       "       [20, 40, 60],\n",
       "       [10, 50, 70]])"
      ]
     },
     "execution_count": 19,
     "metadata": {},
     "output_type": "execute_result"
    }
   ],
   "source": [
    "np.multiply(a,g)"
   ]
  },
  {
   "cell_type": "code",
   "execution_count": 20,
   "id": "79813add",
   "metadata": {},
   "outputs": [
    {
     "data": {
      "text/plain": [
       "array([[0.3, 0.6, 0.9],\n",
       "       [0.2, 0.4, 0.6],\n",
       "       [0.1, 0.5, 0.7]])"
      ]
     },
     "execution_count": 20,
     "metadata": {},
     "output_type": "execute_result"
    }
   ],
   "source": [
    "np.divide(a,g)"
   ]
  },
  {
   "cell_type": "code",
   "execution_count": 21,
   "id": "aff14971",
   "metadata": {},
   "outputs": [
    {
     "data": {
      "text/plain": [
       "array([[1180052131,          0, -558216695],\n",
       "       [  33554432,          0,          0],\n",
       "       [         1, 1157650709, 1159739911]], dtype=int32)"
      ]
     },
     "execution_count": 21,
     "metadata": {},
     "output_type": "execute_result"
    }
   ],
   "source": [
    "np.power(a,d)"
   ]
  },
  {
   "cell_type": "code",
   "execution_count": 22,
   "id": "b849dd34",
   "metadata": {},
   "outputs": [
    {
     "data": {
      "text/plain": [
       "array([[3, 6, 9],\n",
       "       [2, 4, 6],\n",
       "       [1, 5, 7]], dtype=int32)"
      ]
     },
     "execution_count": 22,
     "metadata": {},
     "output_type": "execute_result"
    }
   ],
   "source": [
    "np.power(a,c)"
   ]
  },
  {
   "cell_type": "markdown",
   "id": "c0c4604a",
   "metadata": {},
   "source": [
    "# Possible Errors:"
   ]
  },
  {
   "cell_type": "code",
   "execution_count": 23,
   "id": "931c6114",
   "metadata": {},
   "outputs": [
    {
     "ename": "ValueError",
     "evalue": "operands could not be broadcast together with shapes (3,3) (2,) ",
     "output_type": "error",
     "traceback": [
      "\u001b[1;31m---------------------------------------------------------------------------\u001b[0m",
      "\u001b[1;31mValueError\u001b[0m                                Traceback (most recent call last)",
      "\u001b[1;32m~\\AppData\\Local\\Temp\\ipykernel_15096\\3521787197.py\u001b[0m in \u001b[0;36m<module>\u001b[1;34m\u001b[0m\n\u001b[1;32m----> 1\u001b[1;33m \u001b[0mnp\u001b[0m\u001b[1;33m.\u001b[0m\u001b[0madd\u001b[0m\u001b[1;33m(\u001b[0m\u001b[0ma\u001b[0m\u001b[1;33m,\u001b[0m\u001b[0mf\u001b[0m\u001b[1;33m)\u001b[0m\u001b[1;33m\u001b[0m\u001b[1;33m\u001b[0m\u001b[0m\n\u001b[0m",
      "\u001b[1;31mValueError\u001b[0m: operands could not be broadcast together with shapes (3,3) (2,) "
     ]
    }
   ],
   "source": [
    "np.add(a,f)"
   ]
  },
  {
   "cell_type": "code",
   "execution_count": 24,
   "id": "bd47245d",
   "metadata": {},
   "outputs": [
    {
     "ename": "ValueError",
     "evalue": "operands could not be broadcast together with shapes (3,3) (2,) ",
     "output_type": "error",
     "traceback": [
      "\u001b[1;31m---------------------------------------------------------------------------\u001b[0m",
      "\u001b[1;31mValueError\u001b[0m                                Traceback (most recent call last)",
      "\u001b[1;32m~\\AppData\\Local\\Temp\\ipykernel_15096\\4005079648.py\u001b[0m in \u001b[0;36m<module>\u001b[1;34m\u001b[0m\n\u001b[1;32m----> 1\u001b[1;33m \u001b[0mnp\u001b[0m\u001b[1;33m.\u001b[0m\u001b[0madd\u001b[0m\u001b[1;33m(\u001b[0m\u001b[0mb\u001b[0m\u001b[1;33m,\u001b[0m\u001b[0mf\u001b[0m\u001b[1;33m)\u001b[0m\u001b[1;33m\u001b[0m\u001b[1;33m\u001b[0m\u001b[0m\n\u001b[0m",
      "\u001b[1;31mValueError\u001b[0m: operands could not be broadcast together with shapes (3,3) (2,) "
     ]
    }
   ],
   "source": [
    "np.add(b,f)"
   ]
  },
  {
   "cell_type": "code",
   "execution_count": 25,
   "id": "6e63de81",
   "metadata": {},
   "outputs": [
    {
     "ename": "ValueError",
     "evalue": "operands could not be broadcast together with shapes (3,3) (2,) ",
     "output_type": "error",
     "traceback": [
      "\u001b[1;31m---------------------------------------------------------------------------\u001b[0m",
      "\u001b[1;31mValueError\u001b[0m                                Traceback (most recent call last)",
      "\u001b[1;32m~\\AppData\\Local\\Temp\\ipykernel_15096\\3480031990.py\u001b[0m in \u001b[0;36m<module>\u001b[1;34m\u001b[0m\n\u001b[1;32m----> 1\u001b[1;33m \u001b[0mnp\u001b[0m\u001b[1;33m.\u001b[0m\u001b[0msubtract\u001b[0m\u001b[1;33m(\u001b[0m\u001b[0mb\u001b[0m\u001b[1;33m,\u001b[0m\u001b[0mf\u001b[0m\u001b[1;33m)\u001b[0m\u001b[1;33m\u001b[0m\u001b[1;33m\u001b[0m\u001b[0m\n\u001b[0m",
      "\u001b[1;31mValueError\u001b[0m: operands could not be broadcast together with shapes (3,3) (2,) "
     ]
    }
   ],
   "source": [
    "np.subtract(b,f)"
   ]
  },
  {
   "cell_type": "code",
   "execution_count": 26,
   "id": "6171ecfb",
   "metadata": {},
   "outputs": [
    {
     "ename": "ValueError",
     "evalue": "operands could not be broadcast together with shapes (3,3) (2,) ",
     "output_type": "error",
     "traceback": [
      "\u001b[1;31m---------------------------------------------------------------------------\u001b[0m",
      "\u001b[1;31mValueError\u001b[0m                                Traceback (most recent call last)",
      "\u001b[1;32m~\\AppData\\Local\\Temp\\ipykernel_15096\\4084496114.py\u001b[0m in \u001b[0;36m<module>\u001b[1;34m\u001b[0m\n\u001b[1;32m----> 1\u001b[1;33m \u001b[0mnp\u001b[0m\u001b[1;33m.\u001b[0m\u001b[0mmultiply\u001b[0m\u001b[1;33m(\u001b[0m\u001b[0mb\u001b[0m\u001b[1;33m,\u001b[0m\u001b[0mf\u001b[0m\u001b[1;33m)\u001b[0m\u001b[1;33m\u001b[0m\u001b[1;33m\u001b[0m\u001b[0m\n\u001b[0m",
      "\u001b[1;31mValueError\u001b[0m: operands could not be broadcast together with shapes (3,3) (2,) "
     ]
    }
   ],
   "source": [
    "np.multiply(b,f)"
   ]
  },
  {
   "cell_type": "code",
   "execution_count": 27,
   "id": "08a9016d",
   "metadata": {},
   "outputs": [
    {
     "ename": "ValueError",
     "evalue": "operands could not be broadcast together with shapes (3,3) (2,) ",
     "output_type": "error",
     "traceback": [
      "\u001b[1;31m---------------------------------------------------------------------------\u001b[0m",
      "\u001b[1;31mValueError\u001b[0m                                Traceback (most recent call last)",
      "\u001b[1;32m~\\AppData\\Local\\Temp\\ipykernel_15096\\171444359.py\u001b[0m in \u001b[0;36m<module>\u001b[1;34m\u001b[0m\n\u001b[1;32m----> 1\u001b[1;33m \u001b[0mnp\u001b[0m\u001b[1;33m.\u001b[0m\u001b[0mdivide\u001b[0m\u001b[1;33m(\u001b[0m\u001b[0mb\u001b[0m\u001b[1;33m,\u001b[0m\u001b[0mf\u001b[0m\u001b[1;33m)\u001b[0m\u001b[1;33m\u001b[0m\u001b[1;33m\u001b[0m\u001b[0m\n\u001b[0m",
      "\u001b[1;31mValueError\u001b[0m: operands could not be broadcast together with shapes (3,3) (2,) "
     ]
    }
   ],
   "source": [
    "np.divide(b,f)"
   ]
  },
  {
   "cell_type": "code",
   "execution_count": 28,
   "id": "1933b73f",
   "metadata": {},
   "outputs": [
    {
     "ename": "ValueError",
     "evalue": "operands could not be broadcast together with shapes (3,3) (2,) ",
     "output_type": "error",
     "traceback": [
      "\u001b[1;31m---------------------------------------------------------------------------\u001b[0m",
      "\u001b[1;31mValueError\u001b[0m                                Traceback (most recent call last)",
      "\u001b[1;32m~\\AppData\\Local\\Temp\\ipykernel_15096\\4172080985.py\u001b[0m in \u001b[0;36m<module>\u001b[1;34m\u001b[0m\n\u001b[1;32m----> 1\u001b[1;33m \u001b[0mnp\u001b[0m\u001b[1;33m.\u001b[0m\u001b[0mpower\u001b[0m\u001b[1;33m(\u001b[0m\u001b[0mb\u001b[0m\u001b[1;33m,\u001b[0m\u001b[0mf\u001b[0m\u001b[1;33m)\u001b[0m\u001b[1;33m\u001b[0m\u001b[1;33m\u001b[0m\u001b[0m\n\u001b[0m",
      "\u001b[1;31mValueError\u001b[0m: operands could not be broadcast together with shapes (3,3) (2,) "
     ]
    }
   ],
   "source": [
    "np.power(b,f)"
   ]
  },
  {
   "cell_type": "code",
   "execution_count": 29,
   "id": "ee3ed14a",
   "metadata": {},
   "outputs": [
    {
     "data": {
      "text/plain": [
       "array([[59049, 59049, 59049],\n",
       "       [59049, 59049, 59049],\n",
       "       [59049, 59049, 59049]], dtype=int32)"
      ]
     },
     "execution_count": 29,
     "metadata": {},
     "output_type": "execute_result"
    }
   ],
   "source": [
    "np.power(b,g)"
   ]
  },
  {
   "cell_type": "code",
   "execution_count": 30,
   "id": "a81abfeb",
   "metadata": {},
   "outputs": [
    {
     "data": {
      "text/plain": [
       "array([[3, 6, 9],\n",
       "       [2, 4, 6],\n",
       "       [1, 5, 7]], dtype=int32)"
      ]
     },
     "execution_count": 30,
     "metadata": {},
     "output_type": "execute_result"
    }
   ],
   "source": [
    "np.mod(a,34)"
   ]
  },
  {
   "cell_type": "code",
   "execution_count": 48,
   "id": "7a65c2c5",
   "metadata": {},
   "outputs": [
    {
     "data": {
      "text/plain": [
       "array([[3, 3, 3],\n",
       "       [3, 3, 3],\n",
       "       [3, 3, 3]], dtype=int32)"
      ]
     },
     "execution_count": 48,
     "metadata": {},
     "output_type": "execute_result"
    }
   ],
   "source": [
    "np.mod(b,20)"
   ]
  },
  {
   "cell_type": "code",
   "execution_count": 49,
   "id": "03d7f97b",
   "metadata": {},
   "outputs": [
    {
     "data": {
      "text/plain": [
       "array([15, 25], dtype=int32)"
      ]
     },
     "execution_count": 49,
     "metadata": {},
     "output_type": "execute_result"
    }
   ],
   "source": [
    "np.mod(f,30)"
   ]
  },
  {
   "cell_type": "code",
   "execution_count": 50,
   "id": "e1529643",
   "metadata": {},
   "outputs": [
    {
     "data": {
      "text/plain": [
       "array([0], dtype=int32)"
      ]
     },
     "execution_count": 50,
     "metadata": {},
     "output_type": "execute_result"
    }
   ],
   "source": [
    "np.mod(g,10)"
   ]
  },
  {
   "cell_type": "code",
   "execution_count": 57,
   "id": "6851ecc9",
   "metadata": {},
   "outputs": [
    {
     "data": {
      "text/plain": [
       "array([[1, 1, 1],\n",
       "       [1, 1, 1],\n",
       "       [1, 1, 1]], dtype=int32)"
      ]
     },
     "execution_count": 57,
     "metadata": {},
     "output_type": "execute_result"
    }
   ],
   "source": [
    "np.mod(c,10)"
   ]
  },
  {
   "cell_type": "code",
   "execution_count": 52,
   "id": "e8fc959d",
   "metadata": {},
   "outputs": [
    {
     "data": {
      "text/plain": [
       "array([[0, 0, 0],\n",
       "       [0, 0, 0],\n",
       "       [1, 0, 0]], dtype=int32)"
      ]
     },
     "execution_count": 52,
     "metadata": {},
     "output_type": "execute_result"
    }
   ],
   "source": [
    "np.reciprocal(a)"
   ]
  },
  {
   "cell_type": "code",
   "execution_count": 53,
   "id": "0d2f214c",
   "metadata": {},
   "outputs": [
    {
     "data": {
      "text/plain": [
       "array([[0, 0, 0],\n",
       "       [0, 0, 0],\n",
       "       [0, 0, 0]], dtype=int32)"
      ]
     },
     "execution_count": 53,
     "metadata": {},
     "output_type": "execute_result"
    }
   ],
   "source": [
    "np.reciprocal(b)"
   ]
  },
  {
   "cell_type": "code",
   "execution_count": 54,
   "id": "6785de80",
   "metadata": {},
   "outputs": [
    {
     "data": {
      "text/plain": [
       "array([0, 0], dtype=int32)"
      ]
     },
     "execution_count": 54,
     "metadata": {},
     "output_type": "execute_result"
    }
   ],
   "source": [
    "np.reciprocal(f)"
   ]
  },
  {
   "cell_type": "code",
   "execution_count": 55,
   "id": "2749e866",
   "metadata": {},
   "outputs": [
    {
     "data": {
      "text/plain": [
       "array([0], dtype=int32)"
      ]
     },
     "execution_count": 55,
     "metadata": {},
     "output_type": "execute_result"
    }
   ],
   "source": [
    "np.reciprocal(g)"
   ]
  },
  {
   "cell_type": "code",
   "execution_count": 56,
   "id": "bd7b295d",
   "metadata": {},
   "outputs": [
    {
     "data": {
      "text/plain": [
       "array([[1, 1, 1],\n",
       "       [1, 1, 1],\n",
       "       [1, 1, 1]], dtype=int32)"
      ]
     },
     "execution_count": 56,
     "metadata": {},
     "output_type": "execute_result"
    }
   ],
   "source": [
    "np.reciprocal(c)"
   ]
  },
  {
   "cell_type": "code",
   "execution_count": 60,
   "id": "5860dc2a",
   "metadata": {},
   "outputs": [
    {
     "data": {
      "text/plain": [
       "array([0.5       , 2.5       , 1.66666667, 1.25      , 1.        ])"
      ]
     },
     "execution_count": 60,
     "metadata": {},
     "output_type": "execute_result"
    }
   ],
   "source": [
    "h = np.array([2,0.4,0.6,0.8,1.0])\n",
    "np.reciprocal(h)"
   ]
  },
  {
   "cell_type": "code",
   "execution_count": 63,
   "id": "521c6785",
   "metadata": {},
   "outputs": [
    {
     "name": "stdout",
     "output_type": "stream",
     "text": [
      "[ 5.+6.j 10.-5.j  9.+7.j]\n"
     ]
    }
   ],
   "source": [
    "complex_num = np.array([5+6j, 10-5j, 9+7j])\n",
    "print(complex_num)"
   ]
  },
  {
   "cell_type": "code",
   "execution_count": 64,
   "id": "a699a2cc",
   "metadata": {},
   "outputs": [
    {
     "data": {
      "text/plain": [
       "array([ 5., 10.,  9.])"
      ]
     },
     "execution_count": 64,
     "metadata": {},
     "output_type": "execute_result"
    }
   ],
   "source": [
    "np.real(complex_num)"
   ]
  },
  {
   "cell_type": "code",
   "execution_count": 65,
   "id": "53cd44f5",
   "metadata": {},
   "outputs": [
    {
     "data": {
      "text/plain": [
       "array([ 6., -5.,  7.])"
      ]
     },
     "execution_count": 65,
     "metadata": {},
     "output_type": "execute_result"
    }
   ],
   "source": [
    "np.imag(complex_num)"
   ]
  },
  {
   "cell_type": "code",
   "execution_count": 66,
   "id": "58f6bc6c",
   "metadata": {},
   "outputs": [
    {
     "data": {
      "text/plain": [
       "array([ 5.-6.j, 10.+5.j,  9.-7.j])"
      ]
     },
     "execution_count": 66,
     "metadata": {},
     "output_type": "execute_result"
    }
   ],
   "source": [
    "np.conjugate(complex_num)"
   ]
  },
  {
   "cell_type": "code",
   "execution_count": 68,
   "id": "19d3c74f",
   "metadata": {},
   "outputs": [
    {
     "name": "stdout",
     "output_type": "stream",
     "text": [
      "[ 5.+6.j 10.-5.j  9.+7.j]\n"
     ]
    }
   ],
   "source": [
    "print(complex_num)"
   ]
  },
  {
   "cell_type": "code",
   "execution_count": 13,
   "id": "b7491af8",
   "metadata": {},
   "outputs": [
    {
     "name": "stdout",
     "output_type": "stream",
     "text": [
      "[[0 1]\n",
      " [2 3]\n",
      " [4 5]]\n",
      "\n",
      "[[ 6  7  8]\n",
      " [ 9 10 11]]\n",
      "\n",
      "1090\n",
      "\n",
      "[[ 9 10 11]\n",
      " [39 44 49]\n",
      " [69 78 87]]\n",
      "\n"
     ]
    }
   ],
   "source": [
    "import numpy as np\n",
    "arr_1 = np.array([2,4,6,8,12,14])\n",
    "arr_2 = np.array([18,16,19,23,25,28])\n",
    "arr_3 = np.arange(6).reshape(3,2)\n",
    "arr_4 = np.arange(6,12).reshape(2,3)\n",
    "print(arr_3)\n",
    "print()\n",
    "print(arr_4)\n",
    "print()\n",
    "print(arr_1.dot(arr_2)) \n",
    "print()\n",
    "print(arr_3.dot(arr_4))\n",
    "print()\n"
   ]
  },
  {
   "cell_type": "raw",
   "id": "1e30e21e",
   "metadata": {},
   "source": [
    "import \n",
    "arr_1 = np.array([2,4,6,8,12,14])\n",
    "arr_2 = np.array([18,16,19,23,25,28])\n",
    "arr_3 = np.arange(6).reshape(3,2)\n",
    "arr_4 = np.arange(6,12).reshape(2,3)\n",
    "print(arr_4.max())"
   ]
  },
  {
   "cell_type": "code",
   "execution_count": null,
   "id": "4ee28131",
   "metadata": {},
   "outputs": [],
   "source": []
  },
  {
   "cell_type": "code",
   "execution_count": null,
   "id": "dd09f5c6",
   "metadata": {},
   "outputs": [],
   "source": []
  },
  {
   "cell_type": "code",
   "execution_count": null,
   "id": "cc71b226",
   "metadata": {},
   "outputs": [],
   "source": []
  },
  {
   "cell_type": "code",
   "execution_count": null,
   "id": "032e5a2d",
   "metadata": {},
   "outputs": [],
   "source": []
  },
  {
   "cell_type": "code",
   "execution_count": null,
   "id": "a5bf66f0",
   "metadata": {},
   "outputs": [],
   "source": []
  },
  {
   "cell_type": "code",
   "execution_count": 1,
   "id": "ab1c291a",
   "metadata": {},
   "outputs": [],
   "source": [
    "import numpy as np\n",
    "arr_1 = np.array([2,4,6,8,12,14])\n",
    "arr_2 = np.array([18,16,19,23,25,28])"
   ]
  },
  {
   "cell_type": "code",
   "execution_count": 2,
   "id": "52e7ac92",
   "metadata": {},
   "outputs": [
    {
     "data": {
      "text/plain": [
       "array([-16, -12, -13, -15, -13, -14])"
      ]
     },
     "execution_count": 2,
     "metadata": {},
     "output_type": "execute_result"
    }
   ],
   "source": [
    "arr_1 - arr_2"
   ]
  },
  {
   "cell_type": "code",
   "execution_count": 3,
   "id": "a170272e",
   "metadata": {},
   "outputs": [
    {
     "data": {
      "text/plain": [
       "array([ 36,  64, 114, 184, 300, 392])"
      ]
     },
     "execution_count": 3,
     "metadata": {},
     "output_type": "execute_result"
    }
   ],
   "source": [
    "arr_1 * arr_2"
   ]
  },
  {
   "cell_type": "code",
   "execution_count": 4,
   "id": "9d42ffc2",
   "metadata": {},
   "outputs": [
    {
     "data": {
      "text/plain": [
       "array([ 4,  8, 12, 16, 24, 28])"
      ]
     },
     "execution_count": 4,
     "metadata": {},
     "output_type": "execute_result"
    }
   ],
   "source": [
    "arr_1 * 2"
   ]
  },
  {
   "cell_type": "code",
   "execution_count": 6,
   "id": "6aad7b16",
   "metadata": {},
   "outputs": [
    {
     "data": {
      "text/plain": [
       "array([False,  True,  True,  True,  True,  True])"
      ]
     },
     "execution_count": 6,
     "metadata": {},
     "output_type": "execute_result"
    }
   ],
   "source": [
    "arr_1 > 2"
   ]
  },
  {
   "cell_type": "code",
   "execution_count": 7,
   "id": "4fb9755e",
   "metadata": {},
   "outputs": [
    {
     "data": {
      "text/plain": [
       "array([ True,  True,  True,  True,  True,  True])"
      ]
     },
     "execution_count": 7,
     "metadata": {},
     "output_type": "execute_result"
    }
   ],
   "source": [
    "arr_2 > 3"
   ]
  },
  {
   "cell_type": "code",
   "execution_count": 9,
   "id": "e0e1862f",
   "metadata": {},
   "outputs": [
    {
     "data": {
      "text/plain": [
       "array([ True, False, False, False, False, False])"
      ]
     },
     "execution_count": 9,
     "metadata": {},
     "output_type": "execute_result"
    }
   ],
   "source": [
    "arr_1 < 4"
   ]
  },
  {
   "cell_type": "code",
   "execution_count": 10,
   "id": "b749d54f",
   "metadata": {},
   "outputs": [
    {
     "data": {
      "text/plain": [
       "array([False, False, False, False, False, False])"
      ]
     },
     "execution_count": 10,
     "metadata": {},
     "output_type": "execute_result"
    }
   ],
   "source": [
    "arr_2 < 3"
   ]
  },
  {
   "cell_type": "markdown",
   "id": "a43b72fb",
   "metadata": {},
   "source": [
    "# Statistical Operations"
   ]
  },
  {
   "cell_type": "markdown",
   "id": "45077ae0",
   "metadata": {},
   "source": [
    "1. amin() - minimum element\n",
    "\n",
    "     axis = 0\n",
    "    \n",
    "     axis = 1\n",
    "        \n",
    "     complete array\n",
    "\n",
    "\n",
    "2. amax() - maximum element\n",
    "\n",
    "     axis = 0\n",
    "    \n",
    "     axis = 1\n",
    "        \n",
    "     complete array\n",
    "\n",
    "\n",
    "3. average() - Average\n",
    "  \n",
    "    complete array\n",
    "    \n",
    "    weightedaverage\n",
    "\n",
    "\n",
    "4. mean() - mean\n",
    "\n",
    "    \n",
    "5. median() - median\n",
    "\n",
    "\n",
    "6. var() - variance\n",
    "\n",
    "\n",
    "7. std() - Standard deviation"
   ]
  },
  {
   "cell_type": "code",
   "execution_count": 32,
   "id": "04eec1d8",
   "metadata": {},
   "outputs": [
    {
     "name": "stdout",
     "output_type": "stream",
     "text": [
      "[[30 60 90]\n",
      " [10 20 40]\n",
      " [50 70 80]]\n"
     ]
    }
   ],
   "source": [
    "import numpy as np\n",
    "x = np.array([[30,60,90],[10,20,40],[50,70,80]])\n",
    "print(x)"
   ]
  },
  {
   "cell_type": "code",
   "execution_count": 71,
   "id": "040a37ee",
   "metadata": {},
   "outputs": [
    {
     "data": {
      "text/plain": [
       "10"
      ]
     },
     "execution_count": 71,
     "metadata": {},
     "output_type": "execute_result"
    }
   ],
   "source": [
    "np.amin(x)"
   ]
  },
  {
   "cell_type": "code",
   "execution_count": 73,
   "id": "fc14facb",
   "metadata": {},
   "outputs": [
    {
     "data": {
      "text/plain": [
       "array([30, 10, 50])"
      ]
     },
     "execution_count": 73,
     "metadata": {},
     "output_type": "execute_result"
    }
   ],
   "source": [
    "np.amin(x,axis=1)"
   ]
  },
  {
   "cell_type": "code",
   "execution_count": 74,
   "id": "4ab07515",
   "metadata": {},
   "outputs": [
    {
     "data": {
      "text/plain": [
       "array([10, 20, 40])"
      ]
     },
     "execution_count": 74,
     "metadata": {},
     "output_type": "execute_result"
    }
   ],
   "source": [
    "np.amin(x,axis=0)"
   ]
  },
  {
   "cell_type": "code",
   "execution_count": 75,
   "id": "84bd66f7",
   "metadata": {},
   "outputs": [
    {
     "data": {
      "text/plain": [
       "90"
      ]
     },
     "execution_count": 75,
     "metadata": {},
     "output_type": "execute_result"
    }
   ],
   "source": [
    "np.amax(x)"
   ]
  },
  {
   "cell_type": "code",
   "execution_count": 77,
   "id": "169d338c",
   "metadata": {},
   "outputs": [
    {
     "data": {
      "text/plain": [
       "array([90, 40, 80])"
      ]
     },
     "execution_count": 77,
     "metadata": {},
     "output_type": "execute_result"
    }
   ],
   "source": [
    "np.amax(x,axis=1)"
   ]
  },
  {
   "cell_type": "code",
   "execution_count": 78,
   "id": "3ab923e2",
   "metadata": {},
   "outputs": [
    {
     "data": {
      "text/plain": [
       "array([50, 70, 90])"
      ]
     },
     "execution_count": 78,
     "metadata": {},
     "output_type": "execute_result"
    }
   ],
   "source": [
    "np.amax(x,axis=0)"
   ]
  },
  {
   "cell_type": "code",
   "execution_count": 79,
   "id": "cb45a497",
   "metadata": {},
   "outputs": [
    {
     "data": {
      "text/plain": [
       "50.0"
      ]
     },
     "execution_count": 79,
     "metadata": {},
     "output_type": "execute_result"
    }
   ],
   "source": [
    "np.average(x)"
   ]
  },
  {
   "cell_type": "code",
   "execution_count": 34,
   "id": "3b8abfa8",
   "metadata": {},
   "outputs": [
    {
     "name": "stdout",
     "output_type": "stream",
     "text": [
      "[12 13 14]\n"
     ]
    }
   ],
   "source": [
    "w = np.array([12,13,14])\n",
    "print(w)"
   ]
  },
  {
   "cell_type": "markdown",
   "id": "8bcbf610",
   "metadata": {},
   "source": [
    "# Possible Error:"
   ]
  },
  {
   "cell_type": "code",
   "execution_count": 35,
   "id": "0d313ed2",
   "metadata": {},
   "outputs": [
    {
     "ename": "TypeError",
     "evalue": "Axis must be specified when shapes of a and weights differ.",
     "output_type": "error",
     "traceback": [
      "\u001b[1;31m---------------------------------------------------------------------------\u001b[0m",
      "\u001b[1;31mTypeError\u001b[0m                                 Traceback (most recent call last)",
      "\u001b[1;32m~\\AppData\\Local\\Temp\\ipykernel_15096\\3838473007.py\u001b[0m in \u001b[0;36m<module>\u001b[1;34m\u001b[0m\n\u001b[1;32m----> 1\u001b[1;33m \u001b[0mnp\u001b[0m\u001b[1;33m.\u001b[0m\u001b[0maverage\u001b[0m\u001b[1;33m(\u001b[0m\u001b[0mx\u001b[0m\u001b[1;33m,\u001b[0m\u001b[0mweights\u001b[0m\u001b[1;33m=\u001b[0m\u001b[0mw\u001b[0m\u001b[1;33m)\u001b[0m\u001b[1;33m\u001b[0m\u001b[1;33m\u001b[0m\u001b[0m\n\u001b[0m",
      "\u001b[1;32m<__array_function__ internals>\u001b[0m in \u001b[0;36maverage\u001b[1;34m(*args, **kwargs)\u001b[0m\n",
      "\u001b[1;32mC:\\anaconda\\lib\\site-packages\\numpy\\lib\\function_base.py\u001b[0m in \u001b[0;36maverage\u001b[1;34m(a, axis, weights, returned)\u001b[0m\n\u001b[0;32m    391\u001b[0m         \u001b[1;32mif\u001b[0m \u001b[0ma\u001b[0m\u001b[1;33m.\u001b[0m\u001b[0mshape\u001b[0m \u001b[1;33m!=\u001b[0m \u001b[0mwgt\u001b[0m\u001b[1;33m.\u001b[0m\u001b[0mshape\u001b[0m\u001b[1;33m:\u001b[0m\u001b[1;33m\u001b[0m\u001b[1;33m\u001b[0m\u001b[0m\n\u001b[0;32m    392\u001b[0m             \u001b[1;32mif\u001b[0m \u001b[0maxis\u001b[0m \u001b[1;32mis\u001b[0m \u001b[1;32mNone\u001b[0m\u001b[1;33m:\u001b[0m\u001b[1;33m\u001b[0m\u001b[1;33m\u001b[0m\u001b[0m\n\u001b[1;32m--> 393\u001b[1;33m                 raise TypeError(\n\u001b[0m\u001b[0;32m    394\u001b[0m                     \u001b[1;34m\"Axis must be specified when shapes of a and weights \"\u001b[0m\u001b[1;33m\u001b[0m\u001b[1;33m\u001b[0m\u001b[0m\n\u001b[0;32m    395\u001b[0m                     \"differ.\")\n",
      "\u001b[1;31mTypeError\u001b[0m: Axis must be specified when shapes of a and weights differ."
     ]
    }
   ],
   "source": [
    "np.average(x,weights=w)"
   ]
  },
  {
   "cell_type": "code",
   "execution_count": 82,
   "id": "e5a208d9",
   "metadata": {},
   "outputs": [
    {
     "data": {
      "text/plain": [
       "array([30.51282051, 50.25641026, 69.74358974])"
      ]
     },
     "execution_count": 82,
     "metadata": {},
     "output_type": "execute_result"
    }
   ],
   "source": [
    "np.average(x,weights=w,axis=0)"
   ]
  },
  {
   "cell_type": "code",
   "execution_count": 88,
   "id": "ea92c964",
   "metadata": {},
   "outputs": [
    {
     "data": {
      "text/plain": [
       "array([61.53846154, 24.1025641 , 67.43589744])"
      ]
     },
     "execution_count": 88,
     "metadata": {},
     "output_type": "execute_result"
    }
   ],
   "source": [
    "np.average(x,weights=w,axis=1)"
   ]
  },
  {
   "cell_type": "code",
   "execution_count": 84,
   "id": "01a4f5b9",
   "metadata": {},
   "outputs": [
    {
     "name": "stdout",
     "output_type": "stream",
     "text": [
      "[1 2 3]\n"
     ]
    }
   ],
   "source": [
    "w1 = np.array([1,2,3])\n",
    "print(w1)"
   ]
  },
  {
   "cell_type": "code",
   "execution_count": 86,
   "id": "3e5ade90",
   "metadata": {},
   "outputs": [
    {
     "data": {
      "text/plain": [
       "array([33.33333333, 51.66666667, 68.33333333])"
      ]
     },
     "execution_count": 86,
     "metadata": {},
     "output_type": "execute_result"
    }
   ],
   "source": [
    "np.average(x,weights=w1,axis=0)"
   ]
  },
  {
   "cell_type": "code",
   "execution_count": 87,
   "id": "501766fb",
   "metadata": {},
   "outputs": [
    {
     "data": {
      "text/plain": [
       "array([70.        , 28.33333333, 71.66666667])"
      ]
     },
     "execution_count": 87,
     "metadata": {},
     "output_type": "execute_result"
    }
   ],
   "source": [
    "np.average(x,weights=w1,axis=1)"
   ]
  },
  {
   "cell_type": "code",
   "execution_count": 89,
   "id": "4ffeb020",
   "metadata": {},
   "outputs": [
    {
     "data": {
      "text/plain": [
       "50.0"
      ]
     },
     "execution_count": 89,
     "metadata": {},
     "output_type": "execute_result"
    }
   ],
   "source": [
    "np.mean(x)"
   ]
  },
  {
   "cell_type": "code",
   "execution_count": 90,
   "id": "51c79da9",
   "metadata": {},
   "outputs": [
    {
     "data": {
      "text/plain": [
       "array([30., 50., 70.])"
      ]
     },
     "execution_count": 90,
     "metadata": {},
     "output_type": "execute_result"
    }
   ],
   "source": [
    "np.mean(x,axis=0)"
   ]
  },
  {
   "cell_type": "code",
   "execution_count": 91,
   "id": "a1e94a6c",
   "metadata": {},
   "outputs": [
    {
     "data": {
      "text/plain": [
       "array([60.        , 23.33333333, 66.66666667])"
      ]
     },
     "execution_count": 91,
     "metadata": {},
     "output_type": "execute_result"
    }
   ],
   "source": [
    "np.mean(x,axis=1)"
   ]
  },
  {
   "cell_type": "code",
   "execution_count": 92,
   "id": "57980580",
   "metadata": {},
   "outputs": [
    {
     "data": {
      "text/plain": [
       "50.0"
      ]
     },
     "execution_count": 92,
     "metadata": {},
     "output_type": "execute_result"
    }
   ],
   "source": [
    "np.median(x)"
   ]
  },
  {
   "cell_type": "code",
   "execution_count": 93,
   "id": "0c071e82",
   "metadata": {},
   "outputs": [
    {
     "data": {
      "text/plain": [
       "array([30., 60., 80.])"
      ]
     },
     "execution_count": 93,
     "metadata": {},
     "output_type": "execute_result"
    }
   ],
   "source": [
    "np.median(x,axis=0)"
   ]
  },
  {
   "cell_type": "code",
   "execution_count": 94,
   "id": "95549020",
   "metadata": {},
   "outputs": [
    {
     "data": {
      "text/plain": [
       "array([60., 20., 70.])"
      ]
     },
     "execution_count": 94,
     "metadata": {},
     "output_type": "execute_result"
    }
   ],
   "source": [
    "np.median(x,axis=1)"
   ]
  },
  {
   "cell_type": "code",
   "execution_count": 95,
   "id": "894205ab",
   "metadata": {},
   "outputs": [
    {
     "data": {
      "text/plain": [
       "666.6666666666666"
      ]
     },
     "execution_count": 95,
     "metadata": {},
     "output_type": "execute_result"
    }
   ],
   "source": [
    "np.var(x)"
   ]
  },
  {
   "cell_type": "code",
   "execution_count": 96,
   "id": "598ded8a",
   "metadata": {},
   "outputs": [
    {
     "data": {
      "text/plain": [
       "25.81988897471611"
      ]
     },
     "execution_count": 96,
     "metadata": {},
     "output_type": "execute_result"
    }
   ],
   "source": [
    "np.std(x)"
   ]
  }
 ],
 "metadata": {
  "kernelspec": {
   "display_name": "Python 3 (ipykernel)",
   "language": "python",
   "name": "python3"
  },
  "language_info": {
   "codemirror_mode": {
    "name": "ipython",
    "version": 3
   },
   "file_extension": ".py",
   "mimetype": "text/x-python",
   "name": "python",
   "nbconvert_exporter": "python",
   "pygments_lexer": "ipython3",
   "version": "3.9.13"
  }
 },
 "nbformat": 4,
 "nbformat_minor": 5
}
